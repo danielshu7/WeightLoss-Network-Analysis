{
 "cells": [
  {
   "cell_type": "markdown",
   "id": "9e3c6dfc",
   "metadata": {},
   "source": [
    "# Checking rMSE If We Predict Original Weight For All Users"
   ]
  },
  {
   "cell_type": "code",
   "execution_count": 1,
   "id": "e8e2b293",
   "metadata": {},
   "outputs": [],
   "source": [
    "import pandas as pd\n",
    "import numpy as np"
   ]
  },
  {
   "cell_type": "code",
   "execution_count": 2,
   "id": "09fec59d",
   "metadata": {},
   "outputs": [],
   "source": [
    "directory = \"ProcessedData\"\n",
    "orig = pd.read_csv(directory + \"/features.csv\", usecols = ['weight'])\n",
    "final = pd.read_csv(directory + \"/labels.csv\", usecols = ['latest_weight'])"
   ]
  },
  {
   "cell_type": "code",
   "execution_count": 3,
   "id": "640078be",
   "metadata": {},
   "outputs": [
    {
     "name": "stdout",
     "output_type": "stream",
     "text": [
      "       latest_weight\n",
      "0               74.7\n",
      "1               58.4\n",
      "2               59.2\n",
      "3               51.3\n",
      "4               52.0\n",
      "...              ...\n",
      "33009           51.0\n",
      "33010           57.8\n",
      "33011           74.4\n",
      "33012           52.1\n",
      "33013           64.0\n",
      "\n",
      "[33014 rows x 1 columns]\n"
     ]
    }
   ],
   "source": [
    "print(final)"
   ]
  },
  {
   "cell_type": "code",
   "execution_count": 4,
   "id": "3308f91b",
   "metadata": {},
   "outputs": [
    {
     "name": "stdout",
     "output_type": "stream",
     "text": [
      "5.935815065916302\n"
     ]
    }
   ],
   "source": [
    "np_orig = orig.to_numpy()\n",
    "np_final = final.to_numpy()\n",
    "print(np.sqrt(np.square(np_orig - np_final).mean()))"
   ]
  },
  {
   "cell_type": "markdown",
   "id": "d48471dd",
   "metadata": {},
   "source": [
    "# Finding Edge List Intersections Between the 3 Graphs"
   ]
  },
  {
   "cell_type": "code",
   "execution_count": 5,
   "id": "5994dc33",
   "metadata": {},
   "outputs": [],
   "source": [
    "def get_edge_list(network,is_undirected):\n",
    "    directory = \"ProcessedData\"\n",
    "    # read in edge list\n",
    "    assert network in [\"friend\", \"mention\", \"comment\"]\n",
    "    if(is_undirected):\n",
    "        path = directory + \"/\" + network + \"_edges_undirected.csv\"\n",
    "    else:\n",
    "        path = directory + \"/\" + network + \"_edges_directed.csv\"\n",
    "    edge_list = pd.read_csv(path)\n",
    "\n",
    "    # edge_list\n",
    "    return edge_list.to_numpy()"
   ]
  },
  {
   "cell_type": "code",
   "execution_count": 6,
   "id": "18800ca6",
   "metadata": {},
   "outputs": [],
   "source": [
    "is_undirected = False\n",
    "f_el = get_edge_list(\"friend\", is_undirected)\n",
    "m_el = get_edge_list(\"mention\", is_undirected)\n",
    "c_el = get_edge_list(\"comment\", is_undirected)"
   ]
  },
  {
   "cell_type": "code",
   "execution_count": 7,
   "id": "5b7ae0b1",
   "metadata": {},
   "outputs": [],
   "source": [
    "# convert to sets of rows\n",
    "f_set = set([tuple(x) for x in f_el])\n",
    "m_set = set([tuple(x) for x in m_el])\n",
    "c_set = set([tuple(x) for x in c_el])"
   ]
  },
  {
   "cell_type": "code",
   "execution_count": 8,
   "id": "b898f201",
   "metadata": {},
   "outputs": [],
   "source": [
    "fm_inter = f_set.intersection(m_set)\n",
    "fc_inter = f_set.intersection(c_set)\n",
    "mc_inter = m_set.intersection(c_set)"
   ]
  },
  {
   "cell_type": "code",
   "execution_count": 9,
   "id": "b4709e18",
   "metadata": {},
   "outputs": [
    {
     "name": "stdout",
     "output_type": "stream",
     "text": [
      "# of friend edges: 3280543\n",
      "# of mention edges: 1140037\n",
      "# of comment edges: 1609929\n"
     ]
    }
   ],
   "source": [
    "print(\"# of friend edges:\", f_el.shape[0])\n",
    "print(\"# of mention edges:\", m_el.shape[0])\n",
    "print(\"# of comment edges:\", c_el.shape[0])"
   ]
  },
  {
   "cell_type": "code",
   "execution_count": 10,
   "id": "513ef063",
   "metadata": {},
   "outputs": [
    {
     "name": "stdout",
     "output_type": "stream",
     "text": [
      "# edges in Friend-Mention intersection: 427986\n",
      "# edges in Friend-Comment intersection: 870551\n",
      "# edges in Mention-Comment intersection: 355278\n"
     ]
    }
   ],
   "source": [
    "print(\"# edges in Friend-Mention intersection:\", len(fm_inter))\n",
    "print(\"# edges in Friend-Comment intersection:\", len(fc_inter))\n",
    "print(\"# edges in Mention-Comment intersection:\", len(mc_inter))"
   ]
  },
  {
   "cell_type": "code",
   "execution_count": null,
   "id": "dfe75088",
   "metadata": {},
   "outputs": [],
   "source": []
  },
  {
   "cell_type": "code",
   "execution_count": null,
   "id": "7fcd9654",
   "metadata": {},
   "outputs": [],
   "source": []
  }
 ],
 "metadata": {
  "kernelspec": {
   "display_name": "Python [conda env:pytorch-G]",
   "language": "python",
   "name": "conda-env-pytorch-G-py"
  },
  "language_info": {
   "codemirror_mode": {
    "name": "ipython",
    "version": 3
   },
   "file_extension": ".py",
   "mimetype": "text/x-python",
   "name": "python",
   "nbconvert_exporter": "python",
   "pygments_lexer": "ipython3",
   "version": "3.8.13"
  }
 },
 "nbformat": 4,
 "nbformat_minor": 5
}
