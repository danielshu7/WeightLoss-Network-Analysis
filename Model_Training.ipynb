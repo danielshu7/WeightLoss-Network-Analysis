{
 "cells": [
  {
   "cell_type": "code",
   "execution_count": 1,
   "id": "dee16b68",
   "metadata": {},
   "outputs": [],
   "source": [
    "import pandas as pd\n",
    "import torch\n",
    "import torch.nn as nn\n",
    "import torch.nn.functional as F\n",
    "from torch_geometric.nn import GCNConv\n",
    "from torch_geometric.data import Data\n",
    "from torch_geometric.transforms import RandomNodeSplit"
   ]
  },
  {
   "cell_type": "code",
   "execution_count": 2,
   "id": "36ab217f",
   "metadata": {},
   "outputs": [],
   "source": [
    "# define GCN class for regression\n",
    "class MultiLayerGCNNet(torch.nn.Module):\n",
    "    def __init__(self, D_in, H, L):\n",
    "        super(MultiLayerGCNNet, self).__init__()\n",
    "        self.L = L\n",
    "        self.conv1 = GCNConv(D_in, H) #first\n",
    "        self.model = nn.ModuleList([self.conv1]) #adding first\n",
    "        self.model.extend([GCNConv(H, H) for _ in range(self.L-2)]) #adding others\n",
    "        self.convL = GCNConv(H,1) #last\n",
    "        self.model.append(self.convL) #adding last\n",
    "\n",
    "    def forward(self, data):\n",
    "        \"\"\"\n",
    "        In the forward function we accept a Tensor of input data and we must return\n",
    "        a Tensor of output data. We can use Modules defined in the constructor as\n",
    "        well as arbitrary operators on Tensors.\n",
    "        \"\"\"\n",
    "        x, edge_index = data.x, data.edge_index\n",
    "    \n",
    "        h = F.relu(self.model[0](x,edge_index)) #relu applied\n",
    "        for i in range(1,self.L-1):\n",
    "            h = F.relu(self.model[i](h,edge_index)) #relu applied\n",
    "        return self.model[-1](h,edge_index) #no relu\n",
    "    \n",
    "    \n",
    "class GCNNet(torch.nn.Module):\n",
    "    def __init__(self, D_in, H):\n",
    "        \"\"\"\n",
    "        In the constructor we instantiate two nn.Linear modules and assign them as\n",
    "        member variables.\n",
    "        \"\"\"\n",
    "        super(GCNNet, self).__init__()\n",
    "        self.conv1 = GCNConv(D_in, H)\n",
    "        self.conv2 = GCNConv(H,1)\n",
    "\n",
    "    def forward(self, data):\n",
    "        \"\"\"\n",
    "        In the forward function we accept a Tensor of input data and we must return\n",
    "        a Tensor of output data. We can use Modules defined in the constructor as\n",
    "        well as arbitrary operators on Tensors.\n",
    "        \"\"\"\n",
    "        x, edge_index = data.x, data.edge_index\n",
    "        \n",
    "        h = F.relu(self.conv1(x,edge_index))\n",
    "        y_pred = self.conv2(h,edge_index)\n",
    "        return y_pred"
   ]
  },
  {
   "cell_type": "code",
   "execution_count": 3,
   "id": "d3af6c8d",
   "metadata": {},
   "outputs": [],
   "source": [
    "# set device\n",
    "device = torch.device('cuda' if torch.cuda.is_available() else 'cpu')"
   ]
  },
  {
   "cell_type": "code",
   "execution_count": 4,
   "id": "749739e2",
   "metadata": {},
   "outputs": [],
   "source": [
    "# get feature/label data\n",
    "directory = \"ProcessedData\"\n",
    "features = pd.read_csv(directory + \"/features.csv\")\n",
    "labels = pd.read_csv(directory + \"/labels.csv\")\n",
    "torch_features = torch.from_numpy(features.iloc[:,1:].to_numpy()).float()\n",
    "torch_labels = torch.from_numpy(labels.iloc[:,[1]].to_numpy()).float()\n",
    "\n",
    "# Constructs PyG Data structure for specified network\n",
    "# network = \"friend\", \"mention\", or \"comment\"\n",
    "# returns PyG Data structure\n",
    "def get_network_data(network):\n",
    "    # read in edge list\n",
    "    assert network in [\"friend\",\"mention\",\"comment\"]\n",
    "    edge_list = pd.read_csv(directory + \"/\" + network + \"_edges.csv\")\n",
    "    \n",
    "    # convert data to appropriate form and generate an undirected PyG graph\n",
    "    edge_index = torch.from_numpy(edge_list.to_numpy())\n",
    "    net = Data(x=torch_features, edge_index=edge_index.t().contiguous(), y=torch_labels)\n",
    "    \n",
    "    # get train, val, test masks\n",
    "    train_val_test_splitter = RandomNodeSplit(num_val=.2,num_test=.2)\n",
    "    net = train_val_test_splitter(net)\n",
    "    \n",
    "    return net\n",
    "    #\n",
    "data = get_network_data(\"friend\").to(device)\n",
    "D_in = data.num_node_features"
   ]
  },
  {
   "cell_type": "code",
   "execution_count": 5,
   "id": "76cc8703",
   "metadata": {},
   "outputs": [],
   "source": [
    "# Define Parameters\n",
    "# H is hidden dimension; L is number of layers; lr is learning rate; wd is weight decay\n",
    "H = 16\n",
    "L = 3\n",
    "lr=0.05\n",
    "wd=5e-4\n",
    "num_epochs=500"
   ]
  },
  {
   "cell_type": "code",
   "execution_count": 6,
   "id": "4b6755b7",
   "metadata": {},
   "outputs": [],
   "source": [
    "# construct model & optimizer\n",
    "model = MultiLayerGCNNet(D_in,H,L).to(device)\n",
    "#model = GCNNet(D_in,H).to(device)\n",
    "optimizer = torch.optim.Adam(model.parameters(), lr=lr, weight_decay=wd)"
   ]
  },
  {
   "cell_type": "code",
   "execution_count": 7,
   "id": "9b71af51",
   "metadata": {},
   "outputs": [
    {
     "name": "stdout",
     "output_type": "stream",
     "text": [
      "100 1420.4969482421875\n",
      "200 307.09063720703125\n",
      "300 238.03077697753906\n",
      "400 227.12750244140625\n",
      "500 222.10626220703125\n"
     ]
    }
   ],
   "source": [
    "# model training\n",
    "model.train()\n",
    "for t in range(num_epochs):\n",
    "    y_pred = model(data) # forward pass\n",
    "    loss = F.mse_loss(y_pred[data.train_mask], data.y[data.train_mask]) # compute loss\n",
    "    if t % 100 == 99:\n",
    "        print(t+1, loss.item())\n",
    "    \n",
    "    # Zero gradients, perform a backward pass, and update the weights.\n",
    "    optimizer.zero_grad()\n",
    "    loss.backward()\n",
    "    optimizer.step()"
   ]
  },
  {
   "cell_type": "code",
   "execution_count": 8,
   "id": "4b230ceb",
   "metadata": {},
   "outputs": [
    {
     "name": "stdout",
     "output_type": "stream",
     "text": [
      "231.06484985351562\n"
     ]
    }
   ],
   "source": [
    "# get MSE values\n",
    "model.eval()\n",
    "pred = model(data)\n",
    "MSE = (pred[data.test_mask] - data.y[data.test_mask]).square().mean()\n",
    "print(MSE.item())"
   ]
  },
  {
   "cell_type": "code",
   "execution_count": 9,
   "id": "8d08b198",
   "metadata": {},
   "outputs": [
    {
     "name": "stdout",
     "output_type": "stream",
     "text": [
      "tensor([[37.2163],\n",
      "        [26.3435],\n",
      "        [20.9724],\n",
      "        ...,\n",
      "        [56.8292],\n",
      "        [72.2040],\n",
      "        [72.2048]], device='cuda:0', grad_fn=<IndexBackward0>)\n",
      "tensor([[65.8000],\n",
      "        [73.0000],\n",
      "        [74.7000],\n",
      "        ...,\n",
      "        [53.2000],\n",
      "        [57.5000],\n",
      "        [78.0000]], device='cuda:0')\n"
     ]
    }
   ],
   "source": [
    "print(pred[data.test_mask])\n",
    "print(data.y[data.test_mask])"
   ]
  },
  {
   "cell_type": "code",
   "execution_count": null,
   "id": "b190f808",
   "metadata": {},
   "outputs": [],
   "source": []
  },
  {
   "cell_type": "code",
   "execution_count": null,
   "id": "bf8dfe85",
   "metadata": {},
   "outputs": [],
   "source": []
  }
 ],
 "metadata": {
  "kernelspec": {
   "display_name": "Python [conda env:pytorch-G]",
   "language": "python",
   "name": "conda-env-pytorch-G-py"
  },
  "language_info": {
   "codemirror_mode": {
    "name": "ipython",
    "version": 3
   },
   "file_extension": ".py",
   "mimetype": "text/x-python",
   "name": "python",
   "nbconvert_exporter": "python",
   "pygments_lexer": "ipython3",
   "version": "3.8.13"
  }
 },
 "nbformat": 4,
 "nbformat_minor": 5
}
