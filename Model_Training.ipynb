{
 "cells": [
  {
   "cell_type": "code",
   "execution_count": null,
   "id": "dee16b68",
   "metadata": {},
   "outputs": [],
   "source": [
    "import pandas as pd\n",
    "import torch\n",
    "import torch.nn.functional as F\n",
    "from torch_geometric.nn import GCNConv\n",
    "from torch_geometric.data import Data"
   ]
  },
  {
   "cell_type": "code",
   "execution_count": null,
   "id": "36ab217f",
   "metadata": {},
   "outputs": [],
   "source": [
    "# load in data\n",
    "#x = \n",
    "#edge_list = \n",
    "#data = "
   ]
  },
  {
   "cell_type": "code",
   "execution_count": null,
   "id": "749739e2",
   "metadata": {},
   "outputs": [],
   "source": [
    "# define train, val, test masks"
   ]
  },
  {
   "cell_type": "code",
   "execution_count": null,
   "id": "76cc8703",
   "metadata": {},
   "outputs": [],
   "source": [
    "# define GCN class for regression\n",
    "class Regression_GCN(torch.nn.Module):\n",
    "    def __init__(self):\n",
    "        super().__init__(D_IN, H)\n",
    "        self.conv1 = GCNConv(D_IN, H)\n",
    "        self.conv2 = GCNConv(H, 1)\n",
    "\n",
    "    def forward(self, data):\n",
    "        x, edge_index = data.x, data.edge_index\n",
    "\n",
    "        x = self.conv1(x, edge_index)\n",
    "        x = F.relu(x)\n",
    "        x = self.conv2(x, edge_index)\n",
    "\n",
    "        return x"
   ]
  },
  {
   "cell_type": "code",
   "execution_count": null,
   "id": "4b6755b7",
   "metadata": {},
   "outputs": [],
   "source": [
    "# parameters\n",
    "D_IN = data.num_nodes\n",
    "H = 16\n",
    "lr = 0.01\n",
    "wd = 5e-4"
   ]
  },
  {
   "cell_type": "code",
   "execution_count": null,
   "id": "9b71af51",
   "metadata": {},
   "outputs": [],
   "source": [
    "# train model\n",
    "device = torch.device('cuda' if torch.cuda.is_available() else 'cpu')\n",
    "model = Regression_GCN().to(device)\n",
    "data = data.to(device)\n",
    "optimizer = torch.optim.Adam(model.parameters(), lr=lr, weight_decay=wd)\n",
    "\n",
    "model.train()\n",
    "for epoch in range(200):\n",
    "    optimizer.zero_grad()\n",
    "    out = model(data)\n",
    "    loss = F.nll_loss(out[data.train_mask], data.y[data.train_mask])\n",
    "    loss.backward()\n",
    "    optimizer.step()"
   ]
  },
  {
   "cell_type": "code",
   "execution_count": null,
   "id": "4b230ceb",
   "metadata": {},
   "outputs": [],
   "source": [
    "# get MSE values\n",
    "model.eval()\n",
    "pred = model(data)\n",
    "MSE = (pred[data.test_mask] - data.y[data.test_mask]).square().mean()\n",
    "print(MSE)"
   ]
  }
 ],
 "metadata": {
  "kernelspec": {
   "display_name": "Python [conda env:pytorch-G]",
   "language": "python",
   "name": "conda-env-pytorch-G-py"
  },
  "language_info": {
   "codemirror_mode": {
    "name": "ipython",
    "version": 3
   },
   "file_extension": ".py",
   "mimetype": "text/x-python",
   "name": "python",
   "nbconvert_exporter": "python",
   "pygments_lexer": "ipython3",
   "version": "3.8.13"
  }
 },
 "nbformat": 4,
 "nbformat_minor": 5
}
