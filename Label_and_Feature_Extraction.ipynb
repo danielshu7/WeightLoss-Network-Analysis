{
 "cells": [
  {
   "cell_type": "code",
   "execution_count": 1,
   "id": "f45be3ed",
   "metadata": {},
   "outputs": [],
   "source": [
    "import pandas as pd"
   ]
  },
  {
   "cell_type": "code",
   "execution_count": 2,
   "id": "97c57831",
   "metadata": {},
   "outputs": [],
   "source": [
    "# read in our selected nodes\n",
    "users = pd.read_csv(\"ProcessedData/included_users_(sorted).csv\", index_col=0)\n",
    "users_list = users.values.ravel().tolist()"
   ]
  },
  {
   "cell_type": "code",
   "execution_count": 3,
   "id": "08ed0871",
   "metadata": {},
   "outputs": [],
   "source": [
    "# read in consolidated user info\n",
    "all_user_info = pd.read_csv(\"ProcessedData/valid_user_info_consolidated.csv\", index_col=0)"
   ]
  },
  {
   "cell_type": "code",
   "execution_count": 4,
   "id": "a03d2dac",
   "metadata": {},
   "outputs": [],
   "source": [
    "# filter by selected nodes\n",
    "filtered_info = all_user_info.filter(items=users_list,axis=0)"
   ]
  },
  {
   "cell_type": "markdown",
   "id": "f5a0845e",
   "metadata": {},
   "source": [
    "# Features"
   ]
  },
  {
   "cell_type": "code",
   "execution_count": 5,
   "id": "3fb082c0",
   "metadata": {},
   "outputs": [],
   "source": [
    "# extract features & save\n",
    "features = filtered_info[[\"gender\",\"age\",\"height\",\"weight\",\"bmi\"]]\n",
    "features.to_csv(\"ProcessedData/features.csv\")"
   ]
  },
  {
   "cell_type": "code",
   "execution_count": 6,
   "id": "a6f0a7e8",
   "metadata": {},
   "outputs": [
    {
     "name": "stdout",
     "output_type": "stream",
     "text": [
      "          gender   age  height  weight    bmi\n",
      "user_id                                      \n",
      "4            2.0  34.0   165.0    75.0  27.55\n",
      "10           2.0  19.0   172.0    63.0  21.30\n",
      "27           2.0  23.0   155.0    46.7  19.44\n",
      "31           2.0  30.0   162.0    80.0  30.48\n",
      "33           2.0  25.0   175.0    65.0  21.22\n",
      "...          ...   ...     ...     ...    ...\n",
      "11943151     2.0  27.0   170.0    75.0  25.95\n",
      "11945237     2.0  23.0   168.0    66.5  23.56\n",
      "11948428     2.0  27.0   160.0    55.0  21.48\n",
      "11949862     2.0  19.0   163.0    58.1  21.87\n",
      "11950136     2.0  22.0   165.0    54.0  19.83\n",
      "\n",
      "[66195 rows x 5 columns]\n",
      "          gender   age  height  weight    bmi\n",
      "user_id                                      \n",
      "4            2.0  34.0   165.0    75.0  27.55\n",
      "10           2.0  19.0   172.0    63.0  21.30\n",
      "27           2.0  23.0   155.0    46.7  19.44\n",
      "31           2.0  30.0   162.0    80.0  30.48\n",
      "33           2.0  25.0   175.0    65.0  21.22\n",
      "...          ...   ...     ...     ...    ...\n",
      "11943151     2.0  27.0   170.0    75.0  25.95\n",
      "11945237     2.0  23.0   168.0    66.5  23.56\n",
      "11948428     2.0  27.0   160.0    55.0  21.48\n",
      "11949862     2.0  19.0   163.0    58.1  21.87\n",
      "11950136     2.0  22.0   165.0    54.0  19.83\n",
      "\n",
      "[66195 rows x 5 columns]\n"
     ]
    }
   ],
   "source": [
    "print(features)\n",
    "# to read back:\n",
    "print(pd.read_csv(\"ProcessedData/features.csv\", index_col=0))"
   ]
  },
  {
   "cell_type": "markdown",
   "id": "d8566aa6",
   "metadata": {},
   "source": [
    "# Labels"
   ]
  },
  {
   "cell_type": "code",
   "execution_count": 7,
   "id": "572e4e6b",
   "metadata": {},
   "outputs": [],
   "source": [
    "# get labels & save\n",
    "labels = filtered_info[[\"latest_weight\"]]\n",
    "labels.to_csv(\"ProcessedData/labels.csv\")"
   ]
  },
  {
   "cell_type": "code",
   "execution_count": 8,
   "id": "d756bfcd",
   "metadata": {},
   "outputs": [
    {
     "name": "stdout",
     "output_type": "stream",
     "text": [
      "          latest_weight\n",
      "user_id                \n",
      "4                  73.0\n",
      "10                 59.8\n",
      "27                 46.8\n",
      "31                 74.7\n",
      "33                 58.4\n",
      "...                 ...\n",
      "11943151           71.4\n",
      "11945237           65.7\n",
      "11948428           53.2\n",
      "11949862           56.8\n",
      "11950136           53.1\n",
      "\n",
      "[66195 rows x 1 columns]\n",
      "          latest_weight\n",
      "user_id                \n",
      "4                  73.0\n",
      "10                 59.8\n",
      "27                 46.8\n",
      "31                 74.7\n",
      "33                 58.4\n",
      "...                 ...\n",
      "11943151           71.4\n",
      "11945237           65.7\n",
      "11948428           53.2\n",
      "11949862           56.8\n",
      "11950136           53.1\n",
      "\n",
      "[66195 rows x 1 columns]\n"
     ]
    }
   ],
   "source": [
    "print(labels)\n",
    "# to read back:\n",
    "print(pd.read_csv(\"ProcessedData/labels.csv\", index_col=0))"
   ]
  },
  {
   "cell_type": "code",
   "execution_count": null,
   "id": "a4929203",
   "metadata": {},
   "outputs": [],
   "source": []
  },
  {
   "cell_type": "code",
   "execution_count": null,
   "id": "67065abc",
   "metadata": {},
   "outputs": [],
   "source": []
  },
  {
   "cell_type": "code",
   "execution_count": null,
   "id": "4286b99b",
   "metadata": {},
   "outputs": [],
   "source": []
  }
 ],
 "metadata": {
  "kernelspec": {
   "display_name": "Python [conda env:pytorch-G]",
   "language": "python",
   "name": "conda-env-pytorch-G-py"
  },
  "language_info": {
   "codemirror_mode": {
    "name": "ipython",
    "version": 3
   },
   "file_extension": ".py",
   "mimetype": "text/x-python",
   "name": "python",
   "nbconvert_exporter": "python",
   "pygments_lexer": "ipython3",
   "version": "3.8.13"
  }
 },
 "nbformat": 4,
 "nbformat_minor": 5
}
