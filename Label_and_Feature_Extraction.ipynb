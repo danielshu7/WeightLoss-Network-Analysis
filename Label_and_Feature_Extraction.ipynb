{
 "cells": [
  {
   "cell_type": "code",
   "execution_count": 1,
   "id": "f45be3ed",
   "metadata": {},
   "outputs": [],
   "source": [
    "import pandas as pd"
   ]
  },
  {
   "cell_type": "code",
   "execution_count": 2,
   "id": "97c57831",
   "metadata": {},
   "outputs": [],
   "source": [
    "# read in our selected nodes\n",
    "users = pd.read_csv(\"ProcessedData/included_users_(sorted).csv\", index_col=0)\n",
    "users_list = users.values.ravel().tolist()"
   ]
  },
  {
   "cell_type": "code",
   "execution_count": 3,
   "id": "08ed0871",
   "metadata": {},
   "outputs": [],
   "source": [
    "# read in consolidated user info\n",
    "all_user_info = pd.read_csv(\"ProcessedData/valid_user_info_consolidated.csv\", index_col=0)"
   ]
  },
  {
   "cell_type": "code",
   "execution_count": 4,
   "id": "a03d2dac",
   "metadata": {},
   "outputs": [],
   "source": [
    "# filter by selected nodes\n",
    "filtered_info = all_user_info.filter(items=users_list,axis=0)"
   ]
  },
  {
   "cell_type": "markdown",
   "id": "f5a0845e",
   "metadata": {},
   "source": [
    "# Features"
   ]
  },
  {
   "cell_type": "code",
   "execution_count": 5,
   "id": "3fb082c0",
   "metadata": {},
   "outputs": [],
   "source": [
    "# extract features & save\n",
    "features = filtered_info[[\"gender\",\"age\",\"height\",\"weight\",\"bmi\"]]\n",
    "features.to_csv(\"ProcessedData/features.csv\")"
   ]
  },
  {
   "cell_type": "code",
   "execution_count": 6,
   "id": "a6f0a7e8",
   "metadata": {},
   "outputs": [
    {
     "name": "stdout",
     "output_type": "stream",
     "text": [
      "          gender   age  height  weight    bmi\n",
      "user_id                                      \n",
      "31           2.0  30.0   162.0    80.0  30.48\n",
      "33           2.0  25.0   175.0    65.0  21.22\n",
      "43           2.0  17.0   168.0    62.0  21.97\n",
      "53           2.0  32.0   160.0    51.0  19.92\n",
      "98           2.0  25.0   155.0    48.3  20.10\n",
      "...          ...   ...     ...     ...    ...\n",
      "11933503     2.0  27.0   160.0    56.0  21.87\n",
      "11935083     2.0  32.0   160.0    63.0  24.61\n",
      "11937494     2.0  27.0   165.0    82.0  30.12\n",
      "11939296     2.0  23.0   163.0    54.6  20.55\n",
      "11944769     2.0  33.0   163.0    64.0  24.09\n",
      "\n",
      "[33014 rows x 5 columns]\n",
      "          gender   age  height  weight    bmi\n",
      "user_id                                      \n",
      "31           2.0  30.0   162.0    80.0  30.48\n",
      "33           2.0  25.0   175.0    65.0  21.22\n",
      "43           2.0  17.0   168.0    62.0  21.97\n",
      "53           2.0  32.0   160.0    51.0  19.92\n",
      "98           2.0  25.0   155.0    48.3  20.10\n",
      "...          ...   ...     ...     ...    ...\n",
      "11933503     2.0  27.0   160.0    56.0  21.87\n",
      "11935083     2.0  32.0   160.0    63.0  24.61\n",
      "11937494     2.0  27.0   165.0    82.0  30.12\n",
      "11939296     2.0  23.0   163.0    54.6  20.55\n",
      "11944769     2.0  33.0   163.0    64.0  24.09\n",
      "\n",
      "[33014 rows x 5 columns]\n"
     ]
    }
   ],
   "source": [
    "print(features)\n",
    "# to read back:\n",
    "print(pd.read_csv(\"ProcessedData/features.csv\", index_col=0))"
   ]
  },
  {
   "cell_type": "markdown",
   "id": "d8566aa6",
   "metadata": {},
   "source": [
    "# Labels"
   ]
  },
  {
   "cell_type": "code",
   "execution_count": 7,
   "id": "572e4e6b",
   "metadata": {},
   "outputs": [],
   "source": [
    "# get labels & save\n",
    "labels = filtered_info[[\"latest_weight\"]]\n",
    "labels.to_csv(\"ProcessedData/labels.csv\")"
   ]
  },
  {
   "cell_type": "code",
   "execution_count": 8,
   "id": "d756bfcd",
   "metadata": {},
   "outputs": [
    {
     "name": "stdout",
     "output_type": "stream",
     "text": [
      "          latest_weight\n",
      "user_id                \n",
      "31                 74.7\n",
      "33                 58.4\n",
      "43                 59.2\n",
      "53                 51.3\n",
      "98                 52.0\n",
      "...                 ...\n",
      "11933503           51.0\n",
      "11935083           57.8\n",
      "11937494           74.4\n",
      "11939296           52.1\n",
      "11944769           64.0\n",
      "\n",
      "[33014 rows x 1 columns]\n",
      "          latest_weight\n",
      "user_id                \n",
      "31                 74.7\n",
      "33                 58.4\n",
      "43                 59.2\n",
      "53                 51.3\n",
      "98                 52.0\n",
      "...                 ...\n",
      "11933503           51.0\n",
      "11935083           57.8\n",
      "11937494           74.4\n",
      "11939296           52.1\n",
      "11944769           64.0\n",
      "\n",
      "[33014 rows x 1 columns]\n"
     ]
    }
   ],
   "source": [
    "print(labels)\n",
    "# to read back:\n",
    "print(pd.read_csv(\"ProcessedData/labels.csv\", index_col=0))"
   ]
  },
  {
   "cell_type": "code",
   "execution_count": null,
   "id": "a4929203",
   "metadata": {},
   "outputs": [],
   "source": []
  },
  {
   "cell_type": "code",
   "execution_count": null,
   "id": "67065abc",
   "metadata": {},
   "outputs": [],
   "source": []
  },
  {
   "cell_type": "code",
   "execution_count": null,
   "id": "4286b99b",
   "metadata": {},
   "outputs": [],
   "source": []
  }
 ],
 "metadata": {
  "kernelspec": {
   "display_name": "Python [conda env:pytorch-G]",
   "language": "python",
   "name": "conda-env-pytorch-G-py"
  },
  "language_info": {
   "codemirror_mode": {
    "name": "ipython",
    "version": 3
   },
   "file_extension": ".py",
   "mimetype": "text/x-python",
   "name": "python",
   "nbconvert_exporter": "python",
   "pygments_lexer": "ipython3",
   "version": "3.8.13"
  }
 },
 "nbformat": 4,
 "nbformat_minor": 5
}
