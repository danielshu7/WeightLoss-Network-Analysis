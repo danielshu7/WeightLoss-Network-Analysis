{
 "cells": [
  {
   "cell_type": "code",
   "execution_count": 1,
   "id": "f45be3ed",
   "metadata": {},
   "outputs": [],
   "source": [
    "import pandas as pd"
   ]
  },
  {
   "cell_type": "code",
   "execution_count": 2,
   "id": "97c57831",
   "metadata": {},
   "outputs": [],
   "source": [
    "# read in our selected nodes\n",
    "users = pd.read_csv(\"ProcessedData/included_users_(sorted).csv\")\n",
    "users_list = users.values.ravel().tolist()"
   ]
  },
  {
   "cell_type": "code",
   "execution_count": 3,
   "id": "08ed0871",
   "metadata": {},
   "outputs": [],
   "source": [
    "# read in relevant feature/label data\n",
    "df1 = pd.read_csv(\"WeightLoss/users_consolidated.csv\", usecols = ['id','gendar','height', 'weight', 'bmi', 'latest_weight'])\n",
    "df2 = pd.read_csv(\"WeightLoss/userprofile.csv\", usecols = ['user_id','age'])"
   ]
  },
  {
   "cell_type": "code",
   "execution_count": 4,
   "id": "a03d2dac",
   "metadata": {},
   "outputs": [],
   "source": [
    "# merge & filter\n",
    "df1 = df1.rename(columns={\"id\": \"user_id\", \"gendar\" : \"gender\"})\n",
    "all_user_info = pd.merge(df1, df2).set_index('user_id')\n",
    "filtered_info = all_user_info.filter(items=users_list,axis=0)"
   ]
  },
  {
   "cell_type": "markdown",
   "id": "f5a0845e",
   "metadata": {},
   "source": [
    "# Features"
   ]
  },
  {
   "cell_type": "code",
   "execution_count": 5,
   "id": "3fb082c0",
   "metadata": {},
   "outputs": [],
   "source": [
    "# extract features & save\n",
    "features = filtered_info[[\"gender\",\"age\",\"height\",\"weight\",\"bmi\"]]\n",
    "features.to_csv(\"ProcessedData/features.csv\")"
   ]
  },
  {
   "cell_type": "code",
   "execution_count": 6,
   "id": "a6f0a7e8",
   "metadata": {},
   "outputs": [
    {
     "name": "stdout",
     "output_type": "stream",
     "text": [
      "         gender  age   height  weight    bmi\n",
      "user_id                                     \n",
      "3             2   25  162.000  65.600  25.00\n",
      "4             2   34  165.000  75.000  27.55\n",
      "10            2   19  172.000  63.000  21.30\n",
      "27            2   23  155.000  46.700  19.44\n",
      "31            2   30  162.000  80.000  30.48\n",
      "...         ...  ...      ...     ...    ...\n",
      "11949655      2   23  162.000  65.000  24.77\n",
      "11949713      2   19  174.000  59.600  19.69\n",
      "11949862      2   19  163.000  58.100  21.87\n",
      "11950136      2   22  165.000  54.000  19.83\n",
      "11950314      2   38  162.000  81.000  30.86\n",
      "\n",
      "[83701 rows x 5 columns]\n",
      "         gender  age   height  weight    bmi\n",
      "user_id                                     \n",
      "3             2   25  162.000  65.600  25.00\n",
      "4             2   34  165.000  75.000  27.55\n",
      "10            2   19  172.000  63.000  21.30\n",
      "27            2   23  155.000  46.700  19.44\n",
      "31            2   30  162.000  80.000  30.48\n",
      "...         ...  ...      ...     ...    ...\n",
      "11949655      2   23  162.000  65.000  24.77\n",
      "11949713      2   19  174.000  59.600  19.69\n",
      "11949862      2   19  163.000  58.100  21.87\n",
      "11950136      2   22  165.000  54.000  19.83\n",
      "11950314      2   38  162.000  81.000  30.86\n",
      "\n",
      "[83701 rows x 5 columns]\n"
     ]
    }
   ],
   "source": [
    "print(features)\n",
    "# to read back:\n",
    "print(pd.read_csv(\"ProcessedData/features.csv\", index_col=0))"
   ]
  },
  {
   "cell_type": "markdown",
   "id": "d8566aa6",
   "metadata": {},
   "source": [
    "# Labels"
   ]
  },
  {
   "cell_type": "code",
   "execution_count": 7,
   "id": "572e4e6b",
   "metadata": {},
   "outputs": [],
   "source": [
    "# get labels & save\n",
    "labels = filtered_info[[\"latest_weight\"]]\n",
    "labels.to_csv(\"ProcessedData/labels.csv\")"
   ]
  },
  {
   "cell_type": "code",
   "execution_count": 8,
   "id": "d756bfcd",
   "metadata": {},
   "outputs": [
    {
     "name": "stdout",
     "output_type": "stream",
     "text": [
      "         latest_weight\n",
      "user_id               \n",
      "3               65.800\n",
      "4               73.000\n",
      "10              59.800\n",
      "27              46.800\n",
      "31              74.700\n",
      "...                ...\n",
      "11949655        63.250\n",
      "11949713        57.500\n",
      "11949862        56.800\n",
      "11950136        53.100\n",
      "11950314        78.000\n",
      "\n",
      "[83701 rows x 1 columns]\n",
      "         latest_weight\n",
      "user_id               \n",
      "3               65.800\n",
      "4               73.000\n",
      "10              59.800\n",
      "27              46.800\n",
      "31              74.700\n",
      "...                ...\n",
      "11949655        63.250\n",
      "11949713        57.500\n",
      "11949862        56.800\n",
      "11950136        53.100\n",
      "11950314        78.000\n",
      "\n",
      "[83701 rows x 1 columns]\n"
     ]
    }
   ],
   "source": [
    "print(labels)\n",
    "# to read back:\n",
    "print(pd.read_csv(\"ProcessedData/labels.csv\", index_col=0))"
   ]
  },
  {
   "cell_type": "code",
   "execution_count": null,
   "id": "a4929203",
   "metadata": {},
   "outputs": [],
   "source": []
  }
 ],
 "metadata": {
  "kernelspec": {
   "display_name": "Python [conda env:pytorch-G]",
   "language": "python",
   "name": "conda-env-pytorch-G-py"
  },
  "language_info": {
   "codemirror_mode": {
    "name": "ipython",
    "version": 3
   },
   "file_extension": ".py",
   "mimetype": "text/x-python",
   "name": "python",
   "nbconvert_exporter": "python",
   "pygments_lexer": "ipython3",
   "version": "3.8.13"
  }
 },
 "nbformat": 4,
 "nbformat_minor": 5
}
