{
 "cells": [
  {
   "cell_type": "code",
   "execution_count": 1,
   "id": "02ac0c9c",
   "metadata": {},
   "outputs": [],
   "source": [
    "import pandas as pd\n",
    "import time"
   ]
  },
  {
   "cell_type": "markdown",
   "id": "717fe2db",
   "metadata": {},
   "source": [
    "# Loading consolidated data"
   ]
  },
  {
   "cell_type": "code",
   "execution_count": 2,
   "id": "e3a19196",
   "metadata": {},
   "outputs": [],
   "source": [
    "userprofile = pd.read_csv('WeightLoss/userprofile.csv')"
   ]
  },
  {
   "cell_type": "code",
   "execution_count": null,
   "id": "53085b52",
   "metadata": {},
   "outputs": [],
   "source": [
    "#can_record_consolidated = pd.read_csv('WeightLoss/can_record_consolidated.csv')"
   ]
  },
  {
   "cell_type": "code",
   "execution_count": null,
   "id": "d2f32ac4",
   "metadata": {},
   "outputs": [],
   "source": [
    "#comment_consolidated = pd.read_csv('WeightLoss/comment_consolidated.csv')"
   ]
  },
  {
   "cell_type": "code",
   "execution_count": null,
   "id": "2f8b41a1",
   "metadata": {},
   "outputs": [],
   "source": [
    "#mention_consolidated = pd.read_csv('WeightLoss/mention_consolidated.csv')"
   ]
  },
  {
   "cell_type": "code",
   "execution_count": null,
   "id": "5f4fe7e8",
   "metadata": {},
   "outputs": [],
   "source": [
    "#post_consolidated = pd.read_csv('WeightLoss/post_consolidated.csv')"
   ]
  },
  {
   "cell_type": "code",
   "execution_count": 15,
   "id": "aa6a01ae",
   "metadata": {},
   "outputs": [],
   "source": [
    "users_consolidated = pd.read_csv('WeightLoss/users_consolidated.csv')"
   ]
  },
  {
   "cell_type": "code",
   "execution_count": null,
   "id": "62410165",
   "metadata": {},
   "outputs": [],
   "source": [
    "#weight_record_consolidated = pd.read_csv('WeightLoss/weight_record_consolidated.csv')"
   ]
  },
  {
   "cell_type": "code",
   "execution_count": 33,
   "id": "fcb48ead",
   "metadata": {},
   "outputs": [
    {
     "name": "stdout",
     "output_type": "stream",
     "text": [
      "12338632\n"
     ]
    }
   ],
   "source": [
    "print(userprofile[\"user_id\"].max())"
   ]
  },
  {
   "cell_type": "markdown",
   "id": "709999f2",
   "metadata": {},
   "source": [
    "# Loading networks"
   ]
  },
  {
   "cell_type": "code",
   "execution_count": 3,
   "id": "1cda7fb6",
   "metadata": {},
   "outputs": [],
   "source": [
    "friend_consolidated = pd.read_csv('WeightLoss/network/friend_consolidated.csv')"
   ]
  },
  {
   "cell_type": "code",
   "execution_count": 4,
   "id": "268241be",
   "metadata": {},
   "outputs": [],
   "source": [
    "comment_rela = pd.read_csv('WeightLoss/network/comment_rela.csv')"
   ]
  },
  {
   "cell_type": "code",
   "execution_count": 5,
   "id": "5cc879ba",
   "metadata": {},
   "outputs": [],
   "source": [
    "mention_rela = pd.read_csv('WeightLoss/network/mention_rela.csv')"
   ]
  },
  {
   "cell_type": "code",
   "execution_count": 21,
   "id": "afae3045",
   "metadata": {},
   "outputs": [
    {
     "name": "stdout",
     "output_type": "stream",
     "text": [
      "         who-mention  mention-who              type   type-id  \\\n",
      "0              121.0           33     Mention::Post        11   \n",
      "1              121.0          143     Mention::Post        26   \n",
      "2              121.0          143     Mention::Post        27   \n",
      "3              121.0          121     Mention::Post        42   \n",
      "4              121.0           33  Mention::Comment         3   \n",
      "...              ...          ...               ...       ...   \n",
      "6502773    7796031.0      5683623  Mention::Comment  38734963   \n",
      "6502774    4917321.0      7190027  Mention::Comment  38734966   \n",
      "6502775   11719132.0     11939872  Mention::Comment  38734971   \n",
      "6502776   11998946.0     12252269  Mention::Comment  38734973   \n",
      "6502777   10125396.0      4156327  Mention::Comment  38734979   \n",
      "\n",
      "                  post-id   post-user        date  \n",
      "0              Post_ID:11       121.0  2013-09-30  \n",
      "1              Post_ID:26       121.0  2013-10-01  \n",
      "2              Post_ID:27       121.0  2013-10-01  \n",
      "3              Post_ID:42       121.0  2013-10-08  \n",
      "4              Post_ID:50       121.0  2013-10-14  \n",
      "...                   ...         ...         ...  \n",
      "6502773  Post_ID:19321237   7796031.0  2015-05-20  \n",
      "6502774  Post_ID:19329650   4917321.0  2015-05-20  \n",
      "6502775  Post_ID:19328736  11719132.0  2015-05-20  \n",
      "6502776  Post_ID:19259395  11998946.0  2015-05-20  \n",
      "6502777  Post_ID:19329743  10125396.0  2015-05-20  \n",
      "\n",
      "[6502778 rows x 7 columns]\n"
     ]
    }
   ],
   "source": [
    "print(mention_rela)"
   ]
  },
  {
   "cell_type": "markdown",
   "id": "076be264",
   "metadata": {},
   "source": [
    "# Working with PyTorch"
   ]
  },
  {
   "cell_type": "code",
   "execution_count": 6,
   "id": "a7d67330",
   "metadata": {},
   "outputs": [],
   "source": [
    "import torch\n",
    "from torch_geometric.data import Data\n",
    "from torch_geometric.utils import degree"
   ]
  },
  {
   "cell_type": "code",
   "execution_count": 7,
   "id": "e0bc714c",
   "metadata": {},
   "outputs": [],
   "source": [
    "# iteratively filters out low degree nodes from a graph\n",
    "# returns list of nodes of degree at least d\n",
    "# **note this runs out of memory if run directly on friend_net, would need an iterative solution maybe\n",
    "def filter_low_degree_nodes(graph, d=5):\n",
    "    # get the nodes and their degrees\n",
    "    included_nodes, degrees = torch.unique(graph.edge_index[0], return_counts=True)\n",
    "    print(\"Current nodes:\", included_nodes, included_nodes.shape)\n",
    "    # generate a mask that is True for degrees >= d and False otherwise\n",
    "    filter_mask = torch.ge(degrees,d)\n",
    "    if(torch.unique(filter_mask).shape[0] != 1): # check that the mask still contains both True and False, otherwise done\n",
    "        # filter the nodes based on the mask\n",
    "        filtered_nodes = torch.masked_select(included_nodes,filter_mask)\n",
    "        # generate the subgraph on the filtered nodes\n",
    "        subgraph = graph.subgraph(filtered_nodes)\n",
    "        # recursive call: now filter again based on the new subgraph\n",
    "        # returns indices on what was passed in\n",
    "        subgraph_nodes = filter_low_degree_nodes(subgraph)\n",
    "        # convert back to original node names\n",
    "        included_nodes = filtered_nodes[subgraph_nodes]\n",
    "    # return the new included_nodes\n",
    "    return included_nodes"
   ]
  },
  {
   "cell_type": "code",
   "execution_count": 19,
   "id": "27172a9e",
   "metadata": {},
   "outputs": [],
   "source": [
    "num_nodes = userprofile[\"user_id\"].max() # max id\n",
    "\n",
    "# convert data to appropriate form and generate a PyG graph\n",
    "friend_edge_index = torch.from_numpy(friend_consolidated.iloc[:,[0,1]].to_numpy())\n",
    "friend_net = Data(edge_index=friend_edge_index.t().contiguous())\n",
    "friend_net.num_nodes = num_nodes\n",
    "\n",
    "comment_edge_index = torch.from_numpy(comment_rela.iloc[:,[0,1]].to_numpy())\n",
    "comment_net = Data(edge_index=comment_edge_index.t().contiguous())\n",
    "comment_net.num_nodes = num_nodes\n",
    "\n",
    "mention_edge_index = torch.from_numpy(mention_rela.iloc[:,[0,1]].to_numpy()).type(torch.LongTensor)\n",
    "mention_net = Data(edge_index=mention_edge_index.t().contiguous())\n",
    "mention_net.num_nodes = num_nodes"
   ]
  },
  {
   "cell_type": "code",
   "execution_count": 17,
   "id": "9a3b0ab1",
   "metadata": {},
   "outputs": [
    {
     "name": "stdout",
     "output_type": "stream",
     "text": [
      "Filtering on comment_net:\n",
      "Current nodes: tensor([       3,        4,        5,  ..., 12325405, 12325432, 12325695]) torch.Size([498705])\n",
      "Current nodes: tensor([     0,      1,      2,  ..., 162688, 162689, 162690]) torch.Size([162621])\n",
      "Current nodes: tensor([     0,      1,      2,  ..., 158368, 158369, 158370]) torch.Size([158370])\n",
      "Current nodes: tensor([     0,      1,      2,  ..., 158216, 158217, 158218]) torch.Size([158219])\n",
      "Current nodes: tensor([     0,      1,      2,  ..., 158211, 158212, 158213]) torch.Size([158214])\n",
      "Current nodes: tensor([     0,      1,      2,  ..., 158210, 158211, 158212]) torch.Size([158213])\n",
      "Filtering on mention_net:\n"
     ]
    },
    {
     "ename": "IndexError",
     "evalue": "tensors used as indices must be long, byte or bool tensors",
     "output_type": "error",
     "traceback": [
      "\u001b[1;31m---------------------------------------------------------------------------\u001b[0m",
      "\u001b[1;31mIndexError\u001b[0m                                Traceback (most recent call last)",
      "Input \u001b[1;32mIn [17]\u001b[0m, in \u001b[0;36m<cell line: 5>\u001b[1;34m()\u001b[0m\n\u001b[0;32m      3\u001b[0m nodes_after_filter_on_comment_net \u001b[38;5;241m=\u001b[39m filter_low_degree_nodes(comment_net)\n\u001b[0;32m      4\u001b[0m \u001b[38;5;28mprint\u001b[39m(\u001b[38;5;124m\"\u001b[39m\u001b[38;5;124mFiltering on mention_net:\u001b[39m\u001b[38;5;124m\"\u001b[39m)\n\u001b[1;32m----> 5\u001b[0m mention_sub_net \u001b[38;5;241m=\u001b[39m \u001b[43mmention_net\u001b[49m\u001b[38;5;241;43m.\u001b[39;49m\u001b[43msubgraph\u001b[49m\u001b[43m(\u001b[49m\u001b[43mnodes_after_filter_on_comment_net\u001b[49m\u001b[43m)\u001b[49m\n\u001b[0;32m      6\u001b[0m nodes_after_filter_on_mention_net \u001b[38;5;241m=\u001b[39m nodes_after_filter_on_comment_net[filter_low_degree_nodes(mention_sub_net)]\n\u001b[0;32m      7\u001b[0m \u001b[38;5;28mprint\u001b[39m(\u001b[38;5;124m\"\u001b[39m\u001b[38;5;124mFiltering on friend_net:\u001b[39m\u001b[38;5;124m\"\u001b[39m)\n",
      "File \u001b[1;32m~\\anaconda3\\envs\\pytorch-G\\lib\\site-packages\\torch_geometric\\data\\data.py:466\u001b[0m, in \u001b[0;36mData.subgraph\u001b[1;34m(self, subset)\u001b[0m\n\u001b[0;32m    458\u001b[0m \u001b[38;5;28;01mdef\u001b[39;00m \u001b[38;5;21msubgraph\u001b[39m(\u001b[38;5;28mself\u001b[39m, subset: Tensor):\n\u001b[0;32m    459\u001b[0m     \u001b[38;5;124mr\u001b[39m\u001b[38;5;124;03m\"\"\"Returns the induced subgraph given by the node indices\u001b[39;00m\n\u001b[0;32m    460\u001b[0m \u001b[38;5;124;03m    :obj:`subset`.\u001b[39;00m\n\u001b[0;32m    461\u001b[0m \n\u001b[0;32m    462\u001b[0m \u001b[38;5;124;03m    Args:\u001b[39;00m\n\u001b[0;32m    463\u001b[0m \u001b[38;5;124;03m        subset (LongTensor or BoolTensor): The nodes to keep.\u001b[39;00m\n\u001b[0;32m    464\u001b[0m \u001b[38;5;124;03m    \"\"\"\u001b[39;00m\n\u001b[1;32m--> 466\u001b[0m     out \u001b[38;5;241m=\u001b[39m \u001b[43msubgraph\u001b[49m\u001b[43m(\u001b[49m\u001b[43msubset\u001b[49m\u001b[43m,\u001b[49m\u001b[43m \u001b[49m\u001b[38;5;28;43mself\u001b[39;49m\u001b[38;5;241;43m.\u001b[39;49m\u001b[43medge_index\u001b[49m\u001b[43m,\u001b[49m\u001b[43m \u001b[49m\u001b[43mrelabel_nodes\u001b[49m\u001b[38;5;241;43m=\u001b[39;49m\u001b[38;5;28;43;01mTrue\u001b[39;49;00m\u001b[43m,\u001b[49m\n\u001b[0;32m    467\u001b[0m \u001b[43m                   \u001b[49m\u001b[43mnum_nodes\u001b[49m\u001b[38;5;241;43m=\u001b[39;49m\u001b[38;5;28;43mself\u001b[39;49m\u001b[38;5;241;43m.\u001b[39;49m\u001b[43mnum_nodes\u001b[49m\u001b[43m,\u001b[49m\u001b[43m \u001b[49m\u001b[43mreturn_edge_mask\u001b[49m\u001b[38;5;241;43m=\u001b[39;49m\u001b[38;5;28;43;01mTrue\u001b[39;49;00m\u001b[43m)\u001b[49m\n\u001b[0;32m    468\u001b[0m     edge_index, _, edge_mask \u001b[38;5;241m=\u001b[39m out\n\u001b[0;32m    470\u001b[0m     \u001b[38;5;28;01mif\u001b[39;00m subset\u001b[38;5;241m.\u001b[39mdtype \u001b[38;5;241m==\u001b[39m torch\u001b[38;5;241m.\u001b[39mbool:\n",
      "File \u001b[1;32m~\\anaconda3\\envs\\pytorch-G\\lib\\site-packages\\torch_geometric\\utils\\subgraph.py:65\u001b[0m, in \u001b[0;36msubgraph\u001b[1;34m(subset, edge_index, edge_attr, relabel_nodes, num_nodes, return_edge_mask)\u001b[0m\n\u001b[0;32m     62\u001b[0m         node_idx \u001b[38;5;241m=\u001b[39m torch\u001b[38;5;241m.\u001b[39mzeros(num_nodes, dtype\u001b[38;5;241m=\u001b[39mtorch\u001b[38;5;241m.\u001b[39mlong, device\u001b[38;5;241m=\u001b[39mdevice)\n\u001b[0;32m     63\u001b[0m         node_idx[subset] \u001b[38;5;241m=\u001b[39m torch\u001b[38;5;241m.\u001b[39marange(subset\u001b[38;5;241m.\u001b[39msize(\u001b[38;5;241m0\u001b[39m), device\u001b[38;5;241m=\u001b[39mdevice)\n\u001b[1;32m---> 65\u001b[0m edge_mask \u001b[38;5;241m=\u001b[39m \u001b[43mnode_mask\u001b[49m\u001b[43m[\u001b[49m\u001b[43medge_index\u001b[49m\u001b[43m[\u001b[49m\u001b[38;5;241;43m0\u001b[39;49m\u001b[43m]\u001b[49m\u001b[43m]\u001b[49m \u001b[38;5;241m&\u001b[39m node_mask[edge_index[\u001b[38;5;241m1\u001b[39m]]\n\u001b[0;32m     66\u001b[0m edge_index \u001b[38;5;241m=\u001b[39m edge_index[:, edge_mask]\n\u001b[0;32m     67\u001b[0m edge_attr \u001b[38;5;241m=\u001b[39m edge_attr[edge_mask] \u001b[38;5;28;01mif\u001b[39;00m edge_attr \u001b[38;5;129;01mis\u001b[39;00m \u001b[38;5;129;01mnot\u001b[39;00m \u001b[38;5;28;01mNone\u001b[39;00m \u001b[38;5;28;01melse\u001b[39;00m \u001b[38;5;28;01mNone\u001b[39;00m\n",
      "\u001b[1;31mIndexError\u001b[0m: tensors used as indices must be long, byte or bool tensors"
     ]
    }
   ],
   "source": [
    "# filter out the low degree nodes\n",
    "print(\"Filtering on comment_net:\")\n",
    "nodes_after_filter_on_comment_net = filter_low_degree_nodes(comment_net)\n",
    "print(\"Filtering on mention_net:\")\n",
    "mention_sub_net = mention_net.subgraph(nodes_after_filter_on_comment_net)\n",
    "nodes_after_filter_on_mention_net = nodes_after_filter_on_comment_net[filter_low_degree_nodes(mention_sub_net)]\n",
    "print(\"Filtering on friend_net:\")\n",
    "friend_sub_net = friend_net.subgraph(nodes_after_filter_on_mention_net)\n",
    "final_nodes = nodes_after_filter_on_mention_net[filter_low_degree_nodes(friend_sub_net)]\n",
    "print(\"Final nodes:\", final_nodes)"
   ]
  },
  {
   "cell_type": "code",
   "execution_count": 20,
   "id": "87b73058",
   "metadata": {},
   "outputs": [
    {
     "name": "stdout",
     "output_type": "stream",
     "text": [
      "torch.int64\n"
     ]
    },
    {
     "ename": "IndexError",
     "evalue": "index -9223372036854775808 is out of bounds for dimension 0 with size 12338632",
     "output_type": "error",
     "traceback": [
      "\u001b[1;31m---------------------------------------------------------------------------\u001b[0m",
      "\u001b[1;31mIndexError\u001b[0m                                Traceback (most recent call last)",
      "Input \u001b[1;32mIn [20]\u001b[0m, in \u001b[0;36m<cell line: 5>\u001b[1;34m()\u001b[0m\n\u001b[0;32m      3\u001b[0m final_friend_net \u001b[38;5;241m=\u001b[39m friend_net\u001b[38;5;241m.\u001b[39msubgraph(final_nodes)\n\u001b[0;32m      4\u001b[0m final_comment_net \u001b[38;5;241m=\u001b[39m comment_net\u001b[38;5;241m.\u001b[39msubgraph(final_nodes)\n\u001b[1;32m----> 5\u001b[0m final_mention_net \u001b[38;5;241m=\u001b[39m \u001b[43mmention_net\u001b[49m\u001b[38;5;241;43m.\u001b[39;49m\u001b[43msubgraph\u001b[49m\u001b[43m(\u001b[49m\u001b[43mfinal_nodes\u001b[49m\u001b[43m)\u001b[49m\n",
      "File \u001b[1;32m~\\anaconda3\\envs\\pytorch-G\\lib\\site-packages\\torch_geometric\\data\\data.py:466\u001b[0m, in \u001b[0;36mData.subgraph\u001b[1;34m(self, subset)\u001b[0m\n\u001b[0;32m    458\u001b[0m \u001b[38;5;28;01mdef\u001b[39;00m \u001b[38;5;21msubgraph\u001b[39m(\u001b[38;5;28mself\u001b[39m, subset: Tensor):\n\u001b[0;32m    459\u001b[0m     \u001b[38;5;124mr\u001b[39m\u001b[38;5;124;03m\"\"\"Returns the induced subgraph given by the node indices\u001b[39;00m\n\u001b[0;32m    460\u001b[0m \u001b[38;5;124;03m    :obj:`subset`.\u001b[39;00m\n\u001b[0;32m    461\u001b[0m \n\u001b[0;32m    462\u001b[0m \u001b[38;5;124;03m    Args:\u001b[39;00m\n\u001b[0;32m    463\u001b[0m \u001b[38;5;124;03m        subset (LongTensor or BoolTensor): The nodes to keep.\u001b[39;00m\n\u001b[0;32m    464\u001b[0m \u001b[38;5;124;03m    \"\"\"\u001b[39;00m\n\u001b[1;32m--> 466\u001b[0m     out \u001b[38;5;241m=\u001b[39m \u001b[43msubgraph\u001b[49m\u001b[43m(\u001b[49m\u001b[43msubset\u001b[49m\u001b[43m,\u001b[49m\u001b[43m \u001b[49m\u001b[38;5;28;43mself\u001b[39;49m\u001b[38;5;241;43m.\u001b[39;49m\u001b[43medge_index\u001b[49m\u001b[43m,\u001b[49m\u001b[43m \u001b[49m\u001b[43mrelabel_nodes\u001b[49m\u001b[38;5;241;43m=\u001b[39;49m\u001b[38;5;28;43;01mTrue\u001b[39;49;00m\u001b[43m,\u001b[49m\n\u001b[0;32m    467\u001b[0m \u001b[43m                   \u001b[49m\u001b[43mnum_nodes\u001b[49m\u001b[38;5;241;43m=\u001b[39;49m\u001b[38;5;28;43mself\u001b[39;49m\u001b[38;5;241;43m.\u001b[39;49m\u001b[43mnum_nodes\u001b[49m\u001b[43m,\u001b[49m\u001b[43m \u001b[49m\u001b[43mreturn_edge_mask\u001b[49m\u001b[38;5;241;43m=\u001b[39;49m\u001b[38;5;28;43;01mTrue\u001b[39;49;00m\u001b[43m)\u001b[49m\n\u001b[0;32m    468\u001b[0m     edge_index, _, edge_mask \u001b[38;5;241m=\u001b[39m out\n\u001b[0;32m    470\u001b[0m     \u001b[38;5;28;01mif\u001b[39;00m subset\u001b[38;5;241m.\u001b[39mdtype \u001b[38;5;241m==\u001b[39m torch\u001b[38;5;241m.\u001b[39mbool:\n",
      "File \u001b[1;32m~\\anaconda3\\envs\\pytorch-G\\lib\\site-packages\\torch_geometric\\utils\\subgraph.py:65\u001b[0m, in \u001b[0;36msubgraph\u001b[1;34m(subset, edge_index, edge_attr, relabel_nodes, num_nodes, return_edge_mask)\u001b[0m\n\u001b[0;32m     62\u001b[0m         node_idx \u001b[38;5;241m=\u001b[39m torch\u001b[38;5;241m.\u001b[39mzeros(num_nodes, dtype\u001b[38;5;241m=\u001b[39mtorch\u001b[38;5;241m.\u001b[39mlong, device\u001b[38;5;241m=\u001b[39mdevice)\n\u001b[0;32m     63\u001b[0m         node_idx[subset] \u001b[38;5;241m=\u001b[39m torch\u001b[38;5;241m.\u001b[39marange(subset\u001b[38;5;241m.\u001b[39msize(\u001b[38;5;241m0\u001b[39m), device\u001b[38;5;241m=\u001b[39mdevice)\n\u001b[1;32m---> 65\u001b[0m edge_mask \u001b[38;5;241m=\u001b[39m \u001b[43mnode_mask\u001b[49m\u001b[43m[\u001b[49m\u001b[43medge_index\u001b[49m\u001b[43m[\u001b[49m\u001b[38;5;241;43m0\u001b[39;49m\u001b[43m]\u001b[49m\u001b[43m]\u001b[49m \u001b[38;5;241m&\u001b[39m node_mask[edge_index[\u001b[38;5;241m1\u001b[39m]]\n\u001b[0;32m     66\u001b[0m edge_index \u001b[38;5;241m=\u001b[39m edge_index[:, edge_mask]\n\u001b[0;32m     67\u001b[0m edge_attr \u001b[38;5;241m=\u001b[39m edge_attr[edge_mask] \u001b[38;5;28;01mif\u001b[39;00m edge_attr \u001b[38;5;129;01mis\u001b[39;00m \u001b[38;5;129;01mnot\u001b[39;00m \u001b[38;5;28;01mNone\u001b[39;00m \u001b[38;5;28;01melse\u001b[39;00m \u001b[38;5;28;01mNone\u001b[39;00m\n",
      "\u001b[1;31mIndexError\u001b[0m: index -9223372036854775808 is out of bounds for dimension 0 with size 12338632"
     ]
    }
   ],
   "source": [
    "# get final networks\n",
    "final_friend_net = friend_net.subgraph(final_nodes)\n",
    "final_comment_net = comment_net.subgraph(final_nodes)\n",
    "final_mention_net = mention_net.subgraph(final_nodes)"
   ]
  },
  {
   "cell_type": "code",
   "execution_count": null,
   "id": "3418f9c3",
   "metadata": {},
   "outputs": [],
   "source": [
    "# checker\n",
    "nodes, degs = torch.unique(filtered_comment_graph.edge_index[0], return_counts=True)\n",
    "unique_degs,counts = torch.unique(degs, return_counts=True)\n",
    "print(unique_degs, counts)"
   ]
  },
  {
   "cell_type": "code",
   "execution_count": null,
   "id": "0d2041a3",
   "metadata": {},
   "outputs": [],
   "source": []
  },
  {
   "cell_type": "markdown",
   "id": "b667c8a5",
   "metadata": {},
   "source": [
    "# Testing"
   ]
  },
  {
   "cell_type": "code",
   "execution_count": null,
   "id": "29725867",
   "metadata": {},
   "outputs": [],
   "source": [
    "edge_index = torch.tensor([[0, 1, 2, 1,0],\n",
    "                           [1, 0, 1, 2,2]], dtype=torch.long)\n",
    "x = torch.tensor([[-1], [0], [1]], dtype=torch.float)\n",
    "\n",
    "data = Data(x=x, edge_index=edge_index)"
   ]
  },
  {
   "cell_type": "code",
   "execution_count": null,
   "id": "08da2a00",
   "metadata": {},
   "outputs": [],
   "source": [
    "deg = degree(data.edge_index[0], data.num_nodes)\n",
    "print(deg[2])  # degree of node 0"
   ]
  },
  {
   "cell_type": "code",
   "execution_count": null,
   "id": "6fdbbb90",
   "metadata": {},
   "outputs": [],
   "source": [
    "subs = torch.tensor([2,0])\n",
    "sub = data.subgraph(subs)\n",
    "print(sub)\n",
    "print(sub.edge_index)"
   ]
  },
  {
   "cell_type": "code",
   "execution_count": null,
   "id": "2d351e65",
   "metadata": {},
   "outputs": [],
   "source": [
    "deg = degree(sub.edge_index[0], sub.num_nodes)\n",
    "print(deg[1])  # degree of node 0"
   ]
  },
  {
   "cell_type": "code",
   "execution_count": null,
   "id": "304f7a1a",
   "metadata": {},
   "outputs": [],
   "source": [
    "a = torch.tensor([3,2,0])\n",
    "b = torch.tensor([0,2])\n",
    "\n",
    "print(a[b])"
   ]
  },
  {
   "cell_type": "code",
   "execution_count": null,
   "id": "943a7cb3",
   "metadata": {},
   "outputs": [],
   "source": []
  },
  {
   "cell_type": "code",
   "execution_count": null,
   "id": "5f9a8347",
   "metadata": {},
   "outputs": [],
   "source": []
  },
  {
   "cell_type": "code",
   "execution_count": null,
   "id": "55b4850c",
   "metadata": {},
   "outputs": [],
   "source": []
  },
  {
   "cell_type": "code",
   "execution_count": null,
   "id": "5421c1a5",
   "metadata": {},
   "outputs": [],
   "source": []
  }
 ],
 "metadata": {
  "kernelspec": {
   "display_name": "Python [conda env:pytorch-G]",
   "language": "python",
   "name": "conda-env-pytorch-G-py"
  },
  "language_info": {
   "codemirror_mode": {
    "name": "ipython",
    "version": 3
   },
   "file_extension": ".py",
   "mimetype": "text/x-python",
   "name": "python",
   "nbconvert_exporter": "python",
   "pygments_lexer": "ipython3",
   "version": "3.8.13"
  }
 },
 "nbformat": 4,
 "nbformat_minor": 5
}
