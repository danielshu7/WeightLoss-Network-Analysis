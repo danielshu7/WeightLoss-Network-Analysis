{
 "cells": [
  {
   "cell_type": "code",
   "execution_count": 1,
   "id": "02ac0c9c",
   "metadata": {},
   "outputs": [],
   "source": [
    "import pandas as pd"
   ]
  },
  {
   "cell_type": "markdown",
   "id": "717fe2db",
   "metadata": {},
   "source": [
    "# Loading consolidated data"
   ]
  },
  {
   "cell_type": "code",
   "execution_count": 2,
   "id": "e3a19196",
   "metadata": {},
   "outputs": [],
   "source": [
    "userprofile = pd.read_csv('WeightLoss/userprofile.csv')\n",
    "valid_users = pd.read_csv(\"ProcessedData/valid_user_info_consolidated.csv\", usecols = ['user_id'])"
   ]
  },
  {
   "cell_type": "markdown",
   "id": "709999f2",
   "metadata": {},
   "source": [
    "# Loading networks"
   ]
  },
  {
   "cell_type": "code",
   "execution_count": 3,
   "id": "1cda7fb6",
   "metadata": {},
   "outputs": [],
   "source": [
    "friend_consolidated = pd.read_csv('WeightLoss/network/friend_consolidated.csv')"
   ]
  },
  {
   "cell_type": "code",
   "execution_count": 4,
   "id": "268241be",
   "metadata": {},
   "outputs": [],
   "source": [
    "comment_rela = pd.read_csv('WeightLoss/network/comment_rela.csv')"
   ]
  },
  {
   "cell_type": "code",
   "execution_count": 5,
   "id": "5cc879ba",
   "metadata": {},
   "outputs": [],
   "source": [
    "mention_rela = pd.read_csv('WeightLoss/network/mention_rela.csv')\n",
    "mention_rela.dropna(subset=['who-mention'], inplace=True) # remove rows with NaN in 'who-mention'\n",
    "mention_rela['who-mention'] = mention_rela['who-mention'].astype('int64')"
   ]
  },
  {
   "cell_type": "markdown",
   "id": "076be264",
   "metadata": {},
   "source": [
    "# Working with PyTorch"
   ]
  },
  {
   "cell_type": "code",
   "execution_count": 6,
   "id": "a7d67330",
   "metadata": {},
   "outputs": [],
   "source": [
    "import torch\n",
    "from torch_geometric.data import Data"
   ]
  },
  {
   "cell_type": "code",
   "execution_count": 7,
   "id": "e0bc714c",
   "metadata": {},
   "outputs": [],
   "source": [
    "# iteratively filters out low degree nodes from a graph\n",
    "# returns list of nodes of degree at least d\n",
    "# **note this runs out of memory if run directly on friend_net, would need an iterative solution maybe\n",
    "def filter_low_degree_nodes(graph, d=5):\n",
    "    # get the nodes and their degrees\n",
    "    included_nodes, degrees = torch.unique(graph.edge_index[0], return_counts=True)\n",
    "    print(\"Current Size:\", included_nodes.shape)\n",
    "    # generate a mask that is True for degrees >= d and False otherwise\n",
    "    filter_mask = torch.ge(degrees,d)\n",
    "    if(torch.unique(filter_mask).shape[0] != 1): # check that the mask still contains both True and False, otherwise done\n",
    "        # filter the nodes based on the mask\n",
    "        filtered_nodes = torch.masked_select(included_nodes,filter_mask)\n",
    "        # generate the subgraph on the filtered nodes\n",
    "        subgraph = graph.subgraph(filtered_nodes)\n",
    "        # recursive call: now filter again based on the new subgraph\n",
    "        # returns indices on what was passed in\n",
    "        subgraph_nodes = filter_low_degree_nodes(subgraph)\n",
    "        # convert back to original node names\n",
    "        included_nodes = filtered_nodes[subgraph_nodes]\n",
    "    # return the new included_nodes\n",
    "    return included_nodes"
   ]
  },
  {
   "cell_type": "code",
   "execution_count": 8,
   "id": "27172a9e",
   "metadata": {},
   "outputs": [
    {
     "name": "stderr",
     "output_type": "stream",
     "text": [
      "C:\\Users\\danie\\anaconda3\\envs\\pytorch-G\\lib\\site-packages\\torch_geometric\\data\\storage.py:261: UserWarning: Unable to accurately infer 'num_nodes' from the attribute set '{'edge_index'}'. Please explicitly set 'num_nodes' as an attribute of 'data' to suppress this warning\n",
      "  warnings.warn(\n"
     ]
    }
   ],
   "source": [
    "def to_undirected(edge_index):\n",
    "    row, col = edge_index\n",
    "    new_row = torch.cat([row, col])\n",
    "    new_col = torch.cat([col, row])\n",
    "    return torch.stack([new_row, new_col], dim=0)\n",
    "\n",
    "num_nodes = userprofile[\"user_id\"].max() # max id\n",
    "\n",
    "# convert data to appropriate form and generate an undirected PyG graph\n",
    "friend_edge_index = torch.from_numpy(friend_consolidated.iloc[:,[0,1]].to_numpy())\n",
    "friend_net = Data(edge_index=to_undirected(friend_edge_index.t().contiguous()))\n",
    "friend_net.coalesce()\n",
    "friend_net.num_nodes = num_nodes\n",
    "\n",
    "comment_edge_index = torch.from_numpy(comment_rela.iloc[:,[0,1]].to_numpy())\n",
    "comment_net = Data(edge_index=to_undirected(comment_edge_index.t().contiguous()))\n",
    "comment_net.coalesce()\n",
    "comment_net.num_nodes = num_nodes\n",
    "\n",
    "mention_edge_index = torch.from_numpy(mention_rela.iloc[:,[0,1]].to_numpy())\n",
    "mention_net = Data(edge_index=to_undirected(mention_edge_index.t().contiguous()))\n",
    "mention_net.coalesce()\n",
    "mention_net.num_nodes = num_nodes"
   ]
  },
  {
   "cell_type": "code",
   "execution_count": 9,
   "id": "9a3b0ab1",
   "metadata": {},
   "outputs": [
    {
     "name": "stdout",
     "output_type": "stream",
     "text": [
      "Filtering on comment_net:\n",
      "Current Size: torch.Size([3665811])\n",
      "Current Size: torch.Size([153805])\n",
      "Current Size: torch.Size([149047])\n",
      "Current Size: torch.Size([148738])\n",
      "Current Size: torch.Size([148709])\n",
      "Current Size: torch.Size([148706])\n",
      "Nodes after filter on comment net: tensor([       3,        4,       10,  ..., 12309780, 12318685, 12319222])\n",
      "Filtering on mention_net:\n",
      "Current Size: torch.Size([142627])\n",
      "Current Size: torch.Size([85601])\n",
      "Current Size: torch.Size([81874])\n",
      "Current Size: torch.Size([81307])\n",
      "Current Size: torch.Size([81198])\n",
      "Current Size: torch.Size([81174])\n",
      "Current Size: torch.Size([81165])\n",
      "Current Size: torch.Size([81163])\n",
      "Nodes after filter on mention net: tensor([       3,        4,       10,  ..., 12296696, 12298914, 12306610])\n",
      "Filtering on friend_net:\n",
      "Current Size: torch.Size([80053])\n",
      "Current Size: torch.Size([79572])\n",
      "Current nodes: tensor([       3,        4,       10,  ..., 11949862, 11950136, 11950314])\n",
      "Checking...\n",
      "Failed...\n",
      "Filtering on comment_net:\n",
      "Current Size: torch.Size([79572])\n",
      "Current Size: torch.Size([79435])\n",
      "Nodes after filter on comment net: tensor([       3,        4,       10,  ..., 11949862, 11950136, 11950314])\n",
      "Filtering on mention_net:\n",
      "Current Size: torch.Size([79435])\n",
      "Current Size: torch.Size([79009])\n",
      "Current Size: torch.Size([78962])\n",
      "Current Size: torch.Size([78955])\n",
      "Nodes after filter on mention net: tensor([       3,        4,       10,  ..., 11949862, 11950136, 11950314])\n",
      "Filtering on friend_net:\n",
      "Current Size: torch.Size([78955])\n",
      "Current Size: torch.Size([78953])\n",
      "Current nodes: tensor([       3,        4,       10,  ..., 11949862, 11950136, 11950314])\n",
      "Checking...\n",
      "Done!\n"
     ]
    }
   ],
   "source": [
    "# filter out the low degree nodes\n",
    "def checker():\n",
    "    test_nets = [friend_net.subgraph(cur_nodes), comment_net.subgraph(cur_nodes), mention_net.subgraph(cur_nodes)]\n",
    "    \n",
    "    for test_net in test_nets:\n",
    "        _, degs = torch.unique(test_net.edge_index[0], return_counts=True)\n",
    "        unique_degs = torch.unique(degs)\n",
    "        if unique_degs.min() < 5: \n",
    "            print(\"Failed...\")\n",
    "            return False\n",
    "    #\n",
    "    print(\"Done!\")\n",
    "    return True\n",
    "    \n",
    "i = 0\n",
    "hard_loop_cap = 10\n",
    "cur_nodes = torch.from_numpy(valid_users.to_numpy().ravel())\n",
    "while(i < hard_loop_cap):\n",
    "    print(\"Filtering on comment_net:\")\n",
    "    comment_sub_net = comment_net.subgraph(cur_nodes)\n",
    "    nodes_after_filter_on_comment_net = cur_nodes[filter_low_degree_nodes(comment_sub_net)]\n",
    "    print(\"Nodes after filter on comment net:\", nodes_after_filter_on_comment_net)\n",
    "    print(\"Filtering on mention_net:\")\n",
    "    mention_sub_net = mention_net.subgraph(nodes_after_filter_on_comment_net)\n",
    "    nodes_after_filter_on_mention_net = nodes_after_filter_on_comment_net[filter_low_degree_nodes(mention_sub_net)]\n",
    "    print(\"Nodes after filter on mention net:\", nodes_after_filter_on_mention_net)\n",
    "    print(\"Filtering on friend_net:\")\n",
    "    friend_sub_net = friend_net.subgraph(nodes_after_filter_on_mention_net)\n",
    "    cur_nodes = nodes_after_filter_on_mention_net[filter_low_degree_nodes(friend_sub_net)]\n",
    "    print(\"Current nodes:\", cur_nodes)\n",
    "    print(\"Checking...\")\n",
    "    if checker(): break\n",
    "    i += 1\n",
    "#\n",
    "final_nodes = cur_nodes"
   ]
  },
  {
   "cell_type": "code",
   "execution_count": 10,
   "id": "57a104cc",
   "metadata": {},
   "outputs": [],
   "source": [
    "# get final networks\n",
    "final_friend_net = friend_net.subgraph(final_nodes)\n",
    "final_comment_net = comment_net.subgraph(final_nodes)\n",
    "final_mention_net = mention_net.subgraph(final_nodes)"
   ]
  },
  {
   "cell_type": "markdown",
   "id": "03207c09",
   "metadata": {},
   "source": [
    "# Saving Data"
   ]
  },
  {
   "cell_type": "code",
   "execution_count": 11,
   "id": "3418f9c3",
   "metadata": {
    "scrolled": true
   },
   "outputs": [],
   "source": [
    "directory = \"ProcessedData\"\n",
    "# write final nodes to file\n",
    "final_nodes_path = directory + \"/included_users_(sorted).csv\"\n",
    "final_nodes_DF = pd.DataFrame(final_nodes.numpy(),columns=['user_id'])\n",
    "final_nodes_DF.index.name = \"Indices\"\n",
    "final_nodes_DF.to_csv(final_nodes_path)"
   ]
  },
  {
   "cell_type": "code",
   "execution_count": 12,
   "id": "137e0049",
   "metadata": {},
   "outputs": [],
   "source": [
    "# write filtered network edgelists to files\n",
    "friend_edge_list_path = directory + \"/friend_edges.csv\"\n",
    "friend_edge_list_DF = pd.DataFrame(final_friend_net.edge_index.t().numpy(),columns=['user_id','follower_id'])\n",
    "friend_edge_list_DF.to_csv(friend_edge_list_path, index = False)"
   ]
  },
  {
   "cell_type": "code",
   "execution_count": 13,
   "id": "0d2041a3",
   "metadata": {},
   "outputs": [],
   "source": [
    "comment_edge_list_path = directory + \"/comment_edges.csv\"\n",
    "comment_edge_list_DF = pd.DataFrame(final_comment_net.edge_index.t().numpy(),columns=['who-comment','comment-who'])\n",
    "comment_edge_list_DF.to_csv(comment_edge_list_path, index = False)"
   ]
  },
  {
   "cell_type": "code",
   "execution_count": 14,
   "id": "8ea7c3b2",
   "metadata": {},
   "outputs": [],
   "source": [
    "mention_edge_list_path = directory + \"/mention_edges.csv\"\n",
    "mention_edge_list_DF = pd.DataFrame(final_mention_net.edge_index.t().numpy(),columns=['who-mention','mention-who'])\n",
    "mention_edge_list_DF.to_csv(mention_edge_list_path, index = False)"
   ]
  },
  {
   "cell_type": "markdown",
   "id": "b667c8a5",
   "metadata": {},
   "source": [
    "# Testing"
   ]
  },
  {
   "cell_type": "code",
   "execution_count": 15,
   "id": "29725867",
   "metadata": {},
   "outputs": [
    {
     "name": "stdout",
     "output_type": "stream",
     "text": [
      "tensor([    5,     6,     7,     8,     9,    10,    11,    12,    13,    14,\n",
      "           15,    16,    17,    18,    19,    20,    21,    22,    23,    24,\n",
      "           25,    26,    27,    28,    29,    30,    31,    32,    33,    34,\n",
      "           35,    36,    37,    38,    39,    40,    41,    42,    43,    44,\n",
      "           45,    46,    47,    48,    49,    50,    51,    52,    53,    54,\n",
      "           55,    56,    57,    58,    59,    60,    61,    62,    63,    64,\n",
      "           65,    66,    67,    68,    69,    70,    71,    72,    73,    74,\n",
      "           75,    76,    77,    78,    79,    80,    81,    82,    83,    84,\n",
      "           85,    86,    87,    88,    89,    90,    91,    92,    93,    94,\n",
      "           95,    96,    97,    98,    99,   100,   101,   102,   103,   104,\n",
      "          105,   106,   107,   108,   109,   110,   111,   112,   113,   114,\n",
      "          115,   116,   117,   118,   119,   120,   121,   122,   123,   124,\n",
      "          125,   126,   127,   128,   129,   130,   131,   132,   133,   134,\n",
      "          135,   136,   137,   138,   139,   140,   141,   142,   143,   144,\n",
      "          145,   146,   147,   148,   149,   150,   151,   152,   153,   154,\n",
      "          155,   156,   157,   158,   159,   160,   161,   162,   163,   164,\n",
      "          165,   166,   167,   168,   169,   170,   171,   172,   173,   174,\n",
      "          175,   176,   177,   178,   179,   180,   181,   182,   183,   184,\n",
      "          185,   186,   187,   188,   189,   190,   191,   192,   193,   194,\n",
      "          195,   196,   197,   198,   199,   200,   201,   202,   203,   204,\n",
      "          205,   206,   207,   208,   209,   210,   211,   212,   213,   214,\n",
      "          215,   216,   217,   218,   219,   220,   221,   222,   223,   224,\n",
      "          225,   226,   227,   228,   229,   230,   231,   232,   233,   234,\n",
      "          235,   236,   237,   238,   239,   240,   241,   242,   243,   244,\n",
      "          245,   246,   247,   248,   249,   250,   251,   252,   253,   254,\n",
      "          255,   256,   257,   258,   259,   260,   261,   262,   263,   264,\n",
      "          265,   266,   267,   268,   269,   270,   271,   272,   273,   274,\n",
      "          275,   276,   277,   278,   279,   280,   281,   282,   283,   284,\n",
      "          285,   286,   287,   288,   289,   290,   291,   292,   293,   294,\n",
      "          295,   296,   297,   298,   299,   300,   301,   302,   303,   304,\n",
      "          305,   306,   307,   308,   309,   310,   311,   312,   313,   314,\n",
      "          315,   316,   317,   318,   319,   320,   321,   322,   323,   324,\n",
      "          325,   326,   327,   328,   329,   330,   331,   332,   333,   334,\n",
      "          335,   336,   337,   338,   339,   340,   341,   342,   343,   344,\n",
      "          345,   346,   347,   348,   349,   350,   351,   352,   353,   354,\n",
      "          355,   356,   357,   358,   359,   360,   361,   362,   364,   365,\n",
      "          366,   367,   368,   369,   370,   371,   373,   374,   375,   376,\n",
      "          377,   378,   379,   380,   381,   382,   384,   385,   386,   388,\n",
      "          389,   390,   391,   392,   393,   394,   395,   396,   397,   399,\n",
      "          400,   401,   402,   403,   404,   405,   406,   407,   408,   409,\n",
      "          410,   411,   412,   413,   414,   415,   416,   418,   419,   420,\n",
      "          421,   422,   423,   424,   425,   426,   427,   428,   429,   430,\n",
      "          432,   433,   434,   435,   436,   437,   438,   439,   440,   442,\n",
      "          443,   444,   445,   446,   447,   449,   450,   451,   452,   453,\n",
      "          454,   455,   457,   458,   459,   460,   462,   463,   464,   465,\n",
      "          466,   467,   468,   469,   470,   471,   473,   474,   475,   476,\n",
      "          479,   481,   483,   484,   485,   486,   487,   488,   490,   491,\n",
      "          492,   493,   494,   495,   497,   498,   499,   500,   501,   502,\n",
      "          503,   504,   505,   506,   509,   510,   513,   516,   517,   518,\n",
      "          519,   520,   523,   525,   526,   527,   528,   529,   530,   531,\n",
      "          533,   534,   535,   536,   537,   538,   539,   541,   543,   544,\n",
      "          545,   546,   547,   548,   550,   551,   552,   554,   555,   556,\n",
      "          557,   560,   561,   562,   563,   564,   565,   567,   568,   569,\n",
      "          570,   571,   574,   575,   576,   577,   578,   579,   581,   582,\n",
      "          583,   585,   586,   587,   589,   590,   592,   593,   598,   599,\n",
      "          601,   603,   604,   609,   611,   612,   616,   618,   619,   621,\n",
      "          622,   623,   624,   625,   626,   627,   628,   630,   632,   633,\n",
      "          634,   635,   636,   637,   638,   640,   642,   647,   649,   650,\n",
      "          652,   657,   658,   660,   662,   663,   665,   672,   674,   677,\n",
      "          678,   682,   685,   691,   692,   695,   699,   701,   703,   705,\n",
      "          706,   707,   709,   710,   712,   714,   715,   722,   725,   729,\n",
      "          733,   740,   741,   742,   743,   745,   750,   753,   755,   757,\n",
      "          758,   759,   761,   764,   766,   768,   770,   771,   787,   789,\n",
      "          792,   795,   799,   803,   804,   806,   807,   810,   812,   814,\n",
      "          815,   816,   819,   820,   822,   823,   824,   826,   827,   831,\n",
      "          835,   836,   837,   847,   849,   850,   851,   857,   867,   869,\n",
      "          871,   872,   884,   889,   890,   900,   910,   912,   918,   919,\n",
      "          924,   928,   930,   933,   934,   935,   938,   939,   940,   943,\n",
      "          946,   950,   953,   954,   959,   962,   965,   966,   967,   969,\n",
      "          972,   973,   976,   982,   991,  1002,  1006,  1007,  1014,  1019,\n",
      "         1022,  1023,  1024,  1025,  1039,  1041,  1044,  1047,  1048,  1054,\n",
      "         1060,  1064,  1079,  1081,  1096,  1099,  1104,  1114,  1117,  1118,\n",
      "         1126,  1127,  1128,  1132,  1147,  1151,  1154,  1157,  1162,  1164,\n",
      "         1174,  1176,  1177,  1179,  1183,  1187,  1190,  1191,  1199,  1209,\n",
      "         1215,  1224,  1233,  1237,  1241,  1247,  1266,  1271,  1293,  1311,\n",
      "         1319,  1342,  1350,  1367,  1373,  1380,  1382,  1383,  1384,  1398,\n",
      "         1409,  1410,  1421,  1426,  1435,  1439,  1444,  1455,  1466,  1471,\n",
      "         1484,  1489,  1506,  1523,  1540,  1547,  1568,  1592,  1628,  1638,\n",
      "         1650,  1697,  1702,  1706,  1714,  1774,  1793,  1795,  1806,  1835,\n",
      "         1844,  1848,  1874,  1894,  1943,  1962,  1993,  2038,  2063,  2154,\n",
      "         2212,  2270,  2271,  2376,  2409,  2440,  2443,  2450,  2657,  2663,\n",
      "         2808,  2893,  2896,  2901,  2977,  3071,  3110,  3184,  3238,  3255,\n",
      "         3286,  3316,  3411,  3442,  3451,  3471,  3588,  3666,  3717,  3943,\n",
      "         4034,  4072,  4113,  4115,  5600,  6769,  7517,  7601,  8490,  9763,\n",
      "        11873, 20843]) tensor([9093, 7237, 5717, 4778, 3870, 3411, 2971, 2630, 2345, 2021, 1811, 1631,\n",
      "        1535, 1330, 1265, 1084, 1067,  924,  893,  880,  759,  740,  667,  673,\n",
      "         614,  592,  517,  503,  515,  472,  475,  432,  366,  388,  330,  362,\n",
      "         341,  325,  343,  297,  309,  282,  297,  253,  244,  241,  219,  233,\n",
      "         220,  201,  195,  194,  182,  181,  180,  178,  180,  162,  165,  157,\n",
      "         163,  166,  127,  141,  138,  122,  123,  106,  119,  100,  105,  112,\n",
      "         113,   88,  106,  112,  113,   94,   88,   81,   90,   66,   82,   90,\n",
      "          65,   58,   72,   79,   84,   77,   71,   70,   75,   74,   65,   57,\n",
      "          71,   55,   62,   59,   52,   44,   64,   62,   41,   48,   49,   57,\n",
      "          53,   60,   46,   46,   38,   54,   42,   49,   46,   47,   38,   38,\n",
      "          41,   32,   49,   39,   31,   47,   36,   37,   32,   29,   33,   26,\n",
      "          37,   38,   30,   36,   34,   34,   32,   36,   25,   28,   20,   25,\n",
      "          30,   25,   26,   20,   22,   32,   21,   24,   26,   27,   23,   21,\n",
      "          26,   19,   29,   20,   25,   21,   23,   18,   22,   23,   21,   25,\n",
      "          18,   17,   22,   17,   22,   12,   21,   17,   27,   16,   18,   16,\n",
      "          18,   16,   17,   22,   10,   16,   16,   22,    8,   20,   19,   12,\n",
      "          12,   14,   16,   11,   11,   19,    9,   12,    9,   12,   16,    9,\n",
      "          18,   10,   11,    9,   16,   16,   14,    7,    7,   13,   16,    2,\n",
      "          14,    8,   15,   10,    5,   16,   18,    9,   15,    7,   10,    5,\n",
      "           6,   11,    7,   14,    6,    8,   10,    9,   15,    4,   10,    9,\n",
      "           6,   13,   12,    9,    6,    8,   11,    6,    8,    9,    4,    8,\n",
      "           8,    8,    9,   11,    8,   10,   10,    9,    9,   11,    9,    9,\n",
      "           8,    5,    7,   14,    5,    5,    9,    6,    9,    8,    7,    7,\n",
      "           3,   12,    2,    5,    4,    5,    7,    5,    1,    4,    4,    6,\n",
      "           8,    6,    6,    7,    4,    7,   10,    5,    3,    5,    5,    5,\n",
      "           4,    2,    2,    4,    8,    5,    3,    6,    6,    2,    7,    5,\n",
      "           7,    3,    6,    8,    3,    7,    3,    6,    4,    6,    2,    1,\n",
      "           5,    2,    2,    3,    4,    3,   11,    6,   11,    5,    7,    1,\n",
      "           1,    5,    1,    6,    3,    2,    3,    6,    5,    1,    6,    3,\n",
      "           7,    1,    8,    1,    4,    4,    5,    3,    2,    3,    4,    8,\n",
      "           3,    5,    3,    1,    2,    2,    2,    5,    3,    3,    8,    4,\n",
      "           1,    6,    2,    3,    4,    2,    5,    4,    3,    5,    2,    2,\n",
      "           4,    3,    3,    1,    4,    5,    1,    3,    2,    1,    1,    5,\n",
      "           1,    5,    4,    2,    3,    2,    3,    1,    1,    4,    1,    3,\n",
      "           5,    4,    1,    3,    1,    1,    3,    2,    2,    3,    4,    2,\n",
      "           2,    2,    2,    3,    4,    4,    2,    2,    3,    1,    3,    2,\n",
      "           2,    1,    2,    1,    2,    1,    1,    1,    1,    2,    1,    2,\n",
      "           5,    1,    1,    1,    4,    1,    2,    2,    3,    2,    3,    2,\n",
      "           1,    3,    2,    2,    3,    1,    4,    3,    1,    1,    1,    1,\n",
      "           1,    1,    2,    4,    1,    1,    1,    1,    1,    2,    2,    2,\n",
      "           2,    5,    3,    1,    2,    2,    1,    1,    2,    1,    2,    1,\n",
      "           1,    2,    2,    2,    2,    3,    2,    2,    1,    1,    1,    1,\n",
      "           1,    1,    1,    2,    1,    2,    2,    2,    1,    2,    2,    1,\n",
      "           2,    1,    2,    2,    3,    1,    2,    2,    2,    2,    2,    1,\n",
      "           2,    2,    2,    2,    2,    3,    2,    2,    4,    2,    1,    1,\n",
      "           1,    2,    1,    5,    1,    1,    1,    1,    2,    1,    2,    1,\n",
      "           1,    2,    1,    3,    2,    1,    1,    1,    1,    1,    1,    1,\n",
      "           1,    1,    1,    1,    1,    1,    2,    3,    1,    1,    1,    1,\n",
      "           1,    1,    2,    1,    1,    1,    1,    2,    1,    1,    2,    1,\n",
      "           1,    2,    1,    2,    1,    2,    1,    1,    1,    1,    1,    2,\n",
      "           1,    1,    1,    2,    1,    1,    1,    1,    2,    5,    1,    1,\n",
      "           2,    4,    1,    1,    1,    1,    1,    1,    1,    1,    1,    1,\n",
      "           2,    1,    1,    1,    1,    1,    1,    1,    2,    2,    1,    1,\n",
      "           2,    1,    1,    1,    1,    2,    1,    1,    1,    1,    1,    2,\n",
      "           1,    1,    1,    1,    1,    2,    1,    1,    1,    1,    1,    1,\n",
      "           2,    1,    1,    1,    1,    1,    1,    1,    1,    1,    1,    1,\n",
      "           1,    1,    1,    1,    1,    1,    1,    1,    1,    1,    2,    1,\n",
      "           1,    1,    1,    1,    1,    1,    1,    1,    1,    1,    2,    2,\n",
      "           1,    1,    1,    1,    2,    1,    1,    1,    1,    1,    1,    1,\n",
      "           1,    1,    1,    2,    1,    1,    1,    1,    1,    1,    1,    1,\n",
      "           1,    1,    1,    1,    1,    1,    1,    1,    1,    1,    1,    1,\n",
      "           1,    1,    1,    1,    1,    1,    1,    1,    1,    1,    1,    1,\n",
      "           1,    1,    2,    1,    1,    1,    1,    1,    1,    1,    1,    1,\n",
      "           1,    1,    1,    1,    1,    1,    1,    1,    2,    1,    1,    1,\n",
      "           1,    1,    1,    1,    1,    1,    1,    1,    1,    1,    1,    1,\n",
      "           1,    1,    1,    1,    1,    1,    1,    1,    1,    1,    1,    1,\n",
      "           1,    1,    1,    1,    1,    1,    1,    1,    1,    1,    1,    1,\n",
      "           1,    1,    1,    1,    1,    1,    1,    1,    1,    1,    1,    1,\n",
      "           1,    1,    1,    1,    1,    1,    1,    1,    1,    1,    1,    1,\n",
      "           1,    1,    1,    1,    1,    1,    1,    1,    1,    1,    1,    1,\n",
      "           1,    1])\n"
     ]
    }
   ],
   "source": [
    "# network degrees checker\n",
    "_, degs = torch.unique(final_mention_net.edge_index[0], return_counts=True)\n",
    "unique_degs,counts = torch.unique(degs, return_counts=True)\n",
    "print(unique_degs, counts)"
   ]
  },
  {
   "cell_type": "code",
   "execution_count": null,
   "id": "08da2a00",
   "metadata": {},
   "outputs": [],
   "source": []
  },
  {
   "cell_type": "code",
   "execution_count": null,
   "id": "6fdbbb90",
   "metadata": {},
   "outputs": [],
   "source": []
  },
  {
   "cell_type": "code",
   "execution_count": null,
   "id": "2d351e65",
   "metadata": {},
   "outputs": [],
   "source": []
  },
  {
   "cell_type": "code",
   "execution_count": null,
   "id": "304f7a1a",
   "metadata": {},
   "outputs": [],
   "source": []
  },
  {
   "cell_type": "code",
   "execution_count": null,
   "id": "943a7cb3",
   "metadata": {},
   "outputs": [],
   "source": []
  },
  {
   "cell_type": "code",
   "execution_count": null,
   "id": "5f9a8347",
   "metadata": {},
   "outputs": [],
   "source": []
  },
  {
   "cell_type": "code",
   "execution_count": null,
   "id": "55b4850c",
   "metadata": {},
   "outputs": [],
   "source": []
  },
  {
   "cell_type": "code",
   "execution_count": null,
   "id": "5421c1a5",
   "metadata": {},
   "outputs": [],
   "source": []
  }
 ],
 "metadata": {
  "kernelspec": {
   "display_name": "Python [conda env:pytorch-G]",
   "language": "python",
   "name": "conda-env-pytorch-G-py"
  },
  "language_info": {
   "codemirror_mode": {
    "name": "ipython",
    "version": 3
   },
   "file_extension": ".py",
   "mimetype": "text/x-python",
   "name": "python",
   "nbconvert_exporter": "python",
   "pygments_lexer": "ipython3",
   "version": "3.8.13"
  }
 },
 "nbformat": 4,
 "nbformat_minor": 5
}
