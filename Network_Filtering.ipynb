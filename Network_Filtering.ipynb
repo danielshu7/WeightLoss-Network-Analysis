{
 "cells": [
  {
   "cell_type": "code",
   "execution_count": 1,
   "id": "02ac0c9c",
   "metadata": {},
   "outputs": [],
   "source": [
    "import pandas as pd\n",
    "import time"
   ]
  },
  {
   "cell_type": "markdown",
   "id": "717fe2db",
   "metadata": {},
   "source": [
    "# Loading consolidated data"
   ]
  },
  {
   "cell_type": "code",
   "execution_count": 2,
   "id": "e3a19196",
   "metadata": {},
   "outputs": [],
   "source": [
    "userprofile = pd.read_csv('WeightLoss/userprofile.csv')"
   ]
  },
  {
   "cell_type": "markdown",
   "id": "709999f2",
   "metadata": {},
   "source": [
    "# Loading networks"
   ]
  },
  {
   "cell_type": "code",
   "execution_count": 3,
   "id": "1cda7fb6",
   "metadata": {},
   "outputs": [],
   "source": [
    "friend_consolidated = pd.read_csv('WeightLoss/network/friend_consolidated.csv')"
   ]
  },
  {
   "cell_type": "code",
   "execution_count": 4,
   "id": "268241be",
   "metadata": {},
   "outputs": [],
   "source": [
    "comment_rela = pd.read_csv('WeightLoss/network/comment_rela.csv')"
   ]
  },
  {
   "cell_type": "code",
   "execution_count": 5,
   "id": "5cc879ba",
   "metadata": {},
   "outputs": [],
   "source": [
    "mention_rela = pd.read_csv('WeightLoss/network/mention_rela.csv')\n",
    "mention_rela.dropna(subset=['who-mention'], inplace=True) # remove rows with NaN in 'who-mention'\n",
    "mention_rela['who-mention'] = mention_rela['who-mention'].astype('int64')"
   ]
  },
  {
   "cell_type": "markdown",
   "id": "076be264",
   "metadata": {},
   "source": [
    "# Working with PyTorch"
   ]
  },
  {
   "cell_type": "code",
   "execution_count": 6,
   "id": "a7d67330",
   "metadata": {},
   "outputs": [],
   "source": [
    "import torch\n",
    "from torch_geometric.data import Data"
   ]
  },
  {
   "cell_type": "code",
   "execution_count": 7,
   "id": "e0bc714c",
   "metadata": {},
   "outputs": [],
   "source": [
    "# iteratively filters out low degree nodes from a graph\n",
    "# returns list of nodes of degree at least d\n",
    "# **note this runs out of memory if run directly on friend_net, would need an iterative solution maybe\n",
    "def filter_low_degree_nodes(graph, d=5):\n",
    "    # get the nodes and their degrees\n",
    "    included_nodes, degrees = torch.unique(graph.edge_index[0], return_counts=True)\n",
    "    print(\"Current Size:\", included_nodes.shape)\n",
    "    # generate a mask that is True for degrees >= d and False otherwise\n",
    "    filter_mask = torch.ge(degrees,d)\n",
    "    if(torch.unique(filter_mask).shape[0] != 1): # check that the mask still contains both True and False, otherwise done\n",
    "        # filter the nodes based on the mask\n",
    "        filtered_nodes = torch.masked_select(included_nodes,filter_mask)\n",
    "        # generate the subgraph on the filtered nodes\n",
    "        subgraph = graph.subgraph(filtered_nodes)\n",
    "        # recursive call: now filter again based on the new subgraph\n",
    "        # returns indices on what was passed in\n",
    "        subgraph_nodes = filter_low_degree_nodes(subgraph)\n",
    "        # convert back to original node names\n",
    "        included_nodes = filtered_nodes[subgraph_nodes]\n",
    "    # return the new included_nodes\n",
    "    return included_nodes"
   ]
  },
  {
   "cell_type": "code",
   "execution_count": 8,
   "id": "27172a9e",
   "metadata": {},
   "outputs": [
    {
     "name": "stderr",
     "output_type": "stream",
     "text": [
      "C:\\Users\\danie\\anaconda3\\envs\\pytorch-G\\lib\\site-packages\\torch_geometric\\data\\storage.py:261: UserWarning: Unable to accurately infer 'num_nodes' from the attribute set '{'edge_index'}'. Please explicitly set 'num_nodes' as an attribute of 'data' to suppress this warning\n",
      "  warnings.warn(\n"
     ]
    }
   ],
   "source": [
    "def to_undirected(edge_index):\n",
    "    row, col = edge_index\n",
    "    new_row = torch.cat([row, col])\n",
    "    new_col = torch.cat([col, row])\n",
    "    return torch.stack([new_row, new_col], dim=0)\n",
    "\n",
    "num_nodes = userprofile[\"user_id\"].max() # max id\n",
    "\n",
    "# convert data to appropriate form and generate an undirected PyG graph\n",
    "friend_edge_index = torch.from_numpy(friend_consolidated.iloc[:,[0,1]].to_numpy())\n",
    "friend_net = Data(edge_index=to_undirected(friend_edge_index.t().contiguous()))\n",
    "friend_net.coalesce()\n",
    "friend_net.num_nodes = num_nodes\n",
    "\n",
    "comment_edge_index = torch.from_numpy(comment_rela.iloc[:,[0,1]].to_numpy())\n",
    "comment_net = Data(edge_index=to_undirected(comment_edge_index.t().contiguous()))\n",
    "comment_net.coalesce()\n",
    "comment_net.num_nodes = num_nodes\n",
    "\n",
    "mention_edge_index = torch.from_numpy(mention_rela.iloc[:,[0,1]].to_numpy())\n",
    "mention_net = Data(edge_index=to_undirected(mention_edge_index.t().contiguous()))\n",
    "mention_net.coalesce()\n",
    "mention_net.num_nodes = num_nodes"
   ]
  },
  {
   "cell_type": "code",
   "execution_count": null,
   "id": "f5776672",
   "metadata": {},
   "outputs": [],
   "source": []
  },
  {
   "cell_type": "code",
   "execution_count": 9,
   "id": "9a3b0ab1",
   "metadata": {},
   "outputs": [
    {
     "name": "stdout",
     "output_type": "stream",
     "text": [
      "Filtering on comment_net:\n",
      "Current Size: torch.Size([9329140])\n",
      "Current Size: torch.Size([174003])\n",
      "Current Size: torch.Size([168641])\n",
      "Current Size: torch.Size([168290])\n",
      "Current Size: torch.Size([168255])\n",
      "Current Size: torch.Size([168251])\n",
      "Current Size: torch.Size([168250])\n",
      "Current Size: torch.Size([168249])\n",
      "Nodes after filter on comment net: tensor([       3,        4,       10,  ..., 12325382, 12325432, 12325695])\n",
      "Filtering on mention_net:\n",
      "Current Size: torch.Size([157259])\n",
      "Current Size: torch.Size([91256])\n",
      "Current Size: torch.Size([87033])\n",
      "Current Size: torch.Size([86397])\n",
      "Current Size: torch.Size([86277])\n",
      "Current Size: torch.Size([86246])\n",
      "Current Size: torch.Size([86237])\n",
      "Current Size: torch.Size([86236])\n",
      "Nodes after filter on mention net: tensor([       3,        4,       10,  ..., 12306610, 12313493, 12319107])\n",
      "Filtering on friend_net:\n",
      "Current Size: torch.Size([84967])\n",
      "Current Size: torch.Size([84458])\n",
      "Current nodes: tensor([       3,        4,       10,  ..., 11949862, 11950136, 11950314])\n",
      "Checking...\n",
      "Failed...\n",
      "Filtering on comment_net:\n",
      "Current Size: torch.Size([84458])\n",
      "Current Size: torch.Size([84249])\n",
      "Current Size: torch.Size([84248])\n",
      "Nodes after filter on comment net: tensor([       3,        4,       10,  ..., 11949862, 11950136, 11950314])\n",
      "Filtering on mention_net:\n",
      "Current Size: torch.Size([84248])\n",
      "Current Size: torch.Size([83766])\n",
      "Current Size: torch.Size([83715])\n",
      "Current Size: torch.Size([83704])\n",
      "Nodes after filter on mention net: tensor([       3,        4,       10,  ..., 11949862, 11950136, 11950314])\n",
      "Filtering on friend_net:\n",
      "Current Size: torch.Size([83704])\n",
      "Current Size: torch.Size([83702])\n",
      "Current nodes: tensor([       3,        4,       10,  ..., 11949862, 11950136, 11950314])\n",
      "Checking...\n",
      "Failed...\n",
      "Filtering on comment_net:\n",
      "Current Size: torch.Size([83702])\n",
      "Current Size: torch.Size([83701])\n",
      "Nodes after filter on comment net: tensor([       3,        4,       10,  ..., 11949862, 11950136, 11950314])\n",
      "Filtering on mention_net:\n",
      "Current Size: torch.Size([83701])\n",
      "Nodes after filter on mention net: tensor([       3,        4,       10,  ..., 11949862, 11950136, 11950314])\n",
      "Filtering on friend_net:\n",
      "Current Size: torch.Size([83701])\n",
      "Current nodes: tensor([       3,        4,       10,  ..., 11949862, 11950136, 11950314])\n",
      "Checking...\n",
      "Done!\n"
     ]
    }
   ],
   "source": [
    "# filter out the low degree nodes\n",
    "def checker():\n",
    "    test_nets = [friend_net.subgraph(cur_nodes), comment_net.subgraph(cur_nodes), mention_net.subgraph(cur_nodes)]\n",
    "    \n",
    "    for test_net in test_nets:\n",
    "        _, degs = torch.unique(test_net.edge_index[0], return_counts=True)\n",
    "        unique_degs = torch.unique(degs)\n",
    "        if unique_degs.min() < 5: \n",
    "            print(\"Failed...\")\n",
    "            return False\n",
    "    #\n",
    "    print(\"Done!\")\n",
    "    return True\n",
    "    \n",
    "i = 0\n",
    "hard_loop_cap = 10\n",
    "cur_nodes = torch.arange(num_nodes)\n",
    "while(i < hard_loop_cap):\n",
    "    print(\"Filtering on comment_net:\")\n",
    "    comment_sub_net = comment_net.subgraph(cur_nodes)\n",
    "    nodes_after_filter_on_comment_net = cur_nodes[filter_low_degree_nodes(comment_sub_net)]\n",
    "    print(\"Nodes after filter on comment net:\", nodes_after_filter_on_comment_net)\n",
    "    print(\"Filtering on mention_net:\")\n",
    "    mention_sub_net = mention_net.subgraph(nodes_after_filter_on_comment_net)\n",
    "    nodes_after_filter_on_mention_net = nodes_after_filter_on_comment_net[filter_low_degree_nodes(mention_sub_net)]\n",
    "    print(\"Nodes after filter on mention net:\", nodes_after_filter_on_mention_net)\n",
    "    print(\"Filtering on friend_net:\")\n",
    "    friend_sub_net = friend_net.subgraph(nodes_after_filter_on_mention_net)\n",
    "    cur_nodes = nodes_after_filter_on_mention_net[filter_low_degree_nodes(friend_sub_net)]\n",
    "    print(\"Current nodes:\", cur_nodes)\n",
    "    print(\"Checking...\")\n",
    "    if checker(): break\n",
    "    i += 1\n",
    "#\n",
    "final_nodes = cur_nodes"
   ]
  },
  {
   "cell_type": "code",
   "execution_count": 10,
   "id": "57a104cc",
   "metadata": {},
   "outputs": [],
   "source": [
    "# get final networks\n",
    "final_friend_net = friend_net.subgraph(final_nodes)\n",
    "final_comment_net = comment_net.subgraph(final_nodes)\n",
    "final_mention_net = mention_net.subgraph(final_nodes)"
   ]
  },
  {
   "cell_type": "markdown",
<<<<<<< Updated upstream
   "id": "62414610",
=======
   "id": "1826572c",
>>>>>>> Stashed changes
   "metadata": {},
   "source": [
    "# Saving Data"
   ]
  },
  {
   "cell_type": "code",
<<<<<<< Updated upstream
   "execution_count": 30,
=======
   "execution_count": 11,
>>>>>>> Stashed changes
   "id": "3418f9c3",
   "metadata": {
    "scrolled": true
   },
   "outputs": [],
   "source": [
    "directory = \"ProcessedData\"\n",
    "# write final nodes to file\n",
    "final_nodes_path = directory + \"/included_users_(sorted).csv\"\n",
    "final_nodes_DF = pd.DataFrame(final_nodes.numpy(),columns=['user_id'])\n",
    "final_nodes_DF.to_csv(final_nodes_path, index = False)"
   ]
  },
  {
   "cell_type": "code",
<<<<<<< Updated upstream
   "execution_count": 31,
   "id": "d78ad220",
=======
   "execution_count": 12,
   "id": "f0b02c9d",
>>>>>>> Stashed changes
   "metadata": {},
   "outputs": [],
   "source": [
    "# write filtered network edgelists to files\n",
    "friend_edge_list_path = directory + \"/friend_edges.csv\"\n",
    "friend_edge_list_DF = pd.DataFrame(final_friend_net.edge_index.t().numpy(),columns=['user_id','follower_id'])\n",
    "friend_edge_list_DF.to_csv(friend_edge_list_path, index = False)"
   ]
  },
  {
   "cell_type": "code",
<<<<<<< Updated upstream
   "execution_count": 32,
=======
   "execution_count": 13,
>>>>>>> Stashed changes
   "id": "0d2041a3",
   "metadata": {},
   "outputs": [],
   "source": [
    "comment_edge_list_path = directory + \"/comment_edges.csv\"\n",
    "comment_edge_list_DF = pd.DataFrame(final_comment_net.edge_index.t().numpy(),columns=['who-comment','comment-who'])\n",
    "comment_edge_list_DF.to_csv(comment_edge_list_path, index = False)"
   ]
  },
  {
   "cell_type": "code",
<<<<<<< Updated upstream
   "execution_count": 34,
   "id": "b7625f7d",
=======
   "execution_count": 14,
   "id": "96faac3b",
>>>>>>> Stashed changes
   "metadata": {},
   "outputs": [],
   "source": [
    "mention_edge_list_path = directory + \"/mention_edges.csv\"\n",
    "mention_edge_list_DF = pd.DataFrame(final_mention_net.edge_index.t().numpy(),columns=['who-mention','mention-who'])\n",
    "mention_edge_list_DF.to_csv(mention_edge_list_path, index = False)"
   ]
  },
  {
   "cell_type": "markdown",
   "id": "b667c8a5",
   "metadata": {},
   "source": [
    "# Testing"
   ]
  },
  {
   "cell_type": "code",
   "execution_count": null,
   "id": "29725867",
   "metadata": {},
   "outputs": [],
   "source": [
    "# network degrees checker\n",
    "_, degs = torch.unique(final_mention_net.edge_index[0], return_counts=True)\n",
    "unique_degs,counts = torch.unique(degs, return_counts=True)\n",
    "print(unique_degs, counts)"
   ]
  },
  {
   "cell_type": "code",
   "execution_count": null,
   "id": "08da2a00",
   "metadata": {},
   "outputs": [],
   "source": []
  },
  {
   "cell_type": "code",
   "execution_count": null,
   "id": "6fdbbb90",
   "metadata": {},
   "outputs": [],
   "source": []
  },
  {
   "cell_type": "code",
   "execution_count": null,
   "id": "2d351e65",
   "metadata": {},
   "outputs": [],
   "source": []
  },
  {
   "cell_type": "code",
   "execution_count": null,
   "id": "304f7a1a",
   "metadata": {},
   "outputs": [],
   "source": []
  },
  {
   "cell_type": "code",
   "execution_count": null,
   "id": "943a7cb3",
   "metadata": {},
   "outputs": [],
   "source": []
  },
  {
   "cell_type": "code",
   "execution_count": null,
   "id": "5f9a8347",
   "metadata": {},
   "outputs": [],
   "source": []
  },
  {
   "cell_type": "code",
   "execution_count": null,
   "id": "55b4850c",
   "metadata": {},
   "outputs": [],
   "source": []
  },
  {
   "cell_type": "code",
   "execution_count": null,
   "id": "5421c1a5",
   "metadata": {},
   "outputs": [],
   "source": []
  }
 ],
 "metadata": {
  "kernelspec": {
   "display_name": "Python [conda env:pytorch-G]",
   "language": "python",
   "name": "conda-env-pytorch-G-py"
  },
  "language_info": {
   "codemirror_mode": {
    "name": "ipython",
    "version": 3
   },
   "file_extension": ".py",
   "mimetype": "text/x-python",
   "name": "python",
   "nbconvert_exporter": "python",
   "pygments_lexer": "ipython3",
   "version": "3.8.13"
  }
 },
 "nbformat": 4,
 "nbformat_minor": 5
}
