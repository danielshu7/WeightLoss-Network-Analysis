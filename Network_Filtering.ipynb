{
 "cells": [
  {
   "cell_type": "code",
   "execution_count": 1,
   "id": "02ac0c9c",
   "metadata": {},
   "outputs": [],
   "source": [
    "import pandas as pd"
   ]
  },
  {
   "cell_type": "markdown",
   "id": "717fe2db",
   "metadata": {},
   "source": [
    "# Loading consolidated data"
   ]
  },
  {
   "cell_type": "code",
   "execution_count": 2,
   "id": "e3a19196",
   "metadata": {},
   "outputs": [],
   "source": [
    "userprofile = pd.read_csv('WeightLoss/userprofile.csv')"
   ]
  },
  {
   "cell_type": "markdown",
   "id": "709999f2",
   "metadata": {},
   "source": [
    "# Loading networks"
   ]
  },
  {
   "cell_type": "code",
   "execution_count": 3,
   "id": "1cda7fb6",
   "metadata": {},
   "outputs": [],
   "source": [
    "friend_consolidated = pd.read_csv('WeightLoss/network/friend_consolidated.csv')"
   ]
  },
  {
   "cell_type": "code",
   "execution_count": 4,
   "id": "268241be",
   "metadata": {},
   "outputs": [],
   "source": [
    "comment_rela = pd.read_csv('WeightLoss/network/comment_rela.csv')"
   ]
  },
  {
   "cell_type": "code",
   "execution_count": 5,
   "id": "5cc879ba",
   "metadata": {},
   "outputs": [],
   "source": [
    "mention_rela = pd.read_csv('WeightLoss/network/mention_rela.csv')\n",
    "mention_rela.dropna(subset=['who-mention'], inplace=True) # remove rows with NaN in 'who-mention'\n",
    "mention_rela['who-mention'] = mention_rela['who-mention'].astype('int64')"
   ]
  },
  {
   "cell_type": "markdown",
   "id": "076be264",
   "metadata": {},
   "source": [
    "# Working with PyTorch"
   ]
  },
  {
   "cell_type": "code",
   "execution_count": 6,
   "id": "a7d67330",
   "metadata": {},
   "outputs": [],
   "source": [
    "import torch\n",
    "from torch_geometric.data import Data"
   ]
  },
  {
   "cell_type": "code",
   "execution_count": 7,
   "id": "e0bc714c",
   "metadata": {},
   "outputs": [],
   "source": [
    "# iteratively filters out low degree nodes from a graph\n",
    "# returns list of nodes of degree at least d\n",
    "# **note this runs out of memory if run directly on friend_net, would need an iterative solution maybe\n",
    "def filter_low_degree_nodes(graph, d=5):\n",
    "    # get the nodes and their degrees\n",
    "    included_nodes, degrees = torch.unique(graph.edge_index[0], return_counts=True)\n",
    "    print(\"Current Size:\", included_nodes.shape)\n",
    "    # generate a mask that is True for degrees >= d and False otherwise\n",
    "    filter_mask = torch.ge(degrees,d)\n",
    "    if(torch.unique(filter_mask).shape[0] != 1): # check that the mask still contains both True and False, otherwise done\n",
    "        # filter the nodes based on the mask\n",
    "        filtered_nodes = torch.masked_select(included_nodes,filter_mask)\n",
    "        # generate the subgraph on the filtered nodes\n",
    "        subgraph = graph.subgraph(filtered_nodes)\n",
    "        # recursive call: now filter again based on the new subgraph\n",
    "        # returns indices on what was passed in\n",
    "        subgraph_nodes = filter_low_degree_nodes(subgraph)\n",
    "        # convert back to original node names\n",
    "        included_nodes = filtered_nodes[subgraph_nodes]\n",
    "    # return the new included_nodes\n",
    "    return included_nodes"
   ]
  },
  {
   "cell_type": "code",
   "execution_count": 8,
   "id": "27172a9e",
   "metadata": {},
   "outputs": [
    {
     "name": "stderr",
     "output_type": "stream",
     "text": [
      "C:\\Users\\danie\\anaconda3\\envs\\pytorch-G\\lib\\site-packages\\torch_geometric\\data\\storage.py:261: UserWarning: Unable to accurately infer 'num_nodes' from the attribute set '{'edge_index'}'. Please explicitly set 'num_nodes' as an attribute of 'data' to suppress this warning\n",
      "  warnings.warn(\n"
     ]
    }
   ],
   "source": [
    "def to_undirected(edge_index):\n",
    "    row, col = edge_index\n",
    "    new_row = torch.cat([row, col])\n",
    "    new_col = torch.cat([col, row])\n",
    "    return torch.stack([new_row, new_col], dim=0)\n",
    "\n",
    "num_nodes = userprofile[\"user_id\"].max() # max id\n",
    "\n",
    "# convert data to appropriate form and generate an undirected PyG graph\n",
    "friend_edge_index = torch.from_numpy(friend_consolidated.iloc[:,[0,1]].to_numpy())\n",
    "friend_net = Data(edge_index=to_undirected(friend_edge_index.t().contiguous()))\n",
    "friend_net.coalesce()\n",
    "friend_net.num_nodes = num_nodes\n",
    "\n",
    "comment_edge_index = torch.from_numpy(comment_rela.iloc[:,[0,1]].to_numpy())\n",
    "comment_net = Data(edge_index=to_undirected(comment_edge_index.t().contiguous()))\n",
    "comment_net.coalesce()\n",
    "comment_net.num_nodes = num_nodes\n",
    "\n",
    "mention_edge_index = torch.from_numpy(mention_rela.iloc[:,[0,1]].to_numpy())\n",
    "mention_net = Data(edge_index=to_undirected(mention_edge_index.t().contiguous()))\n",
    "mention_net.coalesce()\n",
    "mention_net.num_nodes = num_nodes"
   ]
  },
  {
   "cell_type": "code",
   "execution_count": null,
   "id": "c0412cd6",
   "metadata": {},
   "outputs": [],
   "source": []
  },
  {
   "cell_type": "code",
   "execution_count": 9,
   "id": "9a3b0ab1",
   "metadata": {},
   "outputs": [
    {
     "name": "stdout",
     "output_type": "stream",
     "text": [
      "Filtering on comment_net:\n",
      "Current Size: torch.Size([9329140])\n",
      "Current Size: torch.Size([174003])\n",
      "Current Size: torch.Size([168641])\n",
      "Current Size: torch.Size([168290])\n",
      "Current Size: torch.Size([168255])\n",
      "Current Size: torch.Size([168251])\n",
      "Current Size: torch.Size([168250])\n",
      "Current Size: torch.Size([168249])\n",
      "Nodes after filter on comment net: tensor([       3,        4,       10,  ..., 12325382, 12325432, 12325695])\n",
      "Filtering on mention_net:\n",
      "Current Size: torch.Size([157259])\n",
      "Current Size: torch.Size([91256])\n",
      "Current Size: torch.Size([87033])\n",
      "Current Size: torch.Size([86397])\n",
      "Current Size: torch.Size([86277])\n",
      "Current Size: torch.Size([86246])\n",
      "Current Size: torch.Size([86237])\n",
      "Current Size: torch.Size([86236])\n",
      "Nodes after filter on mention net: tensor([       3,        4,       10,  ..., 12306610, 12313493, 12319107])\n",
      "Filtering on friend_net:\n",
      "Current Size: torch.Size([84967])\n",
      "Current Size: torch.Size([84458])\n",
      "Current nodes: tensor([       3,        4,       10,  ..., 11949862, 11950136, 11950314])\n",
      "Checking...\n",
      "Failed...\n",
      "Filtering on comment_net:\n",
      "Current Size: torch.Size([84458])\n",
      "Current Size: torch.Size([84249])\n",
      "Current Size: torch.Size([84248])\n",
      "Nodes after filter on comment net: tensor([       3,        4,       10,  ..., 11949862, 11950136, 11950314])\n",
      "Filtering on mention_net:\n",
      "Current Size: torch.Size([84248])\n",
      "Current Size: torch.Size([83766])\n",
      "Current Size: torch.Size([83715])\n",
      "Current Size: torch.Size([83704])\n",
      "Nodes after filter on mention net: tensor([       3,        4,       10,  ..., 11949862, 11950136, 11950314])\n",
      "Filtering on friend_net:\n",
      "Current Size: torch.Size([83704])\n",
      "Current Size: torch.Size([83702])\n",
      "Current nodes: tensor([       3,        4,       10,  ..., 11949862, 11950136, 11950314])\n",
      "Checking...\n",
      "Failed...\n",
      "Filtering on comment_net:\n",
      "Current Size: torch.Size([83702])\n",
      "Current Size: torch.Size([83701])\n",
      "Nodes after filter on comment net: tensor([       3,        4,       10,  ..., 11949862, 11950136, 11950314])\n",
      "Filtering on mention_net:\n",
      "Current Size: torch.Size([83701])\n",
      "Nodes after filter on mention net: tensor([       3,        4,       10,  ..., 11949862, 11950136, 11950314])\n",
      "Filtering on friend_net:\n",
      "Current Size: torch.Size([83701])\n",
      "Current nodes: tensor([       3,        4,       10,  ..., 11949862, 11950136, 11950314])\n",
      "Checking...\n",
      "Done!\n"
     ]
    }
   ],
   "source": [
    "# filter out the low degree nodes\n",
    "def checker():\n",
    "    test_nets = [friend_net.subgraph(cur_nodes), comment_net.subgraph(cur_nodes), mention_net.subgraph(cur_nodes)]\n",
    "    \n",
    "    for test_net in test_nets:\n",
    "        _, degs = torch.unique(test_net.edge_index[0], return_counts=True)\n",
    "        unique_degs = torch.unique(degs)\n",
    "        if unique_degs.min() < 5: \n",
    "            print(\"Failed...\")\n",
    "            return False\n",
    "    #\n",
    "    print(\"Done!\")\n",
    "    return True\n",
    "    \n",
    "i = 0\n",
    "hard_loop_cap = 10\n",
    "cur_nodes = torch.arange(num_nodes)\n",
    "while(i < hard_loop_cap):\n",
    "    print(\"Filtering on comment_net:\")\n",
    "    comment_sub_net = comment_net.subgraph(cur_nodes)\n",
    "    nodes_after_filter_on_comment_net = cur_nodes[filter_low_degree_nodes(comment_sub_net)]\n",
    "    print(\"Nodes after filter on comment net:\", nodes_after_filter_on_comment_net)\n",
    "    print(\"Filtering on mention_net:\")\n",
    "    mention_sub_net = mention_net.subgraph(nodes_after_filter_on_comment_net)\n",
    "    nodes_after_filter_on_mention_net = nodes_after_filter_on_comment_net[filter_low_degree_nodes(mention_sub_net)]\n",
    "    print(\"Nodes after filter on mention net:\", nodes_after_filter_on_mention_net)\n",
    "    print(\"Filtering on friend_net:\")\n",
    "    friend_sub_net = friend_net.subgraph(nodes_after_filter_on_mention_net)\n",
    "    cur_nodes = nodes_after_filter_on_mention_net[filter_low_degree_nodes(friend_sub_net)]\n",
    "    print(\"Current nodes:\", cur_nodes)\n",
    "    print(\"Checking...\")\n",
    "    if checker(): break\n",
    "    i += 1\n",
    "#\n",
    "final_nodes = cur_nodes"
   ]
  },
  {
   "cell_type": "code",
   "execution_count": 10,
   "id": "57a104cc",
   "metadata": {},
   "outputs": [],
   "source": [
    "# get final networks\n",
    "final_friend_net = friend_net.subgraph(final_nodes)\n",
    "final_comment_net = comment_net.subgraph(final_nodes)\n",
    "final_mention_net = mention_net.subgraph(final_nodes)"
   ]
  },
  {
   "cell_type": "markdown",
   "id": "03207c09",
   "metadata": {},
   "source": [
    "# Saving Data"
   ]
  },
  {
   "cell_type": "code",
   "execution_count": 11,
   "id": "3418f9c3",
   "metadata": {
    "scrolled": true
   },
   "outputs": [],
   "source": [
    "directory = \"ProcessedData\"\n",
    "# write final nodes to file\n",
    "final_nodes_path = directory + \"/included_users_(sorted).csv\"\n",
    "final_nodes_DF = pd.DataFrame(final_nodes.numpy(),columns=['user_id'])\n",
    "final_nodes_DF.index.name = \"Indices\"\n",
    "final_nodes_DF.to_csv(final_nodes_path)"
   ]
  },
  {
   "cell_type": "code",
   "execution_count": 12,
   "id": "137e0049",
   "metadata": {},
   "outputs": [],
   "source": [
    "# write filtered network edgelists to files\n",
    "friend_edge_list_path = directory + \"/friend_edges.csv\"\n",
    "friend_edge_list_DF = pd.DataFrame(final_friend_net.edge_index.t().numpy(),columns=['user_id','follower_id'])\n",
    "friend_edge_list_DF.to_csv(friend_edge_list_path, index = False)"
   ]
  },
  {
   "cell_type": "code",
   "execution_count": 13,
   "id": "0d2041a3",
   "metadata": {},
   "outputs": [],
   "source": [
    "comment_edge_list_path = directory + \"/comment_edges.csv\"\n",
    "comment_edge_list_DF = pd.DataFrame(final_comment_net.edge_index.t().numpy(),columns=['who-comment','comment-who'])\n",
    "comment_edge_list_DF.to_csv(comment_edge_list_path, index = False)"
   ]
  },
  {
   "cell_type": "code",
   "execution_count": 14,
   "id": "8ea7c3b2",
   "metadata": {},
   "outputs": [],
   "source": [
    "mention_edge_list_path = directory + \"/mention_edges.csv\"\n",
    "mention_edge_list_DF = pd.DataFrame(final_mention_net.edge_index.t().numpy(),columns=['who-mention','mention-who'])\n",
    "mention_edge_list_DF.to_csv(mention_edge_list_path, index = False)"
   ]
  },
  {
   "cell_type": "markdown",
   "id": "b667c8a5",
   "metadata": {},
   "source": [
    "# Testing"
   ]
  },
  {
   "cell_type": "code",
   "execution_count": 15,
   "id": "29725867",
   "metadata": {},
   "outputs": [
    {
     "name": "stdout",
     "output_type": "stream",
     "text": [
      "tensor([    5,     6,     7,     8,     9,    10,    11,    12,    13,    14,\n",
      "           15,    16,    17,    18,    19,    20,    21,    22,    23,    24,\n",
      "           25,    26,    27,    28,    29,    30,    31,    32,    33,    34,\n",
      "           35,    36,    37,    38,    39,    40,    41,    42,    43,    44,\n",
      "           45,    46,    47,    48,    49,    50,    51,    52,    53,    54,\n",
      "           55,    56,    57,    58,    59,    60,    61,    62,    63,    64,\n",
      "           65,    66,    67,    68,    69,    70,    71,    72,    73,    74,\n",
      "           75,    76,    77,    78,    79,    80,    81,    82,    83,    84,\n",
      "           85,    86,    87,    88,    89,    90,    91,    92,    93,    94,\n",
      "           95,    96,    97,    98,    99,   100,   101,   102,   103,   104,\n",
      "          105,   106,   107,   108,   109,   110,   111,   112,   113,   114,\n",
      "          115,   116,   117,   118,   119,   120,   121,   122,   123,   124,\n",
      "          125,   126,   127,   128,   129,   130,   131,   132,   133,   134,\n",
      "          135,   136,   137,   138,   139,   140,   141,   142,   143,   144,\n",
      "          145,   146,   147,   148,   149,   150,   151,   152,   153,   154,\n",
      "          155,   156,   157,   158,   159,   160,   161,   162,   163,   164,\n",
      "          165,   166,   167,   168,   169,   170,   171,   172,   173,   174,\n",
      "          175,   176,   177,   178,   179,   180,   181,   182,   183,   184,\n",
      "          185,   186,   187,   188,   189,   190,   191,   192,   193,   194,\n",
      "          195,   196,   197,   198,   199,   200,   201,   202,   203,   204,\n",
      "          205,   206,   207,   208,   209,   210,   211,   212,   213,   214,\n",
      "          215,   216,   217,   218,   219,   220,   221,   222,   223,   224,\n",
      "          225,   226,   227,   228,   229,   230,   231,   232,   233,   234,\n",
      "          235,   236,   237,   238,   239,   240,   241,   242,   243,   244,\n",
      "          245,   246,   247,   248,   249,   250,   251,   252,   253,   254,\n",
      "          255,   256,   257,   258,   259,   260,   261,   262,   263,   264,\n",
      "          265,   266,   267,   268,   269,   270,   271,   272,   273,   274,\n",
      "          275,   276,   277,   278,   279,   280,   281,   282,   283,   284,\n",
      "          285,   286,   287,   288,   289,   290,   291,   292,   293,   294,\n",
      "          295,   296,   297,   298,   299,   300,   301,   302,   303,   304,\n",
      "          305,   306,   307,   308,   309,   310,   311,   312,   313,   314,\n",
      "          315,   316,   317,   318,   319,   320,   321,   322,   323,   324,\n",
      "          325,   326,   327,   328,   329,   330,   331,   332,   333,   334,\n",
      "          335,   336,   337,   338,   339,   340,   341,   342,   343,   344,\n",
      "          345,   346,   347,   348,   349,   350,   351,   352,   353,   354,\n",
      "          355,   356,   357,   358,   359,   360,   361,   362,   363,   364,\n",
      "          365,   366,   367,   368,   369,   370,   371,   372,   374,   375,\n",
      "          376,   377,   378,   379,   380,   382,   383,   385,   387,   388,\n",
      "          389,   390,   391,   392,   393,   394,   396,   397,   398,   399,\n",
      "          400,   401,   402,   403,   404,   405,   406,   407,   408,   409,\n",
      "          412,   413,   414,   415,   416,   417,   418,   419,   420,   421,\n",
      "          422,   423,   424,   425,   426,   427,   428,   429,   430,   431,\n",
      "          432,   433,   434,   435,   436,   437,   438,   439,   440,   441,\n",
      "          442,   443,   444,   445,   446,   447,   448,   449,   450,   451,\n",
      "          452,   453,   454,   455,   456,   457,   459,   461,   462,   463,\n",
      "          465,   467,   468,   469,   470,   471,   472,   473,   474,   475,\n",
      "          476,   478,   479,   480,   481,   483,   484,   485,   486,   487,\n",
      "          488,   489,   490,   491,   493,   494,   495,   496,   497,   498,\n",
      "          499,   500,   501,   503,   504,   505,   506,   508,   509,   511,\n",
      "          512,   513,   515,   516,   518,   520,   521,   522,   525,   526,\n",
      "          527,   528,   529,   531,   532,   533,   535,   536,   537,   538,\n",
      "          539,   540,   543,   544,   545,   548,   549,   551,   552,   553,\n",
      "          554,   556,   557,   558,   559,   560,   561,   562,   564,   565,\n",
      "          566,   570,   571,   572,   574,   575,   576,   577,   578,   579,\n",
      "          580,   581,   582,   583,   585,   586,   587,   588,   589,   590,\n",
      "          591,   592,   594,   595,   596,   597,   598,   600,   603,   604,\n",
      "          607,   612,   613,   615,   616,   617,   618,   622,   623,   625,\n",
      "          627,   628,   630,   633,   634,   635,   636,   639,   642,   645,\n",
      "          646,   647,   649,   650,   652,   653,   659,   660,   661,   663,\n",
      "          667,   669,   672,   673,   677,   678,   680,   682,   687,   691,\n",
      "          694,   700,   702,   706,   707,   708,   712,   714,   716,   717,\n",
      "          720,   721,   722,   723,   727,   731,   734,   735,   739,   740,\n",
      "          750,   751,   752,   754,   757,   758,   759,   762,   764,   765,\n",
      "          767,   768,   769,   770,   774,   775,   776,   779,   782,   786,\n",
      "          787,   793,   800,   801,   802,   803,   807,   811,   815,   816,\n",
      "          821,   822,   824,   826,   827,   828,   830,   831,   838,   839,\n",
      "          841,   842,   844,   846,   849,   850,   851,   855,   863,   870,\n",
      "          871,   879,   882,   883,   894,   896,   898,   900,   903,   914,\n",
      "          921,   922,   926,   932,   934,   935,   938,   942,   945,   949,\n",
      "          950,   954,   955,   957,   961,   964,   974,   977,   980,   981,\n",
      "          982,   987,   995,   999,  1008,  1018,  1021,  1023,  1029,  1033,\n",
      "         1038,  1040,  1042,  1044,  1047,  1055,  1064,  1067,  1074,  1075,\n",
      "         1081,  1085,  1088,  1089,  1098,  1101,  1117,  1126,  1131,  1132,\n",
      "         1133,  1141,  1150,  1153,  1161,  1163,  1170,  1175,  1183,  1187,\n",
      "         1189,  1192,  1196,  1198,  1201,  1202,  1205,  1207,  1216,  1217,\n",
      "         1225,  1227,  1230,  1245,  1260,  1265,  1269,  1272,  1289,  1297,\n",
      "         1312,  1315,  1334,  1348,  1366,  1372,  1392,  1401,  1402,  1412,\n",
      "         1415,  1420,  1426,  1447,  1456,  1457,  1463,  1464,  1467,  1485,\n",
      "         1490,  1505,  1511,  1516,  1528,  1546,  1563,  1571,  1597,  1614,\n",
      "         1660,  1669,  1684,  1726,  1742,  1746,  1804,  1822,  1836,  1868,\n",
      "         1872,  1910,  1914,  1930,  1982,  2006,  2032,  2069,  2122,  2189,\n",
      "         2254,  2309,  2437,  2444,  2479,  2502,  2523,  2702,  2713,  2843,\n",
      "         2948,  2953,  2962,  3060,  3131,  3184,  3244,  3311,  3330,  3350,\n",
      "         3389,  3475,  3520,  3531,  3566,  3663,  3726,  3766,  4005,  4099,\n",
      "         4153,  4211,  4215,  5720,  6928,  7676,  7730,  8706,  9992, 12201,\n",
      "        21487]) tensor([9752, 7738, 6141, 5106, 4114, 3606, 3112, 2849, 2467, 2146, 1910, 1723,\n",
      "        1655, 1385, 1321, 1153, 1115, 1009,  910,  887,  850,  784,  683,  718,\n",
      "         617,  637,  558,  558,  497,  494,  498,  440,  422,  395,  372,  382,\n",
      "         334,  330,  323,  338,  317,  288,  301,  283,  272,  242,  254,  212,\n",
      "         226,  208,  226,  213,  164,  207,  204,  174,  170,  186,  174,  158,\n",
      "         151,  175,  144,  153,  126,  149,  122,  114,  130,  111,  122,  114,\n",
      "          96,  108,  100,   93,  120,  103,  106,   86,   94,   76,   94,   77,\n",
      "          81,   74,   74,   72,   79,   73,   74,   65,   81,   84,   59,   68,\n",
      "          72,   46,   69,   74,   63,   69,   48,   55,   47,   60,   55,   42,\n",
      "          53,   36,   56,   61,   56,   46,   38,   59,   39,   47,   50,   47,\n",
      "          38,   47,   32,   49,   31,   39,   40,   39,   37,   36,   40,   34,\n",
      "          30,   33,   33,   35,   28,   33,   36,   35,   38,   35,   34,   24,\n",
      "          24,   27,   24,   33,   34,   22,   24,   20,   28,   22,   22,   23,\n",
      "          26,   25,   21,   29,   15,   18,   29,   24,   20,   23,   15,   25,\n",
      "          20,   15,   23,   25,   21,   25,   27,   21,   12,   23,   13,   18,\n",
      "          12,   18,   19,   21,   20,    8,   20,   22,   14,   12,   18,   18,\n",
      "          19,   19,   14,   17,   10,   10,   18,   15,   11,   16,   11,   13,\n",
      "          16,   10,   13,   13,   12,   17,   14,    9,   18,   11,    6,    7,\n",
      "          11,   14,   15,    9,   11,    7,    8,   12,   12,    7,   13,   10,\n",
      "          14,   10,   10,   10,   12,    8,   10,    7,   10,    9,   13,    9,\n",
      "           9,    9,   10,    8,    7,    9,    7,    9,   13,    9,    7,   13,\n",
      "           7,    6,    8,    8,    6,    4,    9,    6,    6,    7,   14,   13,\n",
      "          12,    8,   10,    5,   12,    8,    5,    9,   11,    4,   10,    9,\n",
      "          12,    6,    6,    5,    6,   12,    4,    5,    4,    4,    9,    6,\n",
      "           3,    2,    2,    4,    6,    5,    5,    3,    8,    3,   14,    7,\n",
      "           8,    4,    5,    6,    5,    3,    3,    3,    7,    5,    4,    5,\n",
      "           2,    4,    2,   11,    9,    7,    1,    3,    1,    4,    5,    7,\n",
      "          10,    1,    7,    6,    3,    3,    4,    3,    9,    2,    1,    5,\n",
      "           8,    2,    9,    5,    3,    5,    5,    4,    3,    4,    4,    4,\n",
      "           3,    5,    2,    4,    3,    2,    7,    6,    7,    4,    5,    3,\n",
      "           3,    2,    2,    4,    5,    7,    3,    6,    5,    2,    2,    3,\n",
      "           4,    4,    3,    3,    7,    7,    4,    3,    2,    2,    2,    1,\n",
      "           5,    5,    4,    4,    5,    2,    2,    3,    5,    1,    3,    3,\n",
      "           1,    2,    2,    1,    4,    4,    2,    1,    1,    5,    3,    2,\n",
      "           4,    3,    5,    1,    1,    1,    5,    3,    3,    2,    2,    1,\n",
      "           4,    3,    3,    2,    1,    2,    1,    1,    3,    6,    3,    2,\n",
      "           2,    1,    1,    3,    3,    1,    2,    4,    3,    2,    1,    1,\n",
      "           2,    1,    1,    1,    3,    1,    2,    2,    1,    2,    1,    1,\n",
      "           4,    3,    2,    1,    5,    1,    2,    1,    2,    1,    1,    2,\n",
      "           1,    2,    1,    3,    3,    1,    2,    1,    1,    1,    2,    3,\n",
      "           1,    1,    1,    1,    2,    1,    2,    2,    2,    2,    2,    3,\n",
      "           3,    1,    1,    2,    2,    1,    5,    1,    2,    1,    1,    1,\n",
      "           1,    2,    2,    1,    1,    1,    2,    4,    1,    1,    2,    3,\n",
      "           1,    2,    2,    3,    1,    3,    1,    1,    1,    2,    1,    1,\n",
      "           2,    1,    2,    1,    4,    2,    2,    2,    1,    2,    1,    1,\n",
      "           1,    1,    2,    2,    2,    2,    3,    2,    2,    1,    3,    1,\n",
      "           3,    2,    2,    1,    1,    3,    1,    1,    1,    2,    1,    2,\n",
      "           1,    1,    1,    1,    1,    2,    1,    2,    2,    1,    1,    3,\n",
      "           2,    2,    2,    2,    1,    1,    2,    2,    1,    2,    3,    2,\n",
      "           1,    1,    1,    2,    1,    1,    2,    1,    1,    1,    1,    2,\n",
      "           1,    2,    1,    1,    1,    2,    3,    1,    2,    1,    1,    1,\n",
      "           1,    2,    2,    2,    1,    1,    1,    2,    1,    1,    2,    1,\n",
      "           1,    1,    1,    2,    1,    1,    1,    2,    1,    1,    1,    1,\n",
      "           1,    1,    1,    2,    1,    1,    1,    1,    1,    1,    1,    1,\n",
      "           1,    1,    1,    1,    1,    2,    1,    1,    1,    1,    1,    1,\n",
      "           2,    1,    2,    1,    2,    1,    1,    1,    1,    1,    2,    2,\n",
      "           1,    1,    1,    1,    1,    1,    1,    1,    1,    1,    1,    2,\n",
      "           1,    1,    1,    1,    1,    1,    1,    1,    1,    2,    1,    1,\n",
      "           1,    2,    1,    1,    2,    2,    1,    3,    2,    1,    1,    1,\n",
      "           1,    1,    2,    1,    1,    1,    1,    1,    1,    1,    1,    1,\n",
      "           1,    1,    1,    1,    1,    1,    1,    1,    1,    2,    1,    1,\n",
      "           1,    1,    1,    1,    2,    1,    1,    1,    1,    1,    1,    1,\n",
      "           1,    1,    1,    1,    1,    1,    1,    1,    1,    1,    1,    1,\n",
      "           1,    1,    1,    1,    1,    1,    1,    1,    1,    1,    1,    1,\n",
      "           1,    1,    1,    1,    1,    2,    1,    1,    1,    1,    1,    1,\n",
      "           1,    1,    2,    1,    1,    1,    1,    1,    1,    1,    1,    1,\n",
      "           1,    1,    2,    1,    1,    2,    1,    1,    1,    1,    1,    1,\n",
      "           1,    1,    1,    1,    1,    1,    1,    2,    1,    1,    1,    1,\n",
      "           1,    1,    1,    1,    1,    1,    1,    1,    1,    1,    1,    1,\n",
      "           1,    1,    1,    1,    1,    1,    1,    1,    1,    1,    1,    1,\n",
      "           1,    1,    1,    1,    1,    1,    1,    1,    1,    1,    1])\n"
     ]
    }
   ],
   "source": [
    "# network degrees checker\n",
    "_, degs = torch.unique(final_mention_net.edge_index[0], return_counts=True)\n",
    "unique_degs,counts = torch.unique(degs, return_counts=True)\n",
    "print(unique_degs, counts)"
   ]
  },
  {
   "cell_type": "code",
   "execution_count": null,
   "id": "08da2a00",
   "metadata": {},
   "outputs": [],
   "source": []
  },
  {
   "cell_type": "code",
   "execution_count": null,
   "id": "6fdbbb90",
   "metadata": {},
   "outputs": [],
   "source": []
  },
  {
   "cell_type": "code",
   "execution_count": null,
   "id": "2d351e65",
   "metadata": {},
   "outputs": [],
   "source": []
  },
  {
   "cell_type": "code",
   "execution_count": null,
   "id": "304f7a1a",
   "metadata": {},
   "outputs": [],
   "source": []
  },
  {
   "cell_type": "code",
   "execution_count": null,
   "id": "943a7cb3",
   "metadata": {},
   "outputs": [],
   "source": []
  },
  {
   "cell_type": "code",
   "execution_count": null,
   "id": "5f9a8347",
   "metadata": {},
   "outputs": [],
   "source": []
  },
  {
   "cell_type": "code",
   "execution_count": null,
   "id": "55b4850c",
   "metadata": {},
   "outputs": [],
   "source": []
  },
  {
   "cell_type": "code",
   "execution_count": null,
   "id": "5421c1a5",
   "metadata": {},
   "outputs": [],
   "source": []
  }
 ],
 "metadata": {
  "kernelspec": {
   "display_name": "Python [conda env:pytorch-G]",
   "language": "python",
   "name": "conda-env-pytorch-G-py"
  },
  "language_info": {
   "codemirror_mode": {
    "name": "ipython",
    "version": 3
   },
   "file_extension": ".py",
   "mimetype": "text/x-python",
   "name": "python",
   "nbconvert_exporter": "python",
   "pygments_lexer": "ipython3",
   "version": "3.8.13"
  }
 },
 "nbformat": 4,
 "nbformat_minor": 5
}
