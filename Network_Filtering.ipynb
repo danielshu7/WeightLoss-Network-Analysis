{
 "cells": [
  {
   "cell_type": "code",
   "execution_count": 1,
   "id": "02ac0c9c",
   "metadata": {},
   "outputs": [],
   "source": [
    "import pandas as pd"
   ]
  },
  {
   "cell_type": "markdown",
   "id": "717fe2db",
   "metadata": {},
   "source": [
    "# Loading consolidated data"
   ]
  },
  {
   "cell_type": "code",
   "execution_count": 2,
   "id": "e3a19196",
   "metadata": {},
   "outputs": [],
   "source": [
    "userprofile = pd.read_csv('WeightLoss/userprofile.csv')\n",
    "valid_users = pd.read_csv(\"ProcessedData/valid_user_info_consolidated.csv\", usecols = ['user_id'])"
   ]
  },
  {
   "cell_type": "markdown",
   "id": "709999f2",
   "metadata": {},
   "source": [
    "# Loading networks"
   ]
  },
  {
   "cell_type": "code",
   "execution_count": 3,
   "id": "1cda7fb6",
   "metadata": {},
   "outputs": [],
   "source": [
    "friend_consolidated = pd.read_csv('WeightLoss/network/friend_consolidated.csv')"
   ]
  },
  {
   "cell_type": "code",
   "execution_count": 4,
   "id": "268241be",
   "metadata": {},
   "outputs": [],
   "source": [
    "comment_rela = pd.read_csv('WeightLoss/network/comment_rela.csv')"
   ]
  },
  {
   "cell_type": "code",
   "execution_count": 5,
   "id": "5cc879ba",
   "metadata": {},
   "outputs": [],
   "source": [
    "mention_rela = pd.read_csv('WeightLoss/network/mention_rela.csv')\n",
    "mention_rela.dropna(subset=['who-mention'], inplace=True) # remove rows with NaN in 'who-mention'\n",
    "mention_rela['who-mention'] = mention_rela['who-mention'].astype('int64')"
   ]
  },
  {
   "cell_type": "markdown",
   "id": "076be264",
   "metadata": {},
   "source": [
    "# Working with PyTorch"
   ]
  },
  {
   "cell_type": "code",
   "execution_count": 6,
   "id": "a7d67330",
   "metadata": {},
   "outputs": [],
   "source": [
    "import torch\n",
    "from torch_geometric.data import Data"
   ]
  },
  {
   "cell_type": "code",
   "execution_count": 7,
   "id": "e0bc714c",
   "metadata": {},
   "outputs": [],
   "source": [
    "# iteratively filters out low degree nodes from a graph\n",
    "# returns list of nodes of degree at least d\n",
    "# **note this runs out of memory if run directly on friend_net, would need an iterative solution maybe\n",
    "def filter_low_degree_nodes(graph, d=6):\n",
    "    # get the nodes and their degrees\n",
    "    included_nodes, degrees = torch.unique(graph.edge_index[0], return_counts=True)\n",
    "    print(\"Current Size:\", included_nodes.shape)\n",
    "    # generate a mask that is True for degrees >= d and False otherwise\n",
    "    filter_mask = torch.ge(degrees,d)\n",
    "    if(torch.unique(filter_mask).shape[0] != 1): # check that the mask still contains both True and False, otherwise done\n",
    "        # filter the nodes based on the mask\n",
    "        filtered_nodes = torch.masked_select(included_nodes,filter_mask)\n",
    "        # generate the subgraph on the filtered nodes\n",
    "        subgraph = graph.subgraph(filtered_nodes)\n",
    "        # recursive call: now filter again based on the new subgraph\n",
    "        # returns indices on what was passed in\n",
    "        subgraph_nodes = filter_low_degree_nodes(subgraph)\n",
    "        # convert back to original node names\n",
    "        included_nodes = filtered_nodes[subgraph_nodes]\n",
    "    # return the new included_nodes\n",
    "    return included_nodes"
   ]
  },
  {
   "cell_type": "code",
   "execution_count": 8,
   "id": "27172a9e",
   "metadata": {},
   "outputs": [
    {
     "data": {
      "text/plain": [
       "Data(edge_index=[2, 3882563], num_nodes=12338632)"
      ]
     },
     "execution_count": 8,
     "metadata": {},
     "output_type": "execute_result"
    }
   ],
   "source": [
    "def to_undirected(edge_index):\n",
    "    row, col = edge_index\n",
    "    new_row = torch.cat([row, col])\n",
    "    new_col = torch.cat([col, row])\n",
    "    return torch.stack([new_row, new_col], dim=0)\n",
    "\n",
    "num_nodes = userprofile[\"user_id\"].max() # max id\n",
    "\n",
    "# convert data to appropriate form and generate an undirected PyG graph\n",
    "friend_edge_index = torch.from_numpy(friend_consolidated.iloc[:,[0,1]].to_numpy())\n",
    "friend_net = Data(edge_index=to_undirected(friend_edge_index.t().contiguous()),num_nodes=num_nodes)\n",
    "friend_net.coalesce()\n",
    "\n",
    "comment_edge_index = torch.from_numpy(comment_rela.iloc[:,[0,1]].to_numpy())\n",
    "comment_net = Data(edge_index=to_undirected(comment_edge_index.t().contiguous()),num_nodes=num_nodes)\n",
    "comment_net.coalesce()\n",
    "\n",
    "\n",
    "mention_edge_index = torch.from_numpy(mention_rela.iloc[:,[0,1]].to_numpy())\n",
    "mention_net = Data(edge_index=to_undirected(mention_edge_index.t().contiguous()),num_nodes=num_nodes)\n",
    "mention_net.coalesce()"
   ]
  },
  {
   "cell_type": "code",
   "execution_count": 9,
   "id": "9a3b0ab1",
   "metadata": {},
   "outputs": [
    {
     "name": "stdout",
     "output_type": "stream",
     "text": [
      "Filtering on comment_net:\n",
      "Current Size: torch.Size([3665811])\n",
      "Current Size: torch.Size([132840])\n",
      "Current Size: torch.Size([127255])\n",
      "Current Size: torch.Size([126732])\n",
      "Current Size: torch.Size([126673])\n",
      "Current Size: torch.Size([126663])\n",
      "Nodes after filter on comment net: tensor([       3,        4,       10,  ..., 12309780, 12318685, 12319222])\n",
      "Filtering on mention_net:\n",
      "Current Size: torch.Size([122879])\n",
      "Current Size: torch.Size([74109])\n",
      "Current Size: torch.Size([70529])\n",
      "Current Size: torch.Size([69929])\n",
      "Current Size: torch.Size([69812])\n",
      "Current Size: torch.Size([69773])\n",
      "Current Size: torch.Size([69767])\n",
      "Current Size: torch.Size([69764])\n",
      "Nodes after filter on mention net: tensor([       4,       10,       27,  ..., 12285587, 12292910, 12294047])\n",
      "Filtering on friend_net:\n",
      "Current Size: torch.Size([68872])\n",
      "Current Size: torch.Size([67016])\n",
      "Current Size: torch.Size([67015])\n",
      "Current nodes: tensor([       4,       10,       27,  ..., 11948428, 11949862, 11950136])\n",
      "Checking...\n",
      "Failed...\n",
      "Filtering on comment_net:\n",
      "Current Size: torch.Size([67015])\n",
      "Current Size: torch.Size([66878])\n",
      "Nodes after filter on comment net: tensor([       4,       10,       27,  ..., 11948428, 11949862, 11950136])\n",
      "Filtering on mention_net:\n",
      "Current Size: torch.Size([66878])\n",
      "Current Size: torch.Size([66281])\n",
      "Current Size: torch.Size([66212])\n",
      "Current Size: torch.Size([66205])\n",
      "Current Size: torch.Size([66202])\n",
      "Current Size: torch.Size([66201])\n",
      "Nodes after filter on mention net: tensor([       4,       10,       27,  ..., 11948428, 11949862, 11950136])\n",
      "Filtering on friend_net:\n",
      "Current Size: torch.Size([66201])\n",
      "Current Size: torch.Size([66198])\n",
      "Current nodes: tensor([       4,       10,       27,  ..., 11948428, 11949862, 11950136])\n",
      "Checking...\n",
      "Failed...\n",
      "Filtering on comment_net:\n",
      "Current Size: torch.Size([66198])\n",
      "Current Size: torch.Size([66195])\n",
      "Nodes after filter on comment net: tensor([       4,       10,       27,  ..., 11948428, 11949862, 11950136])\n",
      "Filtering on mention_net:\n",
      "Current Size: torch.Size([66195])\n",
      "Nodes after filter on mention net: tensor([       4,       10,       27,  ..., 11948428, 11949862, 11950136])\n",
      "Filtering on friend_net:\n",
      "Current Size: torch.Size([66195])\n",
      "Current nodes: tensor([       4,       10,       27,  ..., 11948428, 11949862, 11950136])\n",
      "Checking...\n",
      "Done!\n"
     ]
    }
   ],
   "source": [
    "# filter out the low degree nodes\n",
    "def checker(d=6):\n",
    "    test_nets = [friend_net.subgraph(cur_nodes), comment_net.subgraph(cur_nodes), mention_net.subgraph(cur_nodes)]\n",
    "    \n",
    "    for test_net in test_nets:\n",
    "        _, degs = torch.unique(test_net.edge_index[0], return_counts=True)\n",
    "        unique_degs = torch.unique(degs)\n",
    "        if unique_degs.min() < d: \n",
    "            print(\"Failed...\")\n",
    "            return False\n",
    "    #\n",
    "    print(\"Done!\")\n",
    "    return True\n",
    "    \n",
    "i = 0\n",
    "hard_loop_cap = 10\n",
    "cur_nodes = torch.from_numpy(valid_users.to_numpy().ravel())\n",
    "min_deg = 6\n",
    "while(i < hard_loop_cap):\n",
    "    print(\"Filtering on comment_net:\")\n",
    "    comment_sub_net = comment_net.subgraph(cur_nodes)\n",
    "    nodes_after_filter_on_comment_net = cur_nodes[filter_low_degree_nodes(comment_sub_net,min_deg)]\n",
    "    print(\"Nodes after filter on comment net:\", nodes_after_filter_on_comment_net)\n",
    "    print(\"Filtering on mention_net:\")\n",
    "    mention_sub_net = mention_net.subgraph(nodes_after_filter_on_comment_net)\n",
    "    nodes_after_filter_on_mention_net = nodes_after_filter_on_comment_net[filter_low_degree_nodes(mention_sub_net,min_deg)]\n",
    "    print(\"Nodes after filter on mention net:\", nodes_after_filter_on_mention_net)\n",
    "    print(\"Filtering on friend_net:\")\n",
    "    friend_sub_net = friend_net.subgraph(nodes_after_filter_on_mention_net)\n",
    "    cur_nodes = nodes_after_filter_on_mention_net[filter_low_degree_nodes(friend_sub_net,min_deg)]\n",
    "    print(\"Current nodes:\", cur_nodes)\n",
    "    print(\"Checking...\")\n",
    "    if checker(min_deg): break\n",
    "    i += 1\n",
    "#\n",
    "final_nodes = cur_nodes"
   ]
  },
  {
   "cell_type": "code",
   "execution_count": 10,
   "id": "57a104cc",
   "metadata": {},
   "outputs": [],
   "source": [
    "# get final networks\n",
    "final_friend_net = friend_net.subgraph(final_nodes)\n",
    "final_comment_net = comment_net.subgraph(final_nodes)\n",
    "final_mention_net = mention_net.subgraph(final_nodes)"
   ]
  },
  {
   "cell_type": "markdown",
   "id": "03207c09",
   "metadata": {},
   "source": [
    "# Saving Data"
   ]
  },
  {
   "cell_type": "code",
   "execution_count": 11,
   "id": "3418f9c3",
   "metadata": {
    "scrolled": true
   },
   "outputs": [],
   "source": [
    "directory = \"ProcessedData\"\n",
    "# write final nodes to file\n",
    "final_nodes_path = directory + \"/included_users_(sorted).csv\"\n",
    "final_nodes_DF = pd.DataFrame(final_nodes.numpy(),columns=['user_id'])\n",
    "final_nodes_DF.index.name = \"Indices\"\n",
    "final_nodes_DF.to_csv(final_nodes_path)"
   ]
  },
  {
   "cell_type": "code",
   "execution_count": 12,
   "id": "137e0049",
   "metadata": {},
   "outputs": [],
   "source": [
    "# write filtered network edgelists to files\n",
    "friend_edge_list_path = directory + \"/friend_edges.csv\"\n",
    "friend_edge_list_DF = pd.DataFrame(final_friend_net.edge_index.t().numpy(),columns=['user_id','follower_id'])\n",
    "friend_edge_list_DF.to_csv(friend_edge_list_path, index = False)"
   ]
  },
  {
   "cell_type": "code",
   "execution_count": 13,
   "id": "0d2041a3",
   "metadata": {},
   "outputs": [],
   "source": [
    "comment_edge_list_path = directory + \"/comment_edges.csv\"\n",
    "comment_edge_list_DF = pd.DataFrame(final_comment_net.edge_index.t().numpy(),columns=['who-comment','comment-who'])\n",
    "comment_edge_list_DF.to_csv(comment_edge_list_path, index = False)"
   ]
  },
  {
   "cell_type": "code",
   "execution_count": 14,
   "id": "8ea7c3b2",
   "metadata": {},
   "outputs": [],
   "source": [
    "mention_edge_list_path = directory + \"/mention_edges.csv\"\n",
    "mention_edge_list_DF = pd.DataFrame(final_mention_net.edge_index.t().numpy(),columns=['who-mention','mention-who'])\n",
    "mention_edge_list_DF.to_csv(mention_edge_list_path, index = False)"
   ]
  },
  {
   "cell_type": "markdown",
   "id": "b667c8a5",
   "metadata": {},
   "source": [
    "# Testing"
   ]
  },
  {
   "cell_type": "code",
   "execution_count": 15,
   "id": "29725867",
   "metadata": {},
   "outputs": [
    {
     "name": "stdout",
     "output_type": "stream",
     "text": [
      "tensor([    6,     7,     8,     9,    10,    11,    12,    13,    14,    15,\n",
      "           16,    17,    18,    19,    20,    21,    22,    23,    24,    25,\n",
      "           26,    27,    28,    29,    30,    31,    32,    33,    34,    35,\n",
      "           36,    37,    38,    39,    40,    41,    42,    43,    44,    45,\n",
      "           46,    47,    48,    49,    50,    51,    52,    53,    54,    55,\n",
      "           56,    57,    58,    59,    60,    61,    62,    63,    64,    65,\n",
      "           66,    67,    68,    69,    70,    71,    72,    73,    74,    75,\n",
      "           76,    77,    78,    79,    80,    81,    82,    83,    84,    85,\n",
      "           86,    87,    88,    89,    90,    91,    92,    93,    94,    95,\n",
      "           96,    97,    98,    99,   100,   101,   102,   103,   104,   105,\n",
      "          106,   107,   108,   109,   110,   111,   112,   113,   114,   115,\n",
      "          116,   117,   118,   119,   120,   121,   122,   123,   124,   125,\n",
      "          126,   127,   128,   129,   130,   131,   132,   133,   134,   135,\n",
      "          136,   137,   138,   139,   140,   141,   142,   143,   144,   145,\n",
      "          146,   147,   148,   149,   150,   151,   152,   153,   154,   155,\n",
      "          156,   157,   158,   159,   160,   161,   162,   163,   164,   165,\n",
      "          166,   167,   168,   169,   170,   171,   172,   173,   174,   175,\n",
      "          176,   177,   178,   179,   180,   181,   182,   183,   184,   185,\n",
      "          186,   187,   188,   189,   190,   191,   192,   193,   194,   195,\n",
      "          196,   197,   198,   199,   200,   201,   202,   203,   204,   205,\n",
      "          206,   207,   208,   209,   210,   211,   212,   213,   214,   215,\n",
      "          216,   217,   218,   219,   220,   221,   222,   223,   224,   225,\n",
      "          226,   227,   228,   229,   230,   231,   232,   233,   234,   235,\n",
      "          236,   237,   238,   239,   240,   241,   242,   243,   244,   245,\n",
      "          246,   247,   248,   249,   250,   251,   252,   253,   254,   255,\n",
      "          256,   257,   258,   259,   260,   261,   262,   263,   264,   265,\n",
      "          266,   267,   268,   269,   270,   271,   272,   273,   274,   275,\n",
      "          276,   277,   278,   279,   280,   281,   282,   283,   284,   285,\n",
      "          286,   287,   288,   289,   290,   291,   292,   293,   294,   295,\n",
      "          296,   297,   298,   299,   300,   301,   302,   303,   304,   305,\n",
      "          306,   307,   308,   309,   310,   311,   312,   313,   314,   315,\n",
      "          316,   317,   318,   319,   320,   321,   322,   323,   324,   325,\n",
      "          326,   327,   328,   329,   330,   331,   332,   333,   334,   335,\n",
      "          336,   337,   338,   339,   340,   341,   342,   343,   345,   346,\n",
      "          347,   348,   349,   350,   351,   352,   353,   354,   355,   356,\n",
      "          357,   358,   361,   362,   363,   364,   365,   366,   367,   368,\n",
      "          369,   370,   371,   372,   373,   374,   375,   376,   378,   379,\n",
      "          380,   381,   382,   383,   384,   385,   386,   387,   388,   389,\n",
      "          390,   391,   392,   393,   394,   395,   396,   397,   398,   399,\n",
      "          400,   401,   402,   403,   404,   405,   406,   407,   408,   409,\n",
      "          410,   411,   412,   413,   414,   415,   417,   418,   419,   421,\n",
      "          422,   423,   424,   425,   426,   429,   430,   431,   432,   433,\n",
      "          434,   435,   436,   437,   438,   439,   440,   442,   444,   445,\n",
      "          446,   448,   449,   451,   452,   453,   455,   456,   457,   458,\n",
      "          459,   460,   461,   463,   464,   465,   466,   467,   469,   471,\n",
      "          472,   473,   476,   477,   478,   480,   481,   482,   483,   484,\n",
      "          485,   486,   488,   489,   490,   491,   492,   493,   495,   496,\n",
      "          497,   498,   499,   500,   501,   502,   504,   507,   508,   509,\n",
      "          511,   513,   514,   515,   516,   518,   520,   521,   522,   523,\n",
      "          524,   525,   527,   528,   529,   531,   532,   535,   536,   540,\n",
      "          541,   542,   543,   545,   546,   547,   549,   551,   552,   554,\n",
      "          555,   556,   557,   558,   559,   560,   561,   562,   563,   564,\n",
      "          565,   566,   568,   569,   570,   571,   572,   574,   575,   576,\n",
      "          577,   578,   579,   581,   583,   585,   590,   597,   599,   603,\n",
      "          604,   606,   607,   608,   609,   611,   613,   614,   616,   617,\n",
      "          618,   621,   622,   623,   624,   627,   628,   632,   634,   642,\n",
      "          645,   647,   649,   650,   654,   656,   657,   659,   661,   662,\n",
      "          664,   665,   670,   674,   685,   686,   687,   689,   692,   693,\n",
      "          694,   696,   697,   699,   703,   704,   706,   710,   711,   715,\n",
      "          720,   721,   722,   724,   725,   727,   728,   730,   733,   736,\n",
      "          737,   741,   742,   743,   747,   749,   752,   753,   754,   758,\n",
      "          760,   773,   780,   784,   786,   787,   790,   792,   794,   795,\n",
      "          796,   801,   802,   803,   807,   809,   810,   812,   814,   816,\n",
      "          817,   818,   819,   822,   826,   827,   829,   838,   839,   841,\n",
      "          844,   856,   857,   859,   860,   861,   863,   868,   883,   889,\n",
      "          893,   899,   904,   909,   912,   914,   916,   921,   923,   924,\n",
      "          927,   928,   935,   942,   944,   945,   947,   949,   950,   954,\n",
      "          958,   960,   961,   966,   981,   983,   984,   985,   987,   994,\n",
      "          996,   999,  1006,  1007,  1010,  1021,  1024,  1032,  1041,  1050,\n",
      "         1052,  1057,  1071,  1076,  1081,  1090,  1091,  1095,  1096,  1102,\n",
      "         1105,  1111,  1116,  1120,  1124,  1130,  1133,  1147,  1148,  1151,\n",
      "         1157,  1165,  1169,  1171,  1173,  1175,  1181,  1195,  1208,  1211,\n",
      "         1213,  1218,  1226,  1228,  1239,  1243,  1280,  1298,  1299,  1314,\n",
      "         1318,  1337,  1344,  1347,  1351,  1357,  1363,  1382,  1383,  1384,\n",
      "         1399,  1407,  1408,  1420,  1423,  1452,  1455,  1470,  1471,  1496,\n",
      "         1506,  1509,  1535,  1570,  1586,  1601,  1621,  1630,  1670,  1672,\n",
      "         1678,  1746,  1753,  1758,  1785,  1786,  1789,  1812,  1845,  1876,\n",
      "         1892,  1936,  1942,  2000,  2020,  2126,  2175,  2218,  2238,  2324,\n",
      "         2362,  2363,  2393,  2410,  2607,  2718,  2805,  2833,  2845,  2863,\n",
      "         3004,  3060,  3107,  3114,  3199,  3215,  3233,  3328,  3350,  3356,\n",
      "         3395,  3504,  3518,  3655,  3838,  3966,  3976,  4007,  4035,  5417,\n",
      "         6363,  7245,  7252,  7852,  9059, 10955, 18998]) tensor([6495, 5230, 4482, 3607, 3257, 2846, 2467, 2240, 1896, 1721, 1545, 1497,\n",
      "        1318, 1161, 1044, 1028,  919,  835,  820,  752,  684,  681,  646,  583,\n",
      "         545,  537,  501,  503,  451,  451,  391,  372,  354,  367,  337,  345,\n",
      "         290,  310,  307,  319,  282,  259,  249,  245,  233,  216,  206,  206,\n",
      "         203,  184,  204,  188,  189,  172,  169,  166,  155,  151,  166,  166,\n",
      "         145,  137,  140,  119,  103,   94,  129,  112,  106,   99,  105,  103,\n",
      "         109,   88,   98,  100,   95,  104,   76,   64,   83,   77,   73,   78,\n",
      "          61,   81,   63,   93,   74,   72,   77,   62,   63,   57,   66,   64,\n",
      "          52,   56,   56,   57,   53,   50,   66,   47,   51,   52,   55,   42,\n",
      "          47,   48,   43,   49,   38,   52,   43,   43,   39,   37,   47,   39,\n",
      "          46,   43,   40,   28,   42,   31,   38,   24,   28,   31,   29,   43,\n",
      "          35,   31,   28,   41,   31,   24,   25,   30,   27,   24,   22,   30,\n",
      "          29,   24,   27,   21,   20,   29,   22,   35,   21,   20,   24,   14,\n",
      "          26,   22,   24,   23,   13,   23,   20,   32,   21,   12,   20,   18,\n",
      "          22,   21,   19,   24,   25,   17,   19,   11,   11,   16,   17,   17,\n",
      "          21,   20,   10,   13,   13,   15,   16,   17,   17,   17,   15,   15,\n",
      "           8,   14,   18,    7,   12,   13,    8,   18,   14,    8,    8,   13,\n",
      "          15,   13,    8,   12,    8,   13,    8,   12,   17,    7,   14,   11,\n",
      "          15,    8,   12,    7,   14,   10,   13,    8,    7,    8,   10,    8,\n",
      "           8,   13,    5,   13,    9,    9,   15,    9,    9,    7,    8,    9,\n",
      "          13,    7,    4,    8,    3,    8,   13,    8,   12,   12,   11,    9,\n",
      "           9,    2,    6,    6,   10,    7,    6,   13,   10,    8,    7,   12,\n",
      "           4,    6,    9,    4,    4,   13,   10,    7,    7,   11,    4,    3,\n",
      "           3,    8,    3,    1,    5,    7,    5,    8,    6,    3,    5,    2,\n",
      "           7,    9,    5,    7,    3,    3,    3,    8,    3,    6,    4,    5,\n",
      "           3,    9,    5,    5,    3,    7,    6,    8,    6,    5,    4,    6,\n",
      "           4,    7,    3,    4,    3,    4,    2,    4,    4,    3,    5,    4,\n",
      "           2,    6,    7,    5,    5,    4,    7,    4,    5,    3,    5,    4,\n",
      "           2,    2,    5,    3,    4,    4,    5,    3,    4,    4,    5,    4,\n",
      "           4,    1,    4,    4,    8,    6,    4,    1,    1,    3,    3,    4,\n",
      "           2,    4,    2,    1,    8,    3,    9,    4,    2,    3,    4,    4,\n",
      "           2,    3,    2,    1,    1,    3,    4,    2,    5,    4,    3,    4,\n",
      "           2,    4,    1,    2,    5,    1,    1,    4,    3,    3,    3,    2,\n",
      "           3,    4,    2,    2,    1,    2,    5,    1,    5,    5,    3,    1,\n",
      "           3,    2,    3,    1,    1,    3,    1,    2,    5,    2,    6,    3,\n",
      "           2,    1,    2,    2,    2,    2,    1,    2,    1,    1,    2,    3,\n",
      "           1,    1,    1,    2,    1,    1,    1,    5,    1,    4,    3,    1,\n",
      "           4,    2,    1,    2,    1,    3,    2,    2,    4,    2,    4,    3,\n",
      "           1,    1,    1,    1,    2,    2,    1,    1,    3,    1,    1,    1,\n",
      "           2,    3,    3,    1,    1,    1,    4,    1,    2,    3,    1,    1,\n",
      "           1,    1,    1,    3,    2,    2,    3,    1,    1,    1,    1,    2,\n",
      "           4,    3,    1,    1,    2,    1,    1,    3,    2,    3,    2,    3,\n",
      "           1,    2,    1,    1,    3,    2,    3,    2,    1,    1,    2,    1,\n",
      "           3,    1,    2,    4,    1,    1,    2,    2,    1,    1,    5,    2,\n",
      "           1,    2,    4,    1,    4,    3,    1,    1,    1,    1,    1,    1,\n",
      "           1,    1,    1,    1,    1,    2,    1,    1,    1,    1,    2,    2,\n",
      "           1,    1,    1,    3,    3,    1,    4,    1,    1,    1,    1,    1,\n",
      "           2,    2,    1,    2,    1,    1,    1,    1,    3,    1,    1,    2,\n",
      "           1,    1,    1,    2,    1,    1,    1,    2,    1,    2,    1,    1,\n",
      "           1,    1,    1,    1,    1,    1,    1,    4,    1,    1,    2,    3,\n",
      "           1,    1,    1,    1,    1,    1,    1,    1,    1,    1,    1,    1,\n",
      "           1,    2,    1,    1,    3,    2,    1,    1,    1,    1,    1,    1,\n",
      "           1,    1,    1,    1,    1,    1,    1,    1,    2,    1,    2,    1,\n",
      "           1,    1,    1,    1,    1,    1,    1,    1,    1,    1,    1,    1,\n",
      "           1,    1,    1,    1,    1,    2,    1,    1,    2,    1,    1,    1,\n",
      "           2,    3,    1,    1,    1,    1,    1,    1,    1,    1,    1,    1,\n",
      "           2,    1,    1,    1,    1,    1,    1,    1,    2,    1,    2,    1,\n",
      "           2,    1,    1,    1,    1,    1,    1,    2,    1,    1,    1,    1,\n",
      "           2,    1,    1,    1,    1,    1,    1,    1,    1,    1,    1,    1,\n",
      "           1,    1,    1,    1,    1,    1,    1,    1,    1,    1,    2,    1,\n",
      "           1,    1,    1,    1,    1,    1,    2,    1,    1,    1,    1,    1,\n",
      "           1,    1,    1,    2,    1,    2,    1,    1,    1,    1,    1,    1,\n",
      "           1,    1,    1,    1,    1,    1,    1,    1,    1,    1,    1,    1,\n",
      "           1,    1,    1,    1,    1,    1,    1,    1,    1,    1,    1,    1,\n",
      "           1,    1,    1,    1,    1,    1,    1,    1,    1,    1,    1,    1,\n",
      "           1,    1,    1,    1,    2,    1,    1,    1,    1,    1,    1,    1,\n",
      "           1,    1,    1,    1,    1,    1,    1,    1,    1,    1,    1,    1,\n",
      "           1,    1,    1,    1,    1,    1,    1,    1,    1,    1,    1,    1,\n",
      "           1])\n"
     ]
    }
   ],
   "source": [
    "# network degrees checker\n",
    "_, degs = torch.unique(final_mention_net.edge_index[0], return_counts=True)\n",
    "unique_degs,counts = torch.unique(degs, return_counts=True)\n",
    "print(unique_degs, counts)"
   ]
  },
  {
   "cell_type": "code",
   "execution_count": null,
   "id": "08da2a00",
   "metadata": {},
   "outputs": [],
   "source": []
  },
  {
   "cell_type": "code",
   "execution_count": null,
   "id": "6fdbbb90",
   "metadata": {},
   "outputs": [],
   "source": []
  },
  {
   "cell_type": "code",
   "execution_count": null,
   "id": "2d351e65",
   "metadata": {},
   "outputs": [],
   "source": []
  },
  {
   "cell_type": "code",
   "execution_count": null,
   "id": "304f7a1a",
   "metadata": {},
   "outputs": [],
   "source": []
  },
  {
   "cell_type": "code",
   "execution_count": null,
   "id": "943a7cb3",
   "metadata": {},
   "outputs": [],
   "source": []
  },
  {
   "cell_type": "code",
   "execution_count": null,
   "id": "5f9a8347",
   "metadata": {},
   "outputs": [],
   "source": []
  },
  {
   "cell_type": "code",
   "execution_count": null,
   "id": "55b4850c",
   "metadata": {},
   "outputs": [],
   "source": []
  },
  {
   "cell_type": "code",
   "execution_count": null,
   "id": "5421c1a5",
   "metadata": {},
   "outputs": [],
   "source": []
  }
 ],
 "metadata": {
  "kernelspec": {
   "display_name": "Python [conda env:pytorch-G]",
   "language": "python",
   "name": "conda-env-pytorch-G-py"
  },
  "language_info": {
   "codemirror_mode": {
    "name": "ipython",
    "version": 3
   },
   "file_extension": ".py",
   "mimetype": "text/x-python",
   "name": "python",
   "nbconvert_exporter": "python",
   "pygments_lexer": "ipython3",
   "version": "3.8.13"
  }
 },
 "nbformat": 4,
 "nbformat_minor": 5
}
