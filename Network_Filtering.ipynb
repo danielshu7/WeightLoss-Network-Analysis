{
 "cells": [
  {
   "cell_type": "code",
   "execution_count": 1,
   "id": "02ac0c9c",
   "metadata": {},
   "outputs": [],
   "source": [
    "import pandas as pd"
   ]
  },
  {
   "cell_type": "markdown",
   "id": "717fe2db",
   "metadata": {},
   "source": [
    "# Loading consolidated data"
   ]
  },
  {
   "cell_type": "code",
   "execution_count": 2,
   "id": "e3a19196",
   "metadata": {},
   "outputs": [],
   "source": [
    "userprofile = pd.read_csv('WeightLoss/userprofile.csv')\n",
    "valid_users = pd.read_csv(\"ProcessedData/valid_user_info_consolidated.csv\", usecols = ['user_id'])"
   ]
  },
  {
   "cell_type": "markdown",
   "id": "709999f2",
   "metadata": {},
   "source": [
    "# Loading networks"
   ]
  },
  {
   "cell_type": "code",
   "execution_count": 3,
   "id": "1cda7fb6",
   "metadata": {},
   "outputs": [],
   "source": [
    "friend_consolidated = pd.read_csv('WeightLoss/network/friend_consolidated.csv')"
   ]
  },
  {
   "cell_type": "code",
   "execution_count": 4,
   "id": "268241be",
   "metadata": {},
   "outputs": [],
   "source": [
    "comment_rela = pd.read_csv('WeightLoss/network/comment_rela.csv')"
   ]
  },
  {
   "cell_type": "code",
   "execution_count": 5,
   "id": "5cc879ba",
   "metadata": {},
   "outputs": [],
   "source": [
    "mention_rela = pd.read_csv('WeightLoss/network/mention_rela.csv')\n",
    "mention_rela.dropna(subset=['who-mention'], inplace=True) # remove rows with NaN in 'who-mention'\n",
    "mention_rela['who-mention'] = mention_rela['who-mention'].astype('int64')"
   ]
  },
  {
   "cell_type": "markdown",
   "id": "076be264",
   "metadata": {},
   "source": [
    "# Working with PyTorch"
   ]
  },
  {
   "cell_type": "code",
   "execution_count": 6,
   "id": "a7d67330",
   "metadata": {},
   "outputs": [],
   "source": [
    "import torch\n",
    "from torch_geometric.data import Data"
   ]
  },
  {
   "cell_type": "code",
   "execution_count": 7,
   "id": "e0bc714c",
   "metadata": {},
   "outputs": [],
   "source": [
    "# iteratively filters out low degree nodes from a graph\n",
    "# returns list of nodes of degree at least d\n",
    "# **note this runs out of memory if run directly on friend_net, would need an iterative solution maybe\n",
    "def filter_low_degree_nodes(graph, d=5):\n",
    "    # get the nodes and their degrees\n",
    "    included_nodes, degrees = torch.unique(graph.edge_index[0], return_counts=True)\n",
    "    print(\"Current Size:\", included_nodes.shape)\n",
    "    # generate a mask that is True for degrees >= d and False otherwise\n",
    "    filter_mask = torch.ge(degrees,d)\n",
    "    if(torch.unique(filter_mask).shape[0] != 1): # check that the mask still contains both True and False, otherwise done\n",
    "        # filter the nodes based on the mask\n",
    "        filtered_nodes = torch.masked_select(included_nodes,filter_mask)\n",
    "        # generate the subgraph on the filtered nodes\n",
    "        subgraph = graph.subgraph(filtered_nodes)\n",
    "        # recursive call: now filter again based on the new subgraph\n",
    "        # returns indices on what was passed in\n",
    "        subgraph_nodes = filter_low_degree_nodes(subgraph)\n",
    "        # convert back to original node names\n",
    "        included_nodes = filtered_nodes[subgraph_nodes]\n",
    "    # return the new included_nodes\n",
    "    return included_nodes"
   ]
  },
  {
   "cell_type": "code",
   "execution_count": 8,
   "id": "27172a9e",
   "metadata": {},
   "outputs": [
    {
     "data": {
      "text/plain": [
       "Data(edge_index=[2, 2169263], num_nodes=12338632)"
      ]
     },
     "execution_count": 8,
     "metadata": {},
     "output_type": "execute_result"
    }
   ],
   "source": [
    "num_nodes = userprofile[\"user_id\"].max() # max id\n",
    "\n",
    "# convert data to appropriate form and generate an undirected PyG graph\n",
    "friend_edge_index = torch.from_numpy(friend_consolidated.iloc[:,[1,0]].to_numpy())\n",
    "friend_net = Data(edge_index=friend_edge_index.t().contiguous(),num_nodes=num_nodes)\n",
    "friend_net.coalesce()\n",
    "\n",
    "comment_edge_index = torch.from_numpy(comment_rela.iloc[:,[0,1]].to_numpy())\n",
    "comment_net = Data(edge_index=comment_edge_index.t().contiguous(),num_nodes=num_nodes)\n",
    "comment_net.coalesce()\n",
    "\n",
    "\n",
    "mention_edge_index = torch.from_numpy(mention_rela.iloc[:,[0,1]].to_numpy())\n",
    "mention_net = Data(edge_index=mention_edge_index.t().contiguous(),num_nodes=num_nodes)\n",
    "mention_net.coalesce()"
   ]
  },
  {
   "cell_type": "code",
   "execution_count": 9,
   "id": "9a3b0ab1",
   "metadata": {},
   "outputs": [
    {
     "name": "stdout",
     "output_type": "stream",
     "text": [
      "Filtering on comment_net:\n",
      "Current Size: torch.Size([422194])\n",
      "Current Size: torch.Size([103543])\n",
      "Current Size: torch.Size([92929])\n",
      "Current Size: torch.Size([91733])\n",
      "Current Size: torch.Size([91551])\n",
      "Current Size: torch.Size([91517])\n",
      "Current Size: torch.Size([91513])\n",
      "Nodes after filter on comment net: tensor([       4,       10,       27,  ..., 12309780, 12318685, 12319222])\n",
      "Filtering on mention_net:\n",
      "Current Size: torch.Size([73393])\n",
      "Current Size: torch.Size([41194])\n",
      "Current Size: torch.Size([36450])\n",
      "Current Size: torch.Size([35474])\n",
      "Current Size: torch.Size([35247])\n",
      "Current Size: torch.Size([35178])\n",
      "Current Size: torch.Size([35159])\n",
      "Current Size: torch.Size([35155])\n",
      "Current Size: torch.Size([35154])\n",
      "Current Size: torch.Size([35152])\n",
      "Nodes after filter on mention net: tensor([      10,       31,       33,  ..., 12241455, 12253028, 12257012])\n",
      "Filtering on friend_net:\n",
      "Current Size: torch.Size([34882])\n",
      "Current Size: torch.Size([34176])\n",
      "Current Size: torch.Size([34174])\n",
      "Current nodes: tensor([      31,       33,       43,  ..., 11937494, 11939296, 11944769])\n",
      "Checking...\n",
      "Failed...\n",
      "Filtering on comment_net:\n",
      "Current Size: torch.Size([34174])\n",
      "Current Size: torch.Size([33580])\n",
      "Current Size: torch.Size([33540])\n",
      "Current Size: torch.Size([33535])\n",
      "Current Size: torch.Size([33534])\n",
      "Nodes after filter on comment net: tensor([      31,       33,       43,  ..., 11937494, 11939296, 11944769])\n",
      "Filtering on mention_net:\n",
      "Current Size: torch.Size([33534])\n",
      "Current Size: torch.Size([33162])\n",
      "Current Size: torch.Size([33064])\n",
      "Current Size: torch.Size([33044])\n",
      "Current Size: torch.Size([33038])\n",
      "Current Size: torch.Size([33036])\n",
      "Nodes after filter on mention net: tensor([      31,       33,       43,  ..., 11937494, 11939296, 11944769])\n",
      "Filtering on friend_net:\n",
      "Current Size: torch.Size([33036])\n",
      "Current Size: torch.Size([33034])\n",
      "Current nodes: tensor([      31,       33,       43,  ..., 11937494, 11939296, 11944769])\n",
      "Checking...\n",
      "Failed...\n",
      "Filtering on comment_net:\n",
      "Current Size: torch.Size([33034])\n",
      "Current Size: torch.Size([33017])\n",
      "Nodes after filter on comment net: tensor([      31,       33,       43,  ..., 11937494, 11939296, 11944769])\n",
      "Filtering on mention_net:\n",
      "Current Size: torch.Size([33017])\n",
      "Current Size: torch.Size([33016])\n",
      "Current Size: torch.Size([33014])\n",
      "Nodes after filter on mention net: tensor([      31,       33,       43,  ..., 11937494, 11939296, 11944769])\n",
      "Filtering on friend_net:\n",
      "Current Size: torch.Size([33014])\n",
      "Current nodes: tensor([      31,       33,       43,  ..., 11937494, 11939296, 11944769])\n",
      "Checking...\n",
      "Done!\n"
     ]
    }
   ],
   "source": [
    "# filter out the low degree nodes\n",
    "def checker(d=5):\n",
    "    test_nets = [friend_net.subgraph(cur_nodes), comment_net.subgraph(cur_nodes), mention_net.subgraph(cur_nodes)]\n",
    "    \n",
    "    for test_net in test_nets:\n",
    "        _, degs = torch.unique(test_net.edge_index[0], return_counts=True)\n",
    "        unique_degs = torch.unique(degs)\n",
    "        if unique_degs.min() < d: \n",
    "            print(\"Failed...\")\n",
    "            return False\n",
    "    #\n",
    "    print(\"Done!\")\n",
    "    return True\n",
    "    \n",
    "i = 0\n",
    "hard_loop_cap = 10\n",
    "cur_nodes = torch.from_numpy(valid_users.to_numpy().ravel())\n",
    "min_deg = 5\n",
    "while(i < hard_loop_cap):\n",
    "    print(\"Filtering on comment_net:\")\n",
    "    comment_sub_net = comment_net.subgraph(cur_nodes)\n",
    "    nodes_after_filter_on_comment_net = cur_nodes[filter_low_degree_nodes(comment_sub_net,min_deg)]\n",
    "    print(\"Nodes after filter on comment net:\", nodes_after_filter_on_comment_net)\n",
    "    print(\"Filtering on mention_net:\")\n",
    "    mention_sub_net = mention_net.subgraph(nodes_after_filter_on_comment_net)\n",
    "    nodes_after_filter_on_mention_net = nodes_after_filter_on_comment_net[filter_low_degree_nodes(mention_sub_net,min_deg)]\n",
    "    print(\"Nodes after filter on mention net:\", nodes_after_filter_on_mention_net)\n",
    "    print(\"Filtering on friend_net:\")\n",
    "    friend_sub_net = friend_net.subgraph(nodes_after_filter_on_mention_net)\n",
    "    cur_nodes = nodes_after_filter_on_mention_net[filter_low_degree_nodes(friend_sub_net,min_deg)]\n",
    "    print(\"Current nodes:\", cur_nodes)\n",
    "    print(\"Checking...\")\n",
    "    if checker(min_deg): break\n",
    "    i += 1\n",
    "#\n",
    "final_nodes = cur_nodes"
   ]
  },
  {
   "cell_type": "code",
   "execution_count": 10,
   "id": "57a104cc",
   "metadata": {},
   "outputs": [],
   "source": [
    "# get final networks\n",
    "final_friend_net = friend_net.subgraph(final_nodes)\n",
    "final_comment_net = comment_net.subgraph(final_nodes)\n",
    "final_mention_net = mention_net.subgraph(final_nodes)"
   ]
  },
  {
   "cell_type": "markdown",
   "id": "03207c09",
   "metadata": {},
   "source": [
    "# Saving Data"
   ]
  },
  {
   "cell_type": "code",
   "execution_count": 11,
   "id": "3418f9c3",
   "metadata": {
    "scrolled": true
   },
   "outputs": [],
   "source": [
    "directory = \"ProcessedData\"\n",
    "# write final nodes to file\n",
    "final_nodes_path = directory + \"/included_users_(sorted).csv\"\n",
    "final_nodes_DF = pd.DataFrame(final_nodes.numpy(),columns=['user_id'])\n",
    "final_nodes_DF.index.name = \"Indices\"\n",
    "final_nodes_DF.to_csv(final_nodes_path)"
   ]
  },
  {
   "cell_type": "code",
   "execution_count": 12,
   "id": "137e0049",
   "metadata": {},
   "outputs": [],
   "source": [
    "# write filtered network edgelists to files\n",
    "friend_edge_list_path = directory + \"/friend_edges_directed.csv\"\n",
    "friend_edge_list_DF = pd.DataFrame(final_friend_net.edge_index.t().numpy(),columns=['follower_id','user_id'])\n",
    "friend_edge_list_DF.to_csv(friend_edge_list_path, index = False)"
   ]
  },
  {
   "cell_type": "code",
   "execution_count": 13,
   "id": "0d2041a3",
   "metadata": {},
   "outputs": [],
   "source": [
    "comment_edge_list_path = directory + \"/comment_edges_directed.csv\"\n",
    "comment_edge_list_DF = pd.DataFrame(final_comment_net.edge_index.t().numpy(),columns=['who-comment','comment-who'])\n",
    "comment_edge_list_DF.to_csv(comment_edge_list_path, index = False)"
   ]
  },
  {
   "cell_type": "code",
   "execution_count": 14,
   "id": "8ea7c3b2",
   "metadata": {},
   "outputs": [],
   "source": [
    "mention_edge_list_path = directory + \"/mention_edges_directed.csv\"\n",
    "mention_edge_list_DF = pd.DataFrame(final_mention_net.edge_index.t().numpy(),columns=['who-mention','mention-who'])\n",
    "mention_edge_list_DF.to_csv(mention_edge_list_path, index = False)"
   ]
  },
  {
   "cell_type": "markdown",
   "id": "52b6a239",
   "metadata": {},
   "source": [
    "# Getting Undirected Versions of Graphs"
   ]
  },
  {
   "cell_type": "code",
   "execution_count": 15,
   "id": "71540dd1",
   "metadata": {},
   "outputs": [],
   "source": [
    "import numpy as np\n",
    "\n",
    "# adds in reverse of all edges in edge_index\n",
    "def to_undirected(edge_index):\n",
    "    src, target = edge_index\n",
    "    new_src= torch.cat([src, target])\n",
    "    new_target = torch.cat([target, src])\n",
    "    return torch.stack([new_src, new_target], dim=0)\n",
    "\n",
    "# write undirected friend graph\n",
    "friend_edge_list_path_undir = directory + \"/friend_edges_undirected.csv\"\n",
    "friend_edge_list_np_undir = np.unique(to_undirected(final_friend_net.edge_index).t().numpy(),axis=0)\n",
    "friend_edge_list_DF_undir = pd.DataFrame(friend_edge_list_np_undir,columns=['follower_id','user_id'])\n",
    "friend_edge_list_DF_undir.to_csv(friend_edge_list_path_undir, index = False)"
   ]
  },
  {
   "cell_type": "code",
   "execution_count": 16,
   "id": "25ea75ca",
   "metadata": {},
   "outputs": [],
   "source": [
    "comment_edge_list_path_undir = directory + \"/comment_edges_undirected.csv\"\n",
    "comment_edge_list_np_undir = np.unique(to_undirected(final_comment_net.edge_index).t().numpy(),axis=0)\n",
    "comment_edge_list_DF_undir = pd.DataFrame(comment_edge_list_np_undir,columns=['who-comment','comment-who'])\n",
    "comment_edge_list_DF_undir.to_csv(comment_edge_list_path_undir, index = False)"
   ]
  },
  {
   "cell_type": "code",
   "execution_count": 17,
   "id": "7c551e87",
   "metadata": {},
   "outputs": [],
   "source": [
    "mention_edge_list_path_undir = directory + \"/mention_edges_undirected.csv\"\n",
    "mention_edge_list_np_undir = np.unique(to_undirected(final_mention_net.edge_index).t().numpy(),axis=0)\n",
    "mention_edge_list_DF_undir = pd.DataFrame(mention_edge_list_np_undir,columns=['who-mention','mention-who'])\n",
    "mention_edge_list_DF_undir.to_csv(mention_edge_list_path_undir, index = False)"
   ]
  },
  {
   "cell_type": "markdown",
   "id": "b667c8a5",
   "metadata": {},
   "source": [
    "# Testing"
   ]
  },
  {
   "cell_type": "code",
   "execution_count": 18,
   "id": "29725867",
   "metadata": {},
   "outputs": [],
   "source": [
    "# network degrees checker\n",
    "#_, degs = torch.unique(final_mention_net.edge_index[0], return_counts=True)\n",
    "#unique_degs,counts = torch.unique(degs, return_counts=True)\n",
    "#print(unique_degs, counts)"
   ]
  },
  {
   "cell_type": "code",
   "execution_count": null,
   "id": "08da2a00",
   "metadata": {},
   "outputs": [],
   "source": []
  },
  {
   "cell_type": "code",
   "execution_count": null,
   "id": "6fdbbb90",
   "metadata": {},
   "outputs": [],
   "source": []
  },
  {
   "cell_type": "code",
   "execution_count": null,
   "id": "2d351e65",
   "metadata": {},
   "outputs": [],
   "source": []
  },
  {
   "cell_type": "code",
   "execution_count": null,
   "id": "304f7a1a",
   "metadata": {},
   "outputs": [],
   "source": []
  },
  {
   "cell_type": "code",
   "execution_count": null,
   "id": "943a7cb3",
   "metadata": {},
   "outputs": [],
   "source": []
  },
  {
   "cell_type": "code",
   "execution_count": null,
   "id": "5f9a8347",
   "metadata": {},
   "outputs": [],
   "source": []
  },
  {
   "cell_type": "code",
   "execution_count": null,
   "id": "55b4850c",
   "metadata": {},
   "outputs": [],
   "source": []
  },
  {
   "cell_type": "code",
   "execution_count": null,
   "id": "5421c1a5",
   "metadata": {},
   "outputs": [],
   "source": []
  }
 ],
 "metadata": {
  "kernelspec": {
   "display_name": "Python [conda env:pytorch-G]",
   "language": "python",
   "name": "conda-env-pytorch-G-py"
  },
  "language_info": {
   "codemirror_mode": {
    "name": "ipython",
    "version": 3
   },
   "file_extension": ".py",
   "mimetype": "text/x-python",
   "name": "python",
   "nbconvert_exporter": "python",
   "pygments_lexer": "ipython3",
   "version": "3.8.13"
  }
 },
 "nbformat": 4,
 "nbformat_minor": 5
}
