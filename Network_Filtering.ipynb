{
 "cells": [
  {
   "cell_type": "code",
   "execution_count": 1,
   "id": "02ac0c9c",
   "metadata": {},
   "outputs": [],
   "source": [
    "import pandas as pd\n",
    "import time"
   ]
  },
  {
   "cell_type": "markdown",
   "id": "717fe2db",
   "metadata": {},
   "source": [
    "# Loading consolidated data"
   ]
  },
  {
   "cell_type": "code",
   "execution_count": 2,
   "id": "e3a19196",
   "metadata": {},
   "outputs": [],
   "source": [
    "userprofile = pd.read_csv('WeightLoss/userprofile.csv')"
   ]
  },
  {
   "cell_type": "code",
   "execution_count": null,
   "id": "53085b52",
   "metadata": {},
   "outputs": [],
   "source": [
    "#can_record_consolidated = pd.read_csv('WeightLoss/can_record_consolidated.csv')"
   ]
  },
  {
   "cell_type": "code",
   "execution_count": null,
   "id": "d2f32ac4",
   "metadata": {},
   "outputs": [],
   "source": [
    "#comment_consolidated = pd.read_csv('WeightLoss/comment_consolidated.csv')"
   ]
  },
  {
   "cell_type": "code",
   "execution_count": null,
   "id": "2f8b41a1",
   "metadata": {},
   "outputs": [],
   "source": [
    "#mention_consolidated = pd.read_csv('WeightLoss/mention_consolidated.csv')"
   ]
  },
  {
   "cell_type": "code",
   "execution_count": null,
   "id": "5f4fe7e8",
   "metadata": {},
   "outputs": [],
   "source": [
    "#post_consolidated = pd.read_csv('WeightLoss/post_consolidated.csv')"
   ]
  },
  {
   "cell_type": "code",
   "execution_count": 15,
   "id": "aa6a01ae",
   "metadata": {},
   "outputs": [],
   "source": [
    "#users_consolidated = pd.read_csv('WeightLoss/users_consolidated.csv')"
   ]
  },
  {
   "cell_type": "code",
   "execution_count": null,
   "id": "62410165",
   "metadata": {},
   "outputs": [],
   "source": [
    "#weight_record_consolidated = pd.read_csv('WeightLoss/weight_record_consolidated.csv')"
   ]
  },
  {
   "cell_type": "code",
   "execution_count": 33,
   "id": "fcb48ead",
   "metadata": {},
   "outputs": [
    {
     "name": "stdout",
     "output_type": "stream",
     "text": [
      "12338632\n"
     ]
    }
   ],
   "source": [
    "print(userprofile[\"user_id\"].max())"
   ]
  },
  {
   "cell_type": "markdown",
   "id": "709999f2",
   "metadata": {},
   "source": [
    "# Loading networks"
   ]
  },
  {
   "cell_type": "code",
   "execution_count": 3,
   "id": "1cda7fb6",
   "metadata": {},
   "outputs": [],
   "source": [
    "friend_consolidated = pd.read_csv('WeightLoss/network/friend_consolidated.csv')"
   ]
  },
  {
   "cell_type": "code",
   "execution_count": 4,
   "id": "268241be",
   "metadata": {},
   "outputs": [],
   "source": [
    "comment_rela = pd.read_csv('WeightLoss/network/comment_rela.csv')"
   ]
  },
  {
   "cell_type": "code",
   "execution_count": 5,
   "id": "5cc879ba",
   "metadata": {},
   "outputs": [],
   "source": [
    "mention_rela = pd.read_csv('WeightLoss/network/mention_rela.csv')\n",
    "mention_rela.dropna(subset=['who-mention'], inplace=True) # remove rows with NaN in 'who-mention'\n",
    "mention_rela['who-mention'] = mention_rela['who-mention'].astype('int64')"
   ]
  },
  {
   "cell_type": "markdown",
   "id": "076be264",
   "metadata": {},
   "source": [
    "# Working with PyTorch"
   ]
  },
  {
   "cell_type": "code",
   "execution_count": 6,
   "id": "a7d67330",
   "metadata": {},
   "outputs": [],
   "source": [
    "import torch\n",
    "from torch_geometric.data import Data\n",
    "from torch_geometric.utils import degree"
   ]
  },
  {
   "cell_type": "code",
   "execution_count": 7,
   "id": "e0bc714c",
   "metadata": {},
   "outputs": [],
   "source": [
    "# iteratively filters out low degree nodes from a graph\n",
    "# returns list of nodes of degree at least d\n",
    "# **note this runs out of memory if run directly on friend_net, would need an iterative solution maybe\n",
    "def filter_low_degree_nodes(graph, d=5):\n",
    "    # get the nodes and their degrees\n",
    "    included_nodes, degrees = torch.unique(graph.edge_index[0], return_counts=True)\n",
    "    print(\"Current Size:\", included_nodes.shape)\n",
    "    # generate a mask that is True for degrees >= d and False otherwise\n",
    "    filter_mask = torch.ge(degrees,d)\n",
    "    if(torch.unique(filter_mask).shape[0] != 1): # check that the mask still contains both True and False, otherwise done\n",
    "        # filter the nodes based on the mask\n",
    "        filtered_nodes = torch.masked_select(included_nodes,filter_mask)\n",
    "        # generate the subgraph on the filtered nodes\n",
    "        subgraph = graph.subgraph(filtered_nodes)\n",
    "        # recursive call: now filter again based on the new subgraph\n",
    "        # returns indices on what was passed in\n",
    "        subgraph_nodes = filter_low_degree_nodes(subgraph)\n",
    "        # convert back to original node names\n",
    "        included_nodes = filtered_nodes[subgraph_nodes]\n",
    "    # return the new included_nodes\n",
    "    return included_nodes"
   ]
  },
  {
   "cell_type": "code",
   "execution_count": 8,
   "id": "27172a9e",
   "metadata": {},
   "outputs": [],
   "source": [
    "num_nodes = userprofile[\"user_id\"].max() # max id\n",
    "\n",
    "# convert data to appropriate form and generate a PyG graph\n",
    "friend_edge_index = torch.from_numpy(friend_consolidated.iloc[:,[0,1]].to_numpy())\n",
    "friend_net = Data(edge_index=friend_edge_index.t().contiguous())\n",
    "friend_net.num_nodes = num_nodes\n",
    "\n",
    "comment_edge_index = torch.from_numpy(comment_rela.iloc[:,[0,1]].to_numpy())\n",
    "comment_net = Data(edge_index=comment_edge_index.t().contiguous())\n",
    "comment_net.num_nodes = num_nodes\n",
    "\n",
    "mention_edge_index = torch.from_numpy(mention_rela.iloc[:,[0,1]].to_numpy())\n",
    "mention_net = Data(edge_index=mention_edge_index.t().contiguous())\n",
    "mention_net.num_nodes = num_nodes"
   ]
  },
  {
   "cell_type": "code",
   "execution_count": 9,
   "id": "9a3b0ab1",
   "metadata": {},
   "outputs": [
    {
     "name": "stdout",
     "output_type": "stream",
     "text": [
      "Filtering on comment_net:\n",
      "Current Size: torch.Size([498705])\n",
      "Current Size: torch.Size([162621])\n",
      "Current Size: torch.Size([158370])\n",
      "Current Size: torch.Size([158219])\n",
      "Current Size: torch.Size([158214])\n",
      "Current Size: torch.Size([158213])\n",
      "Nodes after filter on comment net: tensor([       3,        4,       10,  ..., 12325382, 12325432, 12325695])\n",
      "Filtering on mention_net:\n",
      "Current Size: torch.Size([116365])\n",
      "Current Size: torch.Size([70191])\n",
      "Current Size: torch.Size([62368])\n",
      "Current Size: torch.Size([61242])\n",
      "Current Size: torch.Size([61036])\n",
      "Current Size: torch.Size([60998])\n",
      "Current Size: torch.Size([60987])\n",
      "Current Size: torch.Size([60985])\n",
      "Current Size: torch.Size([60984])\n",
      "Nodes after filter on mention net: tensor([      10,       27,       31,  ..., 12275466, 12288211, 12309780])\n",
      "Filtering on friend_net:\n",
      "Current Size: torch.Size([56413])\n",
      "Current Size: torch.Size([40258])\n",
      "Current Size: torch.Size([38691])\n",
      "Current Size: torch.Size([38470])\n",
      "Current Size: torch.Size([38440])\n",
      "Current Size: torch.Size([38436])\n",
      "Current nodes: tensor([      10,       27,       31,  ..., 11889042, 11890543, 11923113])\n",
      "Checking...\n",
      "Failed...\n",
      "Filtering on comment_net:\n",
      "Current Size: torch.Size([38436])\n",
      "Current Size: torch.Size([38415])\n",
      "Nodes after filter on comment net: tensor([      10,       27,       31,  ..., 11889042, 11890543, 11923113])\n",
      "Filtering on mention_net:\n",
      "Current Size: torch.Size([38370])\n",
      "Current Size: torch.Size([37275])\n",
      "Current Size: torch.Size([37155])\n",
      "Current Size: torch.Size([37138])\n",
      "Current Size: torch.Size([37137])\n",
      "Nodes after filter on mention net: tensor([      10,       27,       31,  ..., 11889042, 11890543, 11923113])\n",
      "Filtering on friend_net:\n",
      "Current Size: torch.Size([37137])\n",
      "Current Size: torch.Size([36923])\n",
      "Current Size: torch.Size([36897])\n",
      "Current Size: torch.Size([36895])\n",
      "Current nodes: tensor([      10,       27,       31,  ..., 11889042, 11890543, 11923113])\n",
      "Checking...\n",
      "Failed...\n",
      "Filtering on comment_net:\n",
      "Current Size: torch.Size([36895])\n",
      "Nodes after filter on comment net: tensor([      10,       27,       31,  ..., 11889042, 11890543, 11923113])\n",
      "Filtering on mention_net:\n",
      "Current Size: torch.Size([36895])\n",
      "Current Size: torch.Size([36866])\n",
      "Current Size: torch.Size([36863])\n",
      "Nodes after filter on mention net: tensor([      10,       27,       31,  ..., 11889042, 11890543, 11923113])\n",
      "Filtering on friend_net:\n",
      "Current Size: torch.Size([36863])\n",
      "Current Size: torch.Size([36859])\n",
      "Current nodes: tensor([      10,       27,       31,  ..., 11889042, 11890543, 11923113])\n",
      "Checking...\n",
      "Failed...\n",
      "Filtering on comment_net:\n",
      "Current Size: torch.Size([36859])\n",
      "Nodes after filter on comment net: tensor([      10,       27,       31,  ..., 11889042, 11890543, 11923113])\n",
      "Filtering on mention_net:\n",
      "Current Size: torch.Size([36859])\n",
      "Current Size: torch.Size([36858])\n",
      "Nodes after filter on mention net: tensor([      10,       27,       31,  ..., 11889042, 11890543, 11923113])\n",
      "Filtering on friend_net:\n",
      "Current Size: torch.Size([36858])\n",
      "Current nodes: tensor([      10,       27,       31,  ..., 11889042, 11890543, 11923113])\n",
      "Checking...\n",
      "Done!\n"
     ]
    }
   ],
   "source": [
    "# filter out the low degree nodes\n",
    "def checker():\n",
    "    test_nets = [friend_net.subgraph(cur_nodes), comment_net.subgraph(cur_nodes), mention_net.subgraph(cur_nodes)]\n",
    "    \n",
    "    for test_net in test_nets:\n",
    "        _, degs = torch.unique(test_net.edge_index[0], return_counts=True)\n",
    "        unique_degs = torch.unique(degs)\n",
    "        if unique_degs.min() < 5: \n",
    "            print(\"Failed...\")\n",
    "            return False\n",
    "    #\n",
    "    print(\"Done!\")\n",
    "    return True\n",
    "    \n",
    "i = 0\n",
    "hard_loop_cap = 10\n",
    "cur_nodes = torch.arange(num_nodes)\n",
    "while(i < hard_loop_cap):\n",
    "    print(\"Filtering on comment_net:\")\n",
    "    comment_sub_net = comment_net.subgraph(cur_nodes)\n",
    "    nodes_after_filter_on_comment_net = cur_nodes[filter_low_degree_nodes(comment_sub_net)]\n",
    "    print(\"Nodes after filter on comment net:\", nodes_after_filter_on_comment_net)\n",
    "    print(\"Filtering on mention_net:\")\n",
    "    mention_sub_net = mention_net.subgraph(nodes_after_filter_on_comment_net)\n",
    "    nodes_after_filter_on_mention_net = nodes_after_filter_on_comment_net[filter_low_degree_nodes(mention_sub_net)]\n",
    "    print(\"Nodes after filter on mention net:\", nodes_after_filter_on_mention_net)\n",
    "    print(\"Filtering on friend_net:\")\n",
    "    friend_sub_net = friend_net.subgraph(nodes_after_filter_on_mention_net)\n",
    "    cur_nodes = nodes_after_filter_on_mention_net[filter_low_degree_nodes(friend_sub_net)]\n",
    "    print(\"Current nodes:\", cur_nodes)\n",
    "    print(\"Checking...\")\n",
    "    if checker(): break\n",
    "    i += 1\n",
    "#\n",
    "final_nodes = cur_nodes"
   ]
  },
  {
   "cell_type": "code",
   "execution_count": 10,
   "id": "57a104cc",
   "metadata": {},
   "outputs": [],
   "source": [
    "# get final networks\n",
    "final_friend_net = friend_net.subgraph(final_nodes)\n",
    "final_comment_net = comment_net.subgraph(final_nodes)\n",
    "final_mention_net = mention_net.subgraph(final_nodes)"
   ]
  },
  {
   "cell_type": "code",
   "execution_count": 19,
   "id": "3418f9c3",
   "metadata": {},
   "outputs": [],
   "source": [
    "directory = \"ProcessedData\"\n",
    "# write final nodes to file\n",
    "final_nodes_path = directory + \"/included_users_(sorted)\"\n",
    "final_nodes_DF = pd.DataFrame(final_nodes.numpy(),columns=['user_id'])\n",
    "final_nodes_DF.to_csv(final_nodes_path, index = False)\n",
    "\n",
    "print(pd.read_csv(final_nodes_path))\n",
    "\n",
    "# write filtered network edgelists to files"
   ]
  },
  {
   "cell_type": "code",
   "execution_count": null,
   "id": "0d2041a3",
   "metadata": {},
   "outputs": [],
   "source": []
  },
  {
   "cell_type": "markdown",
   "id": "b667c8a5",
   "metadata": {},
   "source": [
    "# Testing"
   ]
  },
  {
   "cell_type": "code",
   "execution_count": null,
   "id": "29725867",
   "metadata": {},
   "outputs": [],
   "source": [
    "# network degrees checker\n",
    "_, degs = torch.unique(final_mention_net.edge_index[0], return_counts=True)\n",
    "unique_degs,counts = torch.unique(degs, return_counts=True)\n",
    "print(unique_degs, counts)"
   ]
  },
  {
   "cell_type": "code",
   "execution_count": null,
   "id": "08da2a00",
   "metadata": {},
   "outputs": [],
   "source": []
  },
  {
   "cell_type": "code",
   "execution_count": null,
   "id": "6fdbbb90",
   "metadata": {},
   "outputs": [],
   "source": []
  },
  {
   "cell_type": "code",
   "execution_count": null,
   "id": "2d351e65",
   "metadata": {},
   "outputs": [],
   "source": []
  },
  {
   "cell_type": "code",
   "execution_count": null,
   "id": "304f7a1a",
   "metadata": {},
   "outputs": [],
   "source": []
  },
  {
   "cell_type": "code",
   "execution_count": null,
   "id": "943a7cb3",
   "metadata": {},
   "outputs": [],
   "source": []
  },
  {
   "cell_type": "code",
   "execution_count": null,
   "id": "5f9a8347",
   "metadata": {},
   "outputs": [],
   "source": []
  },
  {
   "cell_type": "code",
   "execution_count": null,
   "id": "55b4850c",
   "metadata": {},
   "outputs": [],
   "source": []
  },
  {
   "cell_type": "code",
   "execution_count": null,
   "id": "5421c1a5",
   "metadata": {},
   "outputs": [],
   "source": []
  }
 ],
 "metadata": {
  "kernelspec": {
   "display_name": "Python [conda env:pytorch-G]",
   "language": "python",
   "name": "conda-env-pytorch-G-py"
  },
  "language_info": {
   "codemirror_mode": {
    "name": "ipython",
    "version": 3
   },
   "file_extension": ".py",
   "mimetype": "text/x-python",
   "name": "python",
   "nbconvert_exporter": "python",
   "pygments_lexer": "ipython3",
   "version": "3.8.13"
  }
 },
 "nbformat": 4,
 "nbformat_minor": 5
}
