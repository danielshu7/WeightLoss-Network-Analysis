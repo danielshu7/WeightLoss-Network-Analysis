{
 "cells": [
  {
   "cell_type": "code",
   "execution_count": 1,
   "id": "52924618",
   "metadata": {},
   "outputs": [],
   "source": [
    "import pandas as pd"
   ]
  },
  {
   "cell_type": "code",
   "execution_count": null,
   "id": "702295ac",
   "metadata": {},
   "outputs": [],
   "source": [
    "# read in data with relevant features\n",
    "df1 = pd.read_csv(\"WeightLoss/users_consolidated.csv\", usecols = ['id','gendar','height', 'weight', 'bmi'])\n",
    "df2 = pd.read_csv(\"WeightLoss/userprofile.csv\", usecols = ['user_id','age'])"
   ]
  },
  {
   "cell_type": "code",
   "execution_count": null,
   "id": "b8d83550",
   "metadata": {},
   "outputs": [],
   "source": [
    "# merge\n",
    "df1 = df1.rename(columns={\"id\": \"user_id\", \"gendar\" : \"gender\"})\n",
    "user_info = pd.merge(df1, df2).set_index('user_id')"
   ]
  },
  {
   "cell_type": "code",
   "execution_count": null,
   "id": "0b6df43f",
   "metadata": {},
   "outputs": [],
   "source": [
    "# read in our selected nodes\n",
    "users = pd.read_csv(\"ProcessedData/included_users_(sorted).csv\")\n",
    "users_list = users.values.ravel().tolist()"
   ]
  },
  {
   "cell_type": "code",
   "execution_count": null,
   "id": "5b60537b",
   "metadata": {},
   "outputs": [],
   "source": [
    "# filter user_info/features and save\n",
    "features = user_info.filter(items=users_list,axis=0)\n",
    "features.to_csv(\"ProcessedData/features.csv\")"
   ]
  },
  {
   "cell_type": "code",
   "execution_count": null,
   "id": "8b879bae",
   "metadata": {},
   "outputs": [],
   "source": [
    "print(features)"
   ]
  },
  {
   "cell_type": "code",
   "execution_count": null,
   "id": "b526623b",
   "metadata": {},
   "outputs": [],
   "source": [
    "# to read back:\n",
    "print(pd.read_csv(\"ProcessedData/features.csv\", index_col=0))"
   ]
  },
  {
   "cell_type": "code",
   "execution_count": null,
   "id": "aca6bd78",
   "metadata": {},
   "outputs": [],
   "source": []
  },
  {
   "cell_type": "code",
   "execution_count": null,
   "id": "6003dd48",
   "metadata": {},
   "outputs": [],
   "source": []
  },
  {
   "cell_type": "code",
   "execution_count": null,
   "id": "1a0b307e",
   "metadata": {},
   "outputs": [],
   "source": []
  }
 ],
 "metadata": {
  "kernelspec": {
   "display_name": "Python [conda env:pytorch-G]",
   "language": "python",
   "name": "conda-env-pytorch-G-py"
  },
  "language_info": {
   "codemirror_mode": {
    "name": "ipython",
    "version": 3
   },
   "file_extension": ".py",
   "mimetype": "text/x-python",
   "name": "python",
   "nbconvert_exporter": "python",
   "pygments_lexer": "ipython3",
   "version": "3.8.13"
  }
 },
 "nbformat": 4,
 "nbformat_minor": 5
}
