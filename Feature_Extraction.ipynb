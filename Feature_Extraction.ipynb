{
 "cells": [
  {
   "cell_type": "code",
   "execution_count": 1,
   "id": "9f381dfc",
   "metadata": {},
   "outputs": [],
   "source": [
    "import pandas as pd"
   ]
  },
  {
   "cell_type": "code",
   "execution_count": 2,
   "id": "9f3376e0",
   "metadata": {},
   "outputs": [],
   "source": [
    "# read in data with relevant features\n",
    "df1 = pd.read_csv(\"WeightLoss/users_consolidated.csv\", usecols = ['id','gendar','height', 'weight', 'bmi'])\n",
    "df2 = pd.read_csv(\"WeightLoss/userprofile.csv\", usecols = ['user_id','age'])"
   ]
  },
  {
   "cell_type": "code",
   "execution_count": 3,
   "id": "8367afa9",
   "metadata": {},
   "outputs": [],
   "source": [
    "# merge\n",
    "df1 = df1.rename(columns={\"id\": \"user_id\", \"gendar\" : \"gender\"})\n",
    "user_info = pd.merge(df1, df2).set_index('user_id')"
   ]
  },
  {
   "cell_type": "code",
   "execution_count": 4,
   "id": "c2da3fc3",
   "metadata": {},
   "outputs": [],
   "source": [
    "# read in our selected nodes\n",
    "users = pd.read_csv(\"ProcessedData/included_users_(sorted).csv\")\n",
    "users_list = users.values.ravel().tolist()"
   ]
  },
  {
   "cell_type": "code",
   "execution_count": 5,
   "id": "dbaadc06",
   "metadata": {},
   "outputs": [],
   "source": [
    "# filter user_info/features and save\n",
    "features = user_info.filter(items=users_list,axis=0)\n",
    "features.to_csv(\"ProcessedData/features.csv\")"
   ]
  },
  {
   "cell_type": "code",
   "execution_count": 6,
   "id": "b576e17f",
   "metadata": {},
   "outputs": [
    {
     "name": "stdout",
     "output_type": "stream",
     "text": [
      "         gender   height  weight    bmi  age\n",
      "user_id                                     \n",
      "3             2  162.000  65.600  25.00   25\n",
      "4             2  165.000  75.000  27.55   34\n",
      "10            2  172.000  63.000  21.30   19\n",
      "27            2  155.000  46.700  19.44   23\n",
      "31            2  162.000  80.000  30.48   30\n",
      "...         ...      ...     ...    ...  ...\n",
      "11949655      2  162.000  65.000  24.77   23\n",
      "11949713      2  174.000  59.600  19.69   19\n",
      "11949862      2  163.000  58.100  21.87   19\n",
      "11950136      2  165.000  54.000  19.83   22\n",
      "11950314      2  162.000  81.000  30.86   38\n",
      "\n",
      "[83701 rows x 5 columns]\n"
     ]
    }
   ],
   "source": [
    "print(features)"
   ]
  },
  {
   "cell_type": "code",
   "execution_count": 7,
   "id": "f0b84247",
   "metadata": {},
   "outputs": [
    {
     "name": "stdout",
     "output_type": "stream",
     "text": [
      "         gender   height  weight    bmi  age\n",
      "user_id                                     \n",
      "3             2  162.000  65.600  25.00   25\n",
      "4             2  165.000  75.000  27.55   34\n",
      "10            2  172.000  63.000  21.30   19\n",
      "27            2  155.000  46.700  19.44   23\n",
      "31            2  162.000  80.000  30.48   30\n",
      "...         ...      ...     ...    ...  ...\n",
      "11949655      2  162.000  65.000  24.77   23\n",
      "11949713      2  174.000  59.600  19.69   19\n",
      "11949862      2  163.000  58.100  21.87   19\n",
      "11950136      2  165.000  54.000  19.83   22\n",
      "11950314      2  162.000  81.000  30.86   38\n",
      "\n",
      "[83701 rows x 5 columns]\n"
     ]
    }
   ],
   "source": [
    "# to read back:\n",
    "print(pd.read_csv(\"ProcessedData/features.csv\", index_col=0))"
   ]
  },
  {
   "cell_type": "code",
   "execution_count": null,
   "id": "419211e1",
   "metadata": {},
   "outputs": [],
   "source": []
  },
  {
   "cell_type": "code",
   "execution_count": null,
   "id": "8163c4fd",
   "metadata": {},
   "outputs": [],
   "source": []
  },
  {
   "cell_type": "code",
   "execution_count": null,
   "id": "a94ec560",
   "metadata": {},
   "outputs": [],
   "source": []
  }
 ],
 "metadata": {
  "kernelspec": {
   "display_name": "Python [conda env:pytorch-G]",
   "language": "python",
   "name": "conda-env-pytorch-G-py"
  },
  "language_info": {
   "codemirror_mode": {
    "name": "ipython",
    "version": 3
   },
   "file_extension": ".py",
   "mimetype": "text/x-python",
   "name": "python",
   "nbconvert_exporter": "python",
   "pygments_lexer": "ipython3",
   "version": "3.8.13"
  }
 },
 "nbformat": 4,
 "nbformat_minor": 5
}
