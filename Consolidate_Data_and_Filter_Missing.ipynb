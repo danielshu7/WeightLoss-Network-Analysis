{
 "cells": [
  {
   "cell_type": "code",
   "execution_count": 1,
   "id": "77e53c81",
   "metadata": {},
   "outputs": [],
   "source": [
    "import pandas as pd"
   ]
  },
  {
   "cell_type": "code",
   "execution_count": 2,
   "id": "bed0eac2",
   "metadata": {},
   "outputs": [],
   "source": [
    "# read in relevant feature/label data\n",
    "df1 = pd.read_csv(\"WeightLoss/users_consolidated.csv\", usecols = ['id','gendar','height', 'weight', 'bmi', 'latest_weight'], na_values=[\"$null$\",0])\n",
    "df2 = pd.read_csv(\"WeightLoss/userprofile.csv\", usecols = ['user_id','age'], na_values=0)"
   ]
  },
  {
   "cell_type": "code",
   "execution_count": 3,
   "id": "60f86212",
   "metadata": {},
   "outputs": [],
   "source": [
    "# merge & filter out missing data\n",
    "df1 = df1.rename(columns={\"id\": \"user_id\", \"gendar\" : \"gender\"})\n",
    "all_user_info = pd.merge(df1, df2).set_index('user_id')\n",
    "all_user_info.dropna(inplace=True)"
   ]
  },
  {
   "cell_type": "code",
   "execution_count": 4,
   "id": "96b4558c",
   "metadata": {},
   "outputs": [],
   "source": [
    "# save to file\n",
    "all_user_info.to_csv(\"ProcessedData/valid_user_info_consolidated.csv\")"
   ]
  },
  {
   "cell_type": "code",
   "execution_count": null,
   "id": "f8639df2",
   "metadata": {},
   "outputs": [],
   "source": []
  },
  {
   "cell_type": "code",
   "execution_count": null,
   "id": "8cff7876",
   "metadata": {},
   "outputs": [],
   "source": []
  },
  {
   "cell_type": "code",
   "execution_count": null,
   "id": "b2f1c1bb",
   "metadata": {},
   "outputs": [],
   "source": []
  },
  {
   "cell_type": "code",
   "execution_count": null,
   "id": "12c129f6",
   "metadata": {},
   "outputs": [],
   "source": []
  }
 ],
 "metadata": {
  "kernelspec": {
   "display_name": "Python [conda env:pytorch-G]",
   "language": "python",
   "name": "conda-env-pytorch-G-py"
  },
  "language_info": {
   "codemirror_mode": {
    "name": "ipython",
    "version": 3
   },
   "file_extension": ".py",
   "mimetype": "text/x-python",
   "name": "python",
   "nbconvert_exporter": "python",
   "pygments_lexer": "ipython3",
   "version": "3.8.13"
  }
 },
 "nbformat": 4,
 "nbformat_minor": 5
}
