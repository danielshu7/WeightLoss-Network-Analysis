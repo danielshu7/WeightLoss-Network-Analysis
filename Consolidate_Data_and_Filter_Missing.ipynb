{
 "cells": [
  {
   "cell_type": "code",
   "execution_count": 1,
   "id": "e94a5366",
   "metadata": {},
   "outputs": [],
   "source": [
    "import pandas as pd"
   ]
  },
  {
   "cell_type": "code",
   "execution_count": 25,
   "id": "1ffcf65d",
   "metadata": {},
   "outputs": [],
   "source": [
    "# read in relevant feature/label data\n",
    "df1 = pd.read_csv(\"WeightLoss/users_consolidated.csv\", usecols = ['id','gendar','height', 'weight', 'bmi', 'latest_weight'], na_values=[\"$null$\",0])\n",
    "df2 = pd.read_csv(\"WeightLoss/userprofile.csv\", usecols = ['user_id','age'], na_values=0)"
   ]
  },
  {
   "cell_type": "code",
   "execution_count": 39,
   "id": "3cdb34fe",
   "metadata": {},
   "outputs": [],
   "source": [
    "# merge & filter out missing data\n",
    "df1 = df1.rename(columns={\"id\": \"user_id\", \"gendar\" : \"gender\"})\n",
    "all_user_info = pd.merge(df1, df2).set_index('user_id')\n",
    "all_user_info.dropna(inplace=True)"
   ]
  },
  {
   "cell_type": "code",
   "execution_count": 40,
   "id": "c2e1d770",
   "metadata": {},
   "outputs": [],
   "source": [
    "# save to file\n",
    "all_user_info.to_csv(\"ProcessedData/valid_user_info_consolidated.csv\")"
   ]
  },
  {
   "cell_type": "code",
   "execution_count": null,
   "id": "e3b603e5",
   "metadata": {},
   "outputs": [],
   "source": []
  },
  {
   "cell_type": "code",
   "execution_count": null,
   "id": "0a2fa40f",
   "metadata": {},
   "outputs": [],
   "source": []
  },
  {
   "cell_type": "code",
   "execution_count": null,
   "id": "cfa95fde",
   "metadata": {},
   "outputs": [],
   "source": []
  },
  {
   "cell_type": "code",
   "execution_count": null,
   "id": "1365398d",
   "metadata": {},
   "outputs": [],
   "source": []
  }
 ],
 "metadata": {
  "kernelspec": {
   "display_name": "Python [conda env:pytorch-G]",
   "language": "python",
   "name": "conda-env-pytorch-G-py"
  },
  "language_info": {
   "codemirror_mode": {
    "name": "ipython",
    "version": 3
   },
   "file_extension": ".py",
   "mimetype": "text/x-python",
   "name": "python",
   "nbconvert_exporter": "python",
   "pygments_lexer": "ipython3",
   "version": "3.8.13"
  }
 },
 "nbformat": 4,
 "nbformat_minor": 5
}
